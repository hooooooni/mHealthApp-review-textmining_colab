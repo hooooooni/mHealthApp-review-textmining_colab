{
  "cells": [
    {
      "cell_type": "markdown",
      "metadata": {
        "id": "view-in-github",
        "colab_type": "text"
      },
      "source": [
        "<a href=\"https://colab.research.google.com/github/hooooooni/mHealthApp-review-textmining_colab/blob/main/okt_colab_crawling.ipynb\" target=\"_parent\"><img src=\"https://colab.research.google.com/assets/colab-badge.svg\" alt=\"Open In Colab\"/></a>"
      ]
    },
    {
      "cell_type": "markdown",
      "metadata": {
        "id": "ewGVN7w-lj1k"
      },
      "source": [
        "구글 플레이 스토어에서 리뷰 데이터를 가져올 예정입니다."
      ]
    },
    {
      "cell_type": "code",
      "source": [
        "!pip install -q condacolab\n",
        "import condacolab\n",
        "condacolab.install()"
      ],
      "metadata": {
        "id": "KgV7jAs4EaFe",
        "outputId": "ae38476f-be4b-4a3e-8369-d0026c715e84",
        "colab": {
          "base_uri": "https://localhost:8080/"
        }
      },
      "execution_count": 2,
      "outputs": [
        {
          "output_type": "stream",
          "name": "stdout",
          "text": [
            "\u001b[33mWARNING: Running pip as the 'root' user can result in broken permissions and conflicting behaviour with the system package manager. It is recommended to use a virtual environment instead: https://pip.pypa.io/warnings/venv\u001b[0m\u001b[33m\n",
            "\u001b[0m✨🍰✨ Everything looks OK!\n"
          ]
        }
      ]
    },
    {
      "cell_type": "code",
      "source": [
        "import condacolab\n",
        "condacolab.check()"
      ],
      "metadata": {
        "id": "V_XMHONTEb8d",
        "outputId": "ae08ef4d-8aac-406c-a432-d4d700fb31c1",
        "colab": {
          "base_uri": "https://localhost:8080/"
        }
      },
      "execution_count": 3,
      "outputs": [
        {
          "output_type": "stream",
          "name": "stdout",
          "text": [
            "✨🍰✨ Everything looks OK!\n"
          ]
        }
      ]
    },
    {
      "cell_type": "code",
      "source": [
        "!conda install openmm\n",
        "\n",
        "!conda env update -n base -f environment.yml"
      ],
      "metadata": {
        "id": "SSwGmqDJEeqe",
        "colab": {
          "base_uri": "https://localhost:8080/"
        },
        "outputId": "2779fb48-9d39-47ca-cda5-bce16bc7f721"
      },
      "execution_count": 4,
      "outputs": [
        {
          "output_type": "stream",
          "name": "stdout",
          "text": [
            "Collecting package metadata (current_repodata.json): - \b\b\\ \b\b| \b\b/ \b\b- \b\b\\ \b\b| \b\b/ \b\b- \b\b\\ \b\b| \b\b/ \b\b- \b\b\\ \b\b| \b\b/ \b\b- \b\b\\ \b\b| \b\b/ \b\b- \b\b\\ \b\b| \b\b/ \b\b- \b\b\\ \b\b| \b\b/ \b\b- \b\b\\ \b\b| \b\b/ \b\b- \b\b\\ \b\b| \b\b/ \b\b- \b\b\\ \b\b| \b\b/ \b\b- \b\b\\ \b\b| \b\b/ \b\b- \b\b\\ \b\b| \b\b/ \b\b- \b\b\\ \b\b| \b\b/ \b\b- \b\b\\ \b\b| \b\b/ \b\b- \b\b\\ \b\b| \b\b/ \b\b- \b\b\\ \b\b| \b\b/ \b\b- \b\b\\ \b\b| \b\b/ \b\b- \b\b\\ \b\b| \b\b/ \b\b- \b\b\\ \b\b| \b\b/ \b\b- \b\b\\ \b\b| \b\b/ \b\b- \b\b\\ \b\b| \b\b/ \b\b- \b\b\\ \b\b| \b\b/ \b\b- \b\b\\ \b\b| \b\b/ \b\b- \b\b\\ \b\b| \b\b/ \b\b- \b\b\\ \b\b| \b\b/ \b\b- \b\b\\ \b\b| \b\b/ \b\b- \b\b\\ \b\b| \b\b/ \b\b- \b\b\\ \b\b| \b\b/ \b\b- \b\b\\ \b\b| \b\b/ \b\b- \b\b\\ \b\b| \b\b/ \b\b- \b\b\\ \b\b| \b\b/ \b\b- \b\b\\ \b\b| \b\b/ \b\b- \b\b\\ \b\b| \b\b/ \b\b- \b\b\\ \b\b| \b\b/ \b\b- \b\b\\ \b\b| \b\b/ \b\b- \b\b\\ \b\b| \b\b/ \b\b- \b\b\\ \b\b| \b\b/ \b\b- \b\b\\ \b\b| \b\b/ \b\b- \b\b\\ \b\b| \b\b/ \b\b- \b\b\\ \b\b| \b\b/ \b\b- \b\b\\ \b\b| \b\b/ \b\b- \b\b\\ \b\b| \b\b/ \b\b- \b\b\\ \b\b| \b\b/ \b\b- \b\b\\ \b\b| \b\b/ \b\b- \b\b\\ \b\b| \b\b/ \b\b- \b\b\\ \b\b| \b\b/ \b\b- \b\b\\ \b\b| \b\b/ \b\b- \b\b\\ \b\b| \b\b/ \b\b- \b\b\\ \b\b| \b\b/ \b\b- \b\b\\ \b\b| \b\b/ \b\b- \b\b\\ \b\b| \b\b/ \b\bdone\n",
            "Solving environment: \\ \b\b| \b\b/ \b\b- \b\b\\ \b\b| \b\b/ \b\b- \b\b\\ \b\b| \b\b/ \b\b- \b\b\\ \b\b| \b\b/ \b\b- \b\b\\ \b\b| \b\b/ \b\b- \b\b\\ \b\b| \b\b/ \b\b- \b\b\\ \b\b| \b\b/ \b\b- \b\b\\ \b\b| \b\b/ \b\b- \b\b\\ \b\b| \b\b/ \b\b- \b\b\\ \b\b| \b\b/ \b\b- \b\b\\ \b\b| \b\b/ \b\b- \b\b\\ \b\b| \b\b/ \b\b- \b\b\\ \b\b| \b\b/ \b\b- \b\b\\ \b\b| \b\b/ \b\b- \b\b\\ \b\b| \b\b/ \b\b- \b\b\\ \b\b| \b\b/ \b\b- \b\b\\ \b\b| \b\b/ \b\b- \b\b\\ \b\b| \b\b/ \b\b- \b\b\\ \b\b| \b\b/ \b\b- \b\b\\ \b\b| \b\b/ \b\b- \b\bdone\n",
            "\n",
            "\n",
            "==> WARNING: A newer version of conda exists. <==\n",
            "  current version: 23.1.0\n",
            "  latest version: 23.11.0\n",
            "\n",
            "Please update conda by running\n",
            "\n",
            "    $ conda update -n base -c conda-forge conda\n",
            "\n",
            "Or to minimize the number of packages updated during conda update use\n",
            "\n",
            "     conda install conda=23.11.0\n",
            "\n",
            "\n",
            "\n",
            "## Package Plan ##\n",
            "\n",
            "  environment location: /usr/local\n",
            "\n",
            "  added / updated specs:\n",
            "    - openmm\n",
            "\n",
            "\n",
            "The following packages will be downloaded:\n",
            "\n",
            "    package                    |            build\n",
            "    ---------------------------|-----------------\n",
            "    ca-certificates-2023.11.17 |       hbcca054_0         151 KB  conda-forge\n",
            "    certifi-2023.11.17         |     pyhd8ed1ab_0         155 KB  conda-forge\n",
            "    cudatoolkit-11.8.0         |      h4ba93d1_12       682.8 MB  conda-forge\n",
            "    libblas-3.9.0              |20_linux64_openblas          14 KB  conda-forge\n",
            "    libcblas-3.9.0             |20_linux64_openblas          14 KB  conda-forge\n",
            "    libgfortran-ng-13.2.0      |       h69a702a_0          23 KB  conda-forge\n",
            "    libgfortran5-13.2.0        |       ha4646dd_0         1.4 MB  conda-forge\n",
            "    liblapack-3.9.0            |20_linux64_openblas          14 KB  conda-forge\n",
            "    libopenblas-0.3.25         |pthreads_h413a1c8_0         5.3 MB  conda-forge\n",
            "    numpy-1.26.2               |  py310hb13e2d6_0         6.6 MB  conda-forge\n",
            "    ocl-icd-2.3.1              |       h7f98852_0         119 KB  conda-forge\n",
            "    ocl-icd-system-1.0.0       |                1           4 KB  conda-forge\n",
            "    openmm-8.1.0               |  py310h52c1345_1        11.0 MB  conda-forge\n",
            "    openssl-3.2.0              |       hd590300_1         2.7 MB  conda-forge\n",
            "    python_abi-3.10            |          4_cp310           6 KB  conda-forge\n",
            "    scipy-1.11.4               |  py310hb13e2d6_0        14.5 MB  conda-forge\n",
            "    ------------------------------------------------------------\n",
            "                                           Total:       724.8 MB\n",
            "\n",
            "The following NEW packages will be INSTALLED:\n",
            "\n",
            "  cudatoolkit        conda-forge/linux-64::cudatoolkit-11.8.0-h4ba93d1_12 \n",
            "  libblas            conda-forge/linux-64::libblas-3.9.0-20_linux64_openblas \n",
            "  libcblas           conda-forge/linux-64::libcblas-3.9.0-20_linux64_openblas \n",
            "  libgfortran-ng     conda-forge/linux-64::libgfortran-ng-13.2.0-h69a702a_0 \n",
            "  libgfortran5       conda-forge/linux-64::libgfortran5-13.2.0-ha4646dd_0 \n",
            "  liblapack          conda-forge/linux-64::liblapack-3.9.0-20_linux64_openblas \n",
            "  libopenblas        conda-forge/linux-64::libopenblas-0.3.25-pthreads_h413a1c8_0 \n",
            "  numpy              conda-forge/linux-64::numpy-1.26.2-py310hb13e2d6_0 \n",
            "  ocl-icd            conda-forge/linux-64::ocl-icd-2.3.1-h7f98852_0 \n",
            "  ocl-icd-system     conda-forge/linux-64::ocl-icd-system-1.0.0-1 \n",
            "  openmm             conda-forge/linux-64::openmm-8.1.0-py310h52c1345_1 \n",
            "  scipy              conda-forge/linux-64::scipy-1.11.4-py310hb13e2d6_0 \n",
            "\n",
            "The following packages will be UPDATED:\n",
            "\n",
            "  ca-certificates                      2022.12.7-ha878542_0 --> 2023.11.17-hbcca054_0 \n",
            "  certifi                            2022.12.7-pyhd8ed1ab_0 --> 2023.11.17-pyhd8ed1ab_0 \n",
            "  openssl                                  3.1.0-h0b41bf4_0 --> 3.2.0-hd590300_1 \n",
            "  python_abi                                   3.10-3_cp310 --> 3.10-4_cp310 \n",
            "\n",
            "\n",
            "\n",
            "Downloading and Extracting Packages\n",
            "cudatoolkit-11.8.0   | 682.8 MB  | :   0% 0/1 [00:00<?, ?it/s]\n",
            "liblapack-3.9.0      | 14 KB     | :   0% 0/1 [00:00<?, ?it/s]\u001b[A\n",
            "\n",
            "openmm-8.1.0         | 11.0 MB   | :   0% 0/1 [00:00<?, ?it/s]\u001b[A\u001b[A\n",
            "\n",
            "\n",
            "python_abi-3.10      | 6 KB      | :   0% 0/1 [00:00<?, ?it/s]\u001b[A\u001b[A\u001b[A\n",
            "\n",
            "\n",
            "\n",
            "certifi-2023.11.17   | 155 KB    | :   0% 0/1 [00:00<?, ?it/s]\u001b[A\u001b[A\u001b[A\u001b[A\n",
            "\n",
            "\n",
            "\n",
            "\n",
            "libgfortran-ng-13.2. | 23 KB     | :   0% 0/1 [00:00<?, ?it/s]\u001b[A\u001b[A\u001b[A\u001b[A\u001b[A\n",
            "\n",
            "\n",
            "\n",
            "\n",
            "\n",
            "libgfortran5-13.2.0  | 1.4 MB    | :   0% 0/1 [00:00<?, ?it/s]\u001b[A\u001b[A\u001b[A\u001b[A\u001b[A\u001b[A\n",
            "\n",
            "\n",
            "\n",
            "\n",
            "\n",
            "\n",
            "ocl-icd-2.3.1        | 119 KB    | :   0% 0/1 [00:00<?, ?it/s]\u001b[A\u001b[A\u001b[A\u001b[A\u001b[A\u001b[A\u001b[A\n",
            "\n",
            "\n",
            "\n",
            "\n",
            "\n",
            "\n",
            "\n",
            "libcblas-3.9.0       | 14 KB     | :   0% 0/1 [00:00<?, ?it/s]\u001b[A\u001b[A\u001b[A\u001b[A\u001b[A\u001b[A\u001b[A\u001b[A\n",
            "\n",
            "\n",
            "\n",
            "\n",
            "\n",
            "\n",
            "\n",
            "\n",
            "openssl-3.2.0        | 2.7 MB    | :   0% 0/1 [00:00<?, ?it/s]\u001b[A\u001b[A\u001b[A\u001b[A\u001b[A\u001b[A\u001b[A\u001b[A\u001b[A\n",
            "\n",
            "\n",
            "\n",
            "\n",
            "\n",
            "\n",
            "\n",
            "\n",
            "\n",
            "ocl-icd-system-1.0.0 | 4 KB      | :   0% 0/1 [00:00<?, ?it/s]\u001b[A\u001b[A\u001b[A\u001b[A\u001b[A\u001b[A\u001b[A\u001b[A\u001b[A\u001b[A\n",
            "\n",
            "\n",
            "\n",
            "\n",
            "\n",
            "\n",
            "\n",
            "\n",
            "\n",
            "\n",
            "libblas-3.9.0        | 14 KB     | :   0% 0/1 [00:00<?, ?it/s]\u001b[A\u001b[A\u001b[A\u001b[A\u001b[A\u001b[A\u001b[A\u001b[A\u001b[A\u001b[A\u001b[A\n",
            "\n",
            "\n",
            "\n",
            "\n",
            "\n",
            "\n",
            "\n",
            "\n",
            "\n",
            "\n",
            "\n",
            "libopenblas-0.3.25   | 5.3 MB    | :   0% 0/1 [00:00<?, ?it/s]\u001b[A\u001b[A\u001b[A\u001b[A\u001b[A\u001b[A\u001b[A\u001b[A\u001b[A\u001b[A\u001b[A\u001b[A\n",
            "\n",
            "\n",
            "\n",
            "\n",
            "\n",
            "\n",
            "\n",
            "\n",
            "\n",
            "\n",
            "\n",
            "\n",
            "numpy-1.26.2         | 6.6 MB    | :   0% 0/1 [00:00<?, ?it/s]\u001b[A\u001b[A\u001b[A\u001b[A\u001b[A\u001b[A\u001b[A\u001b[A\u001b[A\u001b[A\u001b[A\u001b[A\u001b[A\n",
            "\n",
            "\n",
            "\n",
            "\n",
            "\n",
            "\n",
            "\n",
            "\n",
            "\n",
            "\n",
            "\n",
            "\n",
            "\n",
            "scipy-1.11.4         | 14.5 MB   | :   0% 0/1 [00:00<?, ?it/s]\u001b[A\u001b[A\u001b[A\u001b[A\u001b[A\u001b[A\u001b[A\u001b[A\u001b[A\u001b[A\u001b[A\u001b[A\u001b[A\u001b[A\n",
            "\n",
            "\n",
            "\n",
            "\n",
            "\n",
            "\n",
            "\n",
            "\n",
            "\n",
            "\n",
            "\n",
            "\n",
            "\n",
            "\n",
            "ca-certificates-2023 | 151 KB    | :   0% 0/1 [00:00<?, ?it/s]\u001b[A\u001b[A\u001b[A\u001b[A\u001b[A\u001b[A\u001b[A\u001b[A\u001b[A\u001b[A\u001b[A\u001b[A\u001b[A\u001b[A\u001b[A\n",
            "liblapack-3.9.0      | 14 KB     | : 100% 1.0/1 [00:00<00:00,  8.50it/s]\u001b[A\n",
            "liblapack-3.9.0      | 14 KB     | : 100% 1.0/1 [00:00<00:00,  8.50it/s]\u001b[A\n",
            "\n",
            "\n",
            "\n",
            "certifi-2023.11.17   | 155 KB    | :  10% 0.1030835729430788/1 [00:00<00:01,  1.22s/it]\u001b[A\u001b[A\u001b[A\u001b[A\n",
            "\n",
            "\n",
            "python_abi-3.10      | 6 KB      | : 100% 1.0/1 [00:00<00:00,  6.96it/s]\u001b[A\u001b[A\u001b[A\n",
            "\n",
            "cudatoolkit-11.8.0   | 682.8 MB  | :   0% 2.2882690512783998e-05/1 [00:00<1:57:59, 7079.23s/it]\n",
            "\n",
            "\n",
            "\n",
            "\n",
            "libgfortran-ng-13.2. | 23 KB     | :  70% 0.7045366587830574/1 [00:00<00:00,  4.99it/s]\u001b[A\u001b[A\u001b[A\u001b[A\u001b[A\n",
            "\n",
            "\n",
            "\n",
            "\n",
            "\n",
            "libgfortran5-13.2.0  | 1.4 MB    | :   1% 0.011365157717229271/1 [00:00<00:15, 15.83s/it]\u001b[A\u001b[A\u001b[A\u001b[A\u001b[A\u001b[A\n",
            "\n",
            "\n",
            "\n",
            "\n",
            "\n",
            "\n",
            "ocl-icd-2.3.1        | 119 KB    | :  13% 0.1348865928456757/1 [00:00<00:01,  1.35s/it]\u001b[A\u001b[A\u001b[A\u001b[A\u001b[A\u001b[A\u001b[A\n",
            "\n",
            "\n",
            "\n",
            "\n",
            "\n",
            "\n",
            "\n",
            "libcblas-3.9.0       | 14 KB     | : 100% 1.0/1 [00:00<00:00,  5.27it/s]\u001b[A\u001b[A\u001b[A\u001b[A\u001b[A\u001b[A\u001b[A\u001b[A\n",
            "\n",
            "\n",
            "python_abi-3.10      | 6 KB      | : 100% 1.0/1 [00:00<00:00,  6.96it/s]\u001b[A\u001b[A\u001b[A\n",
            "\n",
            "\n",
            "\n",
            "\n",
            "\n",
            "\n",
            "\n",
            "\n",
            "openssl-3.2.0        | 2.7 MB    | :   1% 0.005740507613074931/1 [00:00<00:39, 39.53s/it]\u001b[A\u001b[A\u001b[A\u001b[A\u001b[A\u001b[A\u001b[A\u001b[A\u001b[A\n",
            "\n",
            "\n",
            "\n",
            "certifi-2023.11.17   | 155 KB    | : 100% 1.0/1 [00:00<00:00,  4.79it/s]               \u001b[A\u001b[A\u001b[A\u001b[A\n",
            "\n",
            "\n",
            "\n",
            "certifi-2023.11.17   | 155 KB    | : 100% 1.0/1 [00:00<00:00,  4.79it/s]\u001b[A\u001b[A\u001b[A\u001b[A\n",
            "\n",
            "cudatoolkit-11.8.0   | 682.8 MB  | :   0% 0.0034781689579431677/1 [00:00<01:01, 61.84s/it]     \n",
            "\n",
            "\n",
            "\n",
            "\n",
            "\n",
            "\n",
            "\n",
            "\n",
            "\n",
            "ocl-icd-system-1.0.0 | 4 KB      | : 100% 1.0/1 [00:00<00:00,  4.15it/s]\u001b[A\u001b[A\u001b[A\u001b[A\u001b[A\u001b[A\u001b[A\u001b[A\u001b[A\u001b[A\n",
            "\n",
            "\n",
            "\n",
            "\n",
            "\n",
            "\n",
            "\n",
            "\n",
            "\n",
            "\n",
            "libblas-3.9.0        | 14 KB     | : 100% 1.0/1 [00:00<00:00,  3.30it/s]\u001b[A\u001b[A\u001b[A\u001b[A\u001b[A\u001b[A\u001b[A\u001b[A\u001b[A\u001b[A\u001b[A\n",
            "\n",
            "\n",
            "\n",
            "\n",
            "\n",
            "\n",
            "\n",
            "\n",
            "\n",
            "\n",
            "\n",
            "libopenblas-0.3.25   | 5.3 MB    | :   0% 0.0029546439432233717/1 [00:00<01:42, 102.72s/it]\u001b[A\u001b[A\u001b[A\u001b[A\u001b[A\u001b[A\u001b[A\u001b[A\u001b[A\u001b[A\u001b[A\u001b[A\n",
            "\n",
            "\n",
            "\n",
            "\n",
            "\n",
            "\n",
            "\n",
            "\n",
            "openssl-3.2.0        | 2.7 MB    | :  72% 0.7175634516343664/1 [00:00<00:00,  2.76it/s]  \u001b[A\u001b[A\u001b[A\u001b[A\u001b[A\u001b[A\u001b[A\u001b[A\u001b[A\n",
            "\n",
            "\n",
            "\n",
            "\n",
            "libgfortran-ng-13.2. | 23 KB     | : 100% 1.0/1 [00:00<00:00,  4.99it/s]               \u001b[A\u001b[A\u001b[A\u001b[A\u001b[A\n",
            "\n",
            "\n",
            "\n",
            "\n",
            "\n",
            "\n",
            "\n",
            "libcblas-3.9.0       | 14 KB     | : 100% 1.0/1 [00:00<00:00,  5.27it/s]\u001b[A\u001b[A\u001b[A\u001b[A\u001b[A\u001b[A\u001b[A\u001b[A\n",
            "\n",
            "cudatoolkit-11.8.0   | 682.8 MB  | :   1% 0.00549184572306816/1 [00:00<00:57, 57.83s/it]  \n",
            "\n",
            "\n",
            "\n",
            "\n",
            "\n",
            "\n",
            "\n",
            "\n",
            "\n",
            "\n",
            "\n",
            "\n",
            "numpy-1.26.2         | 6.6 MB    | :   0% 0.002366694324324949/1 [00:00<02:25, 146.31s/it]\u001b[A\u001b[A\u001b[A\u001b[A\u001b[A\u001b[A\u001b[A\u001b[A\u001b[A\u001b[A\u001b[A\u001b[A\u001b[A\n",
            "\n",
            "\n",
            "\n",
            "\n",
            "\n",
            "\n",
            "\n",
            "\n",
            "\n",
            "ocl-icd-system-1.0.0 | 4 KB      | : 100% 1.0/1 [00:00<00:00,  4.15it/s]\u001b[A\u001b[A\u001b[A\u001b[A\u001b[A\u001b[A\u001b[A\u001b[A\u001b[A\u001b[A\n",
            "\n",
            "\n",
            "\n",
            "\n",
            "\n",
            "\n",
            "\n",
            "\n",
            "\n",
            "\n",
            "\n",
            "\n",
            "\n",
            "scipy-1.11.4         | 14.5 MB   | :   0% 0.0010740495687249143/1 [00:00<06:09, 369.68s/it]\u001b[A\u001b[A\u001b[A\u001b[A\u001b[A\u001b[A\u001b[A\u001b[A\u001b[A\u001b[A\u001b[A\u001b[A\u001b[A\u001b[A\n",
            "\n",
            "\n",
            "\n",
            "\n",
            "\n",
            "\n",
            "\n",
            "\n",
            "\n",
            "\n",
            "\n",
            "libopenblas-0.3.25   | 5.3 MB    | :  38% 0.3752397807893682/1 [00:00<00:00,  1.18it/s]    \u001b[A\u001b[A\u001b[A\u001b[A\u001b[A\u001b[A\u001b[A\u001b[A\u001b[A\u001b[A\u001b[A\u001b[A\n",
            "\n",
            "cudatoolkit-11.8.0   | 682.8 MB  | :   1% 0.007619935940757072/1 [00:00<00:53, 53.59s/it]\n",
            "\n",
            "\n",
            "\n",
            "\n",
            "\n",
            "\n",
            "\n",
            "\n",
            "\n",
            "\n",
            "\n",
            "\n",
            "numpy-1.26.2         | 6.6 MB    | :  27% 0.2745365416216941/1 [00:00<00:00,  1.25s/it]   \u001b[A\u001b[A\u001b[A\u001b[A\u001b[A\u001b[A\u001b[A\u001b[A\u001b[A\u001b[A\u001b[A\u001b[A\u001b[A\n",
            "\n",
            "\n",
            "\n",
            "\n",
            "\n",
            "\n",
            "\n",
            "\n",
            "\n",
            "\n",
            "\n",
            "libopenblas-0.3.25   | 5.3 MB    | :  63% 0.6322938038498015/1 [00:00<00:00,  1.60it/s]\u001b[A\u001b[A\u001b[A\u001b[A\u001b[A\u001b[A\u001b[A\u001b[A\u001b[A\u001b[A\u001b[A\u001b[A\n",
            "\n",
            "\n",
            "\n",
            "\n",
            "\n",
            "\n",
            "\n",
            "\n",
            "\n",
            "\n",
            "\n",
            "\n",
            "\n",
            "scipy-1.11.4         | 14.5 MB   | :  12% 0.11921950212846548/1 [00:00<00:02,  3.34s/it]   \u001b[A\u001b[A\u001b[A\u001b[A\u001b[A\u001b[A\u001b[A\u001b[A\u001b[A\u001b[A\u001b[A\u001b[A\u001b[A\u001b[A\n",
            "\n",
            "cudatoolkit-11.8.0   | 682.8 MB  | :   1% 0.010159914587676096/1 [00:00<00:47, 47.78s/it]\n",
            "\n",
            "\n",
            "\n",
            "\n",
            "\n",
            "\n",
            "\n",
            "\n",
            "\n",
            "\n",
            "\n",
            "\n",
            "numpy-1.26.2         | 6.6 MB    | :  58% 0.5798401094596125/1 [00:00<00:00,  1.46it/s]\u001b[A\u001b[A\u001b[A\u001b[A\u001b[A\u001b[A\u001b[A\u001b[A\u001b[A\u001b[A\u001b[A\u001b[A\u001b[A\n",
            "\n",
            "\n",
            "\n",
            "\n",
            "\n",
            "\n",
            "\n",
            "\n",
            "\n",
            "\n",
            "\n",
            "libopenblas-0.3.25   | 5.3 MB    | :  94% 0.9366221300018088/1 [00:00<00:00,  2.04it/s]\u001b[A\u001b[A\u001b[A\u001b[A\u001b[A\u001b[A\u001b[A\u001b[A\u001b[A\u001b[A\u001b[A\u001b[A\n",
            "\n",
            "\n",
            "\n",
            "\n",
            "\n",
            "\n",
            "\n",
            "\n",
            "\n",
            "\n",
            "\n",
            "\n",
            "\n",
            "scipy-1.11.4         | 14.5 MB   | :  25% 0.2481054503754552/1 [00:00<00:01,  1.79s/it] \u001b[A\u001b[A\u001b[A\u001b[A\u001b[A\u001b[A\u001b[A\u001b[A\u001b[A\u001b[A\u001b[A\u001b[A\u001b[A\u001b[A\n",
            "\n",
            "cudatoolkit-11.8.0   | 682.8 MB  | :   1% 0.01292872013972296/1 [00:00<00:42, 43.35s/it] \n",
            "\n",
            "\n",
            "\n",
            "\n",
            "\n",
            "\n",
            "\n",
            "\n",
            "\n",
            "\n",
            "\n",
            "\n",
            "numpy-1.26.2         | 6.6 MB    | :  86% 0.8591100397299565/1 [00:00<00:00,  1.85it/s]\u001b[A\u001b[A\u001b[A\u001b[A\u001b[A\u001b[A\u001b[A\u001b[A\u001b[A\u001b[A\u001b[A\u001b[A\u001b[A\n",
            "\n",
            "\n",
            "\n",
            "\n",
            "\n",
            "\n",
            "\n",
            "\n",
            "\n",
            "\n",
            "\n",
            "\n",
            "\n",
            "\n",
            "ca-certificates-2023 | 151 KB    | :  11% 0.1063088432814031/1 [00:00<00:05,  6.26s/it]\u001b[A\u001b[A\u001b[A\u001b[A\u001b[A\u001b[A\u001b[A\u001b[A\u001b[A\u001b[A\u001b[A\u001b[A\u001b[A\u001b[A\u001b[A\n",
            "\n",
            "\n",
            "\n",
            "\n",
            "\n",
            "libgfortran5-13.2.0  | 1.4 MB    | : 100% 1.0/1 [00:00<00:00,  1.52it/s]                 \u001b[A\u001b[A\u001b[A\u001b[A\u001b[A\u001b[A\n",
            "\n",
            "\n",
            "\n",
            "\n",
            "\n",
            "libgfortran5-13.2.0  | 1.4 MB    | : 100% 1.0/1 [00:00<00:00,  1.52it/s]\u001b[A\u001b[A\u001b[A\u001b[A\u001b[A\u001b[A\n",
            "\n",
            "\n",
            "\n",
            "\n",
            "\n",
            "\n",
            "\n",
            "\n",
            "\n",
            "\n",
            "\n",
            "\n",
            "\n",
            "scipy-1.11.4         | 14.5 MB   | :  42% 0.42102743094016637/1 [00:00<00:00,  1.14s/it]\u001b[A\u001b[A\u001b[A\u001b[A\u001b[A\u001b[A\u001b[A\u001b[A\u001b[A\u001b[A\u001b[A\u001b[A\u001b[A\u001b[A\n",
            "\n",
            "\n",
            "\n",
            "\n",
            "\n",
            "\n",
            "ocl-icd-2.3.1        | 119 KB    | : 100% 1.0/1 [00:00<00:00,  1.40it/s]               \u001b[A\u001b[A\u001b[A\u001b[A\u001b[A\u001b[A\u001b[A\n",
            "\n",
            "\n",
            "\n",
            "\n",
            "\n",
            "\n",
            "ocl-icd-2.3.1        | 119 KB    | : 100% 1.0/1 [00:00<00:00,  1.40it/s]\u001b[A\u001b[A\u001b[A\u001b[A\u001b[A\u001b[A\u001b[A\n",
            "\n",
            "cudatoolkit-11.8.0   | 682.8 MB  | :   2% 0.015514464167667552/1 [00:00<00:41, 42.14s/it]\n",
            "\n",
            "\n",
            "\n",
            "\n",
            "\n",
            "\n",
            "\n",
            "\n",
            "\n",
            "\n",
            "libblas-3.9.0        | 14 KB     | : 100% 1.0/1 [00:00<00:00,  3.30it/s]\u001b[A\u001b[A\u001b[A\u001b[A\u001b[A\u001b[A\u001b[A\u001b[A\u001b[A\u001b[A\u001b[A\n",
            "\n",
            "\n",
            "\n",
            "\n",
            "\n",
            "\n",
            "\n",
            "\n",
            "\n",
            "\n",
            "\n",
            "\n",
            "\n",
            "cudatoolkit-11.8.0   | 682.8 MB  | :   2% 0.019335873483302478/1 [00:00<00:35, 35.86s/it]\n",
            "\n",
            "\n",
            "\n",
            "\n",
            "\n",
            "\n",
            "\n",
            "\n",
            "\n",
            "\n",
            "\n",
            "\n",
            "\n",
            "cudatoolkit-11.8.0   | 682.8 MB  | :   2% 0.023157282798937407/1 [00:00<00:31, 32.25s/it]\n",
            "\n",
            "\n",
            "\n",
            "\n",
            "\n",
            "\n",
            "\n",
            "\n",
            "\n",
            "\n",
            "\n",
            "\n",
            "\n",
            "cudatoolkit-11.8.0   | 682.8 MB  | :   3% 0.03322566662456237/1 [00:01<00:24, 25.08s/it]\n",
            "\n",
            "\n",
            "\n",
            "\n",
            "\n",
            "\n",
            "\n",
            "\n",
            "openssl-3.2.0        | 2.7 MB    | : 100% 1.0/1 [00:01<00:00,  2.76it/s]               \u001b[A\u001b[A\u001b[A\u001b[A\u001b[A\u001b[A\u001b[A\u001b[A\u001b[A\n",
            "\n",
            "\n",
            "\n",
            "\n",
            "\n",
            "\n",
            "\n",
            "\n",
            "\n",
            "\n",
            "\n",
            "\n",
            "\n",
            "\n",
            "ca-certificates-2023 | 151 KB    | : 100% 1.0/1 [00:01<00:00,  1.09s/it]               \u001b[A\u001b[A\u001b[A\u001b[A\u001b[A\u001b[A\u001b[A\u001b[A\u001b[A\u001b[A\u001b[A\u001b[A\u001b[A\u001b[A\u001b[A\n",
            "\n",
            "\n",
            "\n",
            "\n",
            "\n",
            "\n",
            "\n",
            "\n",
            "\n",
            "\n",
            "\n",
            "\n",
            "\n",
            "\n",
            "cudatoolkit-11.8.0   | 682.8 MB  | :   4% 0.044278006142237036/1 [00:01<00:23, 24.28s/it]\n",
            "\n",
            "\n",
            "\n",
            "\n",
            "\n",
            "\n",
            "\n",
            "\n",
            "\n",
            "\n",
            "\n",
            "cudatoolkit-11.8.0   | 682.8 MB  | :  15% 0.14681534233002214/1 [00:03<00:19, 22.77s/it]\n",
            "\n",
            "cudatoolkit-11.8.0   | 682.8 MB  | :  16% 0.15706678767974938/1 [00:03<00:18, 21.99s/it]\n",
            "\n",
            "\n",
            "\n",
            "\n",
            "\n",
            "\n",
            "\n",
            "\n",
            "\n",
            "\n",
            "\n",
            "\n",
            "cudatoolkit-11.8.0   | 682.8 MB  | :  26% 0.26468408116137254/1 [00:05<00:11, 15.75s/it]\n",
            "\n",
            "\n",
            "\n",
            "\n",
            "\n",
            "\n",
            "\n",
            "\n",
            "\n",
            "\n",
            "\n",
            "\n",
            "\n",
            "                                                                        \n",
            "                                                                        \u001b[A\n",
            "\n",
            "                                                                        \u001b[A\u001b[A\n",
            "\n",
            "\n",
            "                                                                        \u001b[A\u001b[A\u001b[A\n",
            "\n",
            "\n",
            "\n",
            "                                                                        \u001b[A\u001b[A\u001b[A\u001b[A\n",
            "\n",
            "\n",
            "\n",
            "\n",
            "                                                                        \u001b[A\u001b[A\u001b[A\u001b[A\u001b[A\n",
            "\n",
            "\n",
            "\n",
            "\n",
            "\n",
            "                                                                        \u001b[A\u001b[A\u001b[A\u001b[A\u001b[A\u001b[A\n",
            "\n",
            "\n",
            "\n",
            "\n",
            "\n",
            "\n",
            "                                                                        \u001b[A\u001b[A\u001b[A\u001b[A\u001b[A\u001b[A\u001b[A\n",
            "\n",
            "\n",
            "\n",
            "\n",
            "\n",
            "\n",
            "\n",
            "                                                                        \u001b[A\u001b[A\u001b[A\u001b[A\u001b[A\u001b[A\u001b[A\u001b[A\n",
            "\n",
            "\n",
            "\n",
            "\n",
            "\n",
            "\n",
            "\n",
            "\n",
            "                                                                        \u001b[A\u001b[A\u001b[A\u001b[A\u001b[A\u001b[A\u001b[A\u001b[A\u001b[A\n",
            "\n",
            "\n",
            "\n",
            "\n",
            "\n",
            "\n",
            "\n",
            "\n",
            "\n",
            "                                                                        \u001b[A\u001b[A\u001b[A\u001b[A\u001b[A\u001b[A\u001b[A\u001b[A\u001b[A\u001b[A\n",
            "\n",
            "\n",
            "\n",
            "\n",
            "\n",
            "\n",
            "\n",
            "\n",
            "\n",
            "\n",
            "                                                                        \u001b[A\u001b[A\u001b[A\u001b[A\u001b[A\u001b[A\u001b[A\u001b[A\u001b[A\u001b[A\u001b[A\n",
            "\n",
            "\n",
            "\n",
            "\n",
            "\n",
            "\n",
            "\n",
            "\n",
            "\n",
            "\n",
            "\n",
            "                                                                        \u001b[A\u001b[A\u001b[A\u001b[A\u001b[A\u001b[A\u001b[A\u001b[A\u001b[A\u001b[A\u001b[A\u001b[A\n",
            "\n",
            "\n",
            "\n",
            "\n",
            "\n",
            "\n",
            "\n",
            "\n",
            "\n",
            "\n",
            "\n",
            "\n",
            "                                                                        \u001b[A\u001b[A\u001b[A\u001b[A\u001b[A\u001b[A\u001b[A\u001b[A\u001b[A\u001b[A\u001b[A\u001b[A\u001b[A\n",
            "\n",
            "\n",
            "\n",
            "\n",
            "\n",
            "\n",
            "\n",
            "\n",
            "\n",
            "\n",
            "\n",
            "\n",
            "\n",
            "                                                                        \u001b[A\u001b[A\u001b[A\u001b[A\u001b[A\u001b[A\u001b[A\u001b[A\u001b[A\u001b[A\u001b[A\u001b[A\u001b[A\u001b[A\n",
            "\n",
            "\n",
            "\n",
            "\n",
            "\n",
            "\n",
            "\n",
            "\n",
            "\n",
            "\n",
            "\n",
            "\n",
            "\n",
            "\n",
            "                                                                        \u001b[A\u001b[A\u001b[A\u001b[A\u001b[A\u001b[A\u001b[A\u001b[A\u001b[A\u001b[A\u001b[A\u001b[A\u001b[A\u001b[A\u001b[A\n",
            "Preparing transaction: | \b\b/ \b\bdone\n",
            "Verifying transaction: \\ \b\b| \b\b/ \b\b- \b\b\\ \b\bdone\n",
            "Executing transaction: / \b\b- \b\b\\ \b\b| \b\b/ \b\b- \b\b\\ \b\b| \b\b/ \b\b- \b\b\\ \b\b| \b\b/ \b\b- \b\b\\ \b\b| \b\b/ \b\b- \b\b\\ \b\b| By downloading and using the CUDA Toolkit conda packages, you accept the terms and conditions of the CUDA End User License Agreement (EULA): https://docs.nvidia.com/cuda/eula/index.html\n",
            "\n",
            "\b\b/ \b\b- \b\b\\ \b\b| \b\b/ \b\b- \b\b\\ \b\b| \b\b/ \b\b- \b\b\\ \b\b| \b\b/ \b\b- \b\b\\ \b\b| \b\b/ \b\b- \b\b\\ \b\b| \b\b/ \b\b- \b\b\\ \b\b| \b\b/ \b\b- \b\b\\ \b\b| \b\b/ \b\b- \b\b\\ \b\b| \b\b/ \b\b- \b\bdone\n",
            "\n",
            "SpecNotFound: Invalid name 'base', try the format: user/package\n",
            "\n"
          ]
        }
      ]
    },
    {
      "cell_type": "code",
      "execution_count": 5,
      "metadata": {
        "id": "ywadnMlexOdD",
        "colab": {
          "base_uri": "https://localhost:8080/"
        },
        "outputId": "839a22a1-7772-46dc-83f7-c616706082b9"
      },
      "outputs": [
        {
          "output_type": "stream",
          "name": "stdout",
          "text": [
            "\u001b[33mWARNING: Running pip as the 'root' user can result in broken permissions and conflicting behaviour with the system package manager. It is recommended to use a virtual environment instead: https://pip.pypa.io/warnings/venv\u001b[0m\u001b[33m\n",
            "\u001b[0m"
          ]
        }
      ],
      "source": [
        "!pip install -qq google-play-scraper"
      ]
    },
    {
      "cell_type": "markdown",
      "metadata": {
        "id": "TH6qiStnloBV"
      },
      "source": [
        "google-play-scraper는 구글 플레이 스토어 (Google Play Store)에서 앱 정보를 스크래핑하고 수집하기 위한 도구를 제공하는 Python 패키지"
      ]
    },
    {
      "cell_type": "code",
      "execution_count": 6,
      "metadata": {
        "id": "jTscnusbyqGN",
        "colab": {
          "base_uri": "https://localhost:8080/"
        },
        "outputId": "942e69d9-42ce-4c50-c6ac-b8229b8e0919"
      },
      "outputs": [
        {
          "output_type": "stream",
          "name": "stdout",
          "text": [
            "\u001b[2K     \u001b[90m━━━━━━━━━━━━━━━━━━━━━━━━━━━━━━━━━━━━━━━━\u001b[0m \u001b[32m808.2/808.2 kB\u001b[0m \u001b[31m49.3 MB/s\u001b[0m eta \u001b[36m0:00:00\u001b[0m\n",
            "\u001b[2K     \u001b[90m━━━━━━━━━━━━━━━━━━━━━━━━━━━━━━━━━━━━━━━━\u001b[0m \u001b[32m1.2/1.2 MB\u001b[0m \u001b[31m58.1 MB/s\u001b[0m eta \u001b[36m0:00:00\u001b[0m\n",
            "\u001b[2K     \u001b[90m━━━━━━━━━━━━━━━━━━━━━━━━━━━━━━━━━━━━━━━━\u001b[0m \u001b[32m1.6/1.6 MB\u001b[0m \u001b[31m57.6 MB/s\u001b[0m eta \u001b[36m0:00:00\u001b[0m\n",
            "\u001b[2K     \u001b[90m━━━━━━━━━━━━━━━━━━━━━━━━━━━━━━━━━━━━━━━━\u001b[0m \u001b[32m85.2/85.2 kB\u001b[0m \u001b[31m11.5 MB/s\u001b[0m eta \u001b[36m0:00:00\u001b[0m\n",
            "\u001b[2K     \u001b[90m━━━━━━━━━━━━━━━━━━━━━━━━━━━━━━━━━━━━━━━━\u001b[0m \u001b[32m63.8/63.8 kB\u001b[0m \u001b[31m7.8 MB/s\u001b[0m eta \u001b[36m0:00:00\u001b[0m\n",
            "\u001b[2K     \u001b[90m━━━━━━━━━━━━━━━━━━━━━━━━━━━━━━━━━━━━━━━━\u001b[0m \u001b[32m385.5/385.5 kB\u001b[0m \u001b[31m35.8 MB/s\u001b[0m eta \u001b[36m0:00:00\u001b[0m\n",
            "\u001b[2K     \u001b[90m━━━━━━━━━━━━━━━━━━━━━━━━━━━━━━━━━━━━━━━━\u001b[0m \u001b[32m100.8/100.8 kB\u001b[0m \u001b[31m13.6 MB/s\u001b[0m eta \u001b[36m0:00:00\u001b[0m\n",
            "\u001b[?25h\u001b[33mWARNING: Running pip as the 'root' user can result in broken permissions and conflicting behaviour with the system package manager. It is recommended to use a virtual environment instead: https://pip.pypa.io/warnings/venv\u001b[0m\u001b[33m\n",
            "\u001b[0m"
          ]
        }
      ],
      "source": [
        "!pip install -qq -U watermark"
      ]
    },
    {
      "cell_type": "code",
      "execution_count": 7,
      "metadata": {
        "id": "6ssTSGdFyoYX",
        "colab": {
          "base_uri": "https://localhost:8080/"
        },
        "outputId": "695adec8-e4fe-417e-b91c-5c81a87595b7"
      },
      "outputs": [
        {
          "output_type": "stream",
          "name": "stdout",
          "text": [
            "Python implementation: CPython\n",
            "Python version       : 3.10.12\n",
            "IPython version      : 7.34.0\n",
            "\n",
            "pandas             : 1.5.3\n",
            "matplotlib         : 3.7.1\n",
            "seaborn            : 0.12.2\n",
            "google_play_scraper: 1.2.4\n",
            "\n"
          ]
        }
      ],
      "source": [
        "%reload_ext watermark\n",
        "%watermark -v -p pandas,matplotlib,seaborn,google_play_scraper\n"
      ]
    },
    {
      "cell_type": "code",
      "execution_count": 8,
      "metadata": {
        "id": "vJhAK2Cc6x8N"
      },
      "outputs": [],
      "source": [
        "import json\n",
        "import pandas as pd\n",
        "from tqdm import tqdm\n",
        "\n",
        "import seaborn as sns\n",
        "import matplotlib.pyplot as plt\n",
        "\n",
        "from pygments import highlight\n",
        "from pygments.lexers import JsonLexer\n",
        "from pygments.formatters import TerminalFormatter\n",
        "\n",
        "from google_play_scraper import Sort, reviews, app\n",
        "\n",
        "%matplotlib inline\n",
        "%config InlineBackend.figure_format='retina'\n",
        "\n",
        "sns.set(style='whitegrid', palette='muted', font_scale=1.2)"
      ]
    },
    {
      "cell_type": "markdown",
      "metadata": {
        "id": "tMsvHHJAlq0w"
      },
      "source": [
        "- json: JSON 데이터 처리를 위한 파이썬 표준 라이브러리.\n",
        "- pandas: 데이터 프레임을 다루기 위한 라이브러리.\n",
        "- tqdm: 진행 상황을 시각적으로 표시해주는 라이브러리.\n",
        "- seaborn: Matplotlib을 기반으로한 통계용 그래픽 라이브러리로, 시각화를 보다 멋지게 표현할 수 있도록 도와줌.\n",
        "- matplotlib.pyplot: 데이터 시각화를 위한 라이브러리.\n",
        "- pygments: 코드 문법 강조를 위한 라이브러리.\n",
        "\n",
        "<br><br>\n",
        "\n",
        "- `google_play_scraper`: Google Play 스토어에서 앱 정보 및 리뷰를 가져오기 위한 라이브러리\n",
        "- `%matplotlib inline`: Jupyter Notebook에서 그래픽 출력을 활성화.\n",
        "- `%config InlineBackend.figure_format='retina'`: 그래픽 출력 설정을 'retina'로 지정하여 고해상도 그래픽 출력을 활성화.\n",
        "- `sns.set()`: Seaborn 라이브러리의 스타일, 팔레트, 글꼴 크기 등을 초기화하여 설정."
      ]
    },
    {
      "cell_type": "code",
      "execution_count": 10,
      "metadata": {
        "id": "LkYHg6qF7Flu",
        "colab": {
          "base_uri": "https://localhost:8080/"
        },
        "outputId": "572db1cf-c073-4a6b-f8ab-b6f4916fe0a6"
      },
      "outputs": [
        {
          "output_type": "stream",
          "name": "stderr",
          "text": [
            "100%|██████████| 1/1 [00:00<00:00,  2.65it/s]\n"
          ]
        }
      ],
      "source": [
        "from google_play_scraper import app\n",
        "\n",
        "app_packages = ['com.instagram.android']\n",
        "\n",
        "app_infos = []\n",
        "\n",
        "for app_package in tqdm(app_packages):\n",
        "    info = app(\n",
        "        app_package,\n",
        "        lang='ko',  # 언어 코드를 'ko'로 설정\n",
        "        country='KR',  # 국가 코드를 'KR'로 설정\n",
        "    )\n",
        "    del info['comments']\n",
        "    app_infos.append(info)\n"
      ]
    },
    {
      "cell_type": "markdown",
      "metadata": {
        "id": "gaurcDMBlt6e"
      },
      "source": [
        "-> 리뷰 정보를 제외한 앱 정보를 리스트에 추가합니다. (인스타그램을 크롤링 해보겠습니다.)<br>\n",
        "lang 매개변수는 언어를 나타내며, 여기서는 한국어로 설정되어 있습니다. country 매개변수는 국가를 나타내며, 여기서는 한국으로 설정되어 있습니다."
      ]
    },
    {
      "cell_type": "code",
      "execution_count": 9,
      "metadata": {
        "id": "tl0B_Pb17BYu"
      },
      "outputs": [],
      "source": [
        "def print_json(json_object):\n",
        "  json_str = json.dumps(\n",
        "    json_object,\n",
        "    indent=2,\n",
        "    sort_keys=True,\n",
        "    default=str\n",
        "  )\n",
        "  print(highlight(json_str, JsonLexer(), TerminalFormatter()))"
      ]
    },
    {
      "cell_type": "code",
      "execution_count": 11,
      "metadata": {
        "id": "8WAd09PX7DFk",
        "colab": {
          "base_uri": "https://localhost:8080/"
        },
        "outputId": "930a434c-2867-4f6d-e165-79fe2e40a6db"
      },
      "outputs": [
        {
          "output_type": "stream",
          "name": "stdout",
          "text": [
            "{\u001b[37m\u001b[39;49;00m\n",
            "\u001b[37m  \u001b[39;49;00m\u001b[94m\"adSupported\"\u001b[39;49;00m:\u001b[37m \u001b[39;49;00m\u001b[34mtrue\u001b[39;49;00m,\u001b[37m\u001b[39;49;00m\n",
            "\u001b[37m  \u001b[39;49;00m\u001b[94m\"appId\"\u001b[39;49;00m:\u001b[37m \u001b[39;49;00m\u001b[33m\"com.instagram.android\"\u001b[39;49;00m,\u001b[37m\u001b[39;49;00m\n",
            "\u001b[37m  \u001b[39;49;00m\u001b[94m\"categories\"\u001b[39;49;00m:\u001b[37m \u001b[39;49;00m[\u001b[37m\u001b[39;49;00m\n",
            "\u001b[37m    \u001b[39;49;00m{\u001b[37m\u001b[39;49;00m\n",
            "\u001b[37m      \u001b[39;49;00m\u001b[94m\"id\"\u001b[39;49;00m:\u001b[37m \u001b[39;49;00m\u001b[33m\"SOCIAL\"\u001b[39;49;00m,\u001b[37m\u001b[39;49;00m\n",
            "\u001b[37m      \u001b[39;49;00m\u001b[94m\"name\"\u001b[39;49;00m:\u001b[37m \u001b[39;49;00m\u001b[33m\"\\uc18c\\uc15c\"\u001b[39;49;00m\u001b[37m\u001b[39;49;00m\n",
            "\u001b[37m    \u001b[39;49;00m}\u001b[37m\u001b[39;49;00m\n",
            "\u001b[37m  \u001b[39;49;00m],\u001b[37m\u001b[39;49;00m\n",
            "\u001b[37m  \u001b[39;49;00m\u001b[94m\"containsAds\"\u001b[39;49;00m:\u001b[37m \u001b[39;49;00m\u001b[34mtrue\u001b[39;49;00m,\u001b[37m\u001b[39;49;00m\n",
            "\u001b[37m  \u001b[39;49;00m\u001b[94m\"contentRating\"\u001b[39;49;00m:\u001b[37m \u001b[39;49;00m\u001b[33m\"12\\uc138 \\uc774\\uc0c1\"\u001b[39;49;00m,\u001b[37m\u001b[39;49;00m\n",
            "\u001b[37m  \u001b[39;49;00m\u001b[94m\"contentRatingDescription\"\u001b[39;49;00m:\u001b[37m \u001b[39;49;00m\u001b[33m\"\\ubcf4\\ud638\\uc790 \\ub3d9\\ubc18 \\uad8c\\uc7a5\"\u001b[39;49;00m,\u001b[37m\u001b[39;49;00m\n",
            "\u001b[37m  \u001b[39;49;00m\u001b[94m\"currency\"\u001b[39;49;00m:\u001b[37m \u001b[39;49;00m\u001b[33m\"KRW\"\u001b[39;49;00m,\u001b[37m\u001b[39;49;00m\n",
            "\u001b[37m  \u001b[39;49;00m\u001b[94m\"description\"\u001b[39;49;00m:\u001b[37m \u001b[39;49;00m\u001b[33m\"\\uc18c\\uc911\\ud55c \\uc0ac\\ub78c\\ub4e4\\uacfc \\ucf58\\ud150\\uce20\\uc5d0 \\ub354\\uc6b1 \\uac00\\uae4c\\uc774 \\ub2e4\\uac00\\uac08 \\uc218 \\uc788\\ub294 \\uacf5\\uac04 - Instagram from Facebook\\r\\n\\r\\n\\uce5c\\uad6c\\ub4e4\\uacfc \\uc18c\\ud1b5\\ud558\\uace0 \\uc18c\\uc2dd\\uc744 \\uacf5\\uc720\\ud558\\uac70\\ub098 \\uc804 \\uc138\\uacc4\\uc5d0 \\uc788\\ub294 \\ub2e4\\ub978 \\uc0ac\\ub78c\\ub4e4\\uc758 \\uc0c8\\ub85c\\uc6b4 \\ucf58\\ud150\\uce20\\ub97c \\ud655\\uc778\\ud558\\uc138\\uc694. \\uc790\\uc720\\ub86d\\uac8c \\uac1c\\uc131\\uc744 \\ub4dc\\ub7ec\\ub0b4\\uace0 \\uc77c\\uc0c1\\uc801\\uc778 \\uc21c\\uac04\\ubd80\\ud130 \\uc0b6\\uc758 \\ud2b9\\ubcc4\\ud55c \\uc21c\\uac04\\uae4c\\uc9c0 \\ubaa8\\ub4e0 \\uc18c\\uc2dd\\uc744 \\uacf5\\uc720\\ud560 \\uc218 \\uc788\\ub294 \\ucee4\\ubba4\\ub2c8\\ud2f0\\ub3c4 \\ub458\\ub7ec\\ubcf4\\uc138\\uc694.\\r\\n\\r\\n\\uc790\\uc720\\ub86d\\uac8c \\ud45c\\ud604\\ud558\\uace0 \\uce5c\\uad6c\\ub4e4\\uacfc \\uc18c\\ud1b5\\ud558\\uae30\\r\\n\\r\\n* 24\\uc2dc\\uac04 \\ud6c4\\uc5d0 \\uc0ac\\ub77c\\uc9c0\\ub294 \\uc2a4\\ud1a0\\ub9ac\\uc5d0 \\uc0ac\\uc9c4\\uacfc \\ub3d9\\uc601\\uc0c1\\uc744 \\ucd94\\uac00\\ud558\\uace0, \\uc7ac\\ubbf8\\uc788\\ub294 \\ud06c\\ub9ac\\uc5d0\\uc774\\ud2f0\\ube0c \\ub3c4\\uad6c\\ub85c \\uc2a4\\ud1a0\\ub9ac\\uc5d0 \\uc0dd\\ub3d9\\uac10\\uc744 \\ub354\\ud574\\ubcf4\\uc138\\uc694.\\r\\n* \\uce5c\\uad6c\\uc5d0\\uac8c Direct \\uba54\\uc2dc\\uc9c0\\ub97c \\ubcf4\\ub0b4\\ubcf4\\uc138\\uc694. \\ud53c\\ub4dc\\uc640 \\uc2a4\\ud1a0\\ub9ac\\uc5d0\\uc11c \\ubcf8 \\ucf58\\ud150\\uce20\\uc5d0 \\uad00\\ud574 \\uc990\\uac81\\uac8c \\ub300\\ud654\\ud560 \\uc218 \\uc788\\uc2b5\\ub2c8\\ub2e4.\\r\\n* \\ud504\\ub85c\\ud544\\uc5d0 \\ud45c\\uc2dc\\ud558\\uace0 \\uc2f6\\uc740 \\uc0ac\\uc9c4\\uacfc \\ub3d9\\uc601\\uc0c1\\uc744 \\ud53c\\ub4dc\\uc5d0 \\uac8c\\uc2dc\\ud574\\ubcf4\\uc138\\uc694.\\r\\n\\r\\n\\uad00\\uc2ec\\uc0ac\\uc5d0 \\ub300\\ud574 \\ub354 \\uc54c\\uc544\\ubcf4\\uae30\\r\\n\\r\\n* IGTV\\uc5d0\\uc11c \\uc88b\\uc544\\ud558\\ub294 \\ud06c\\ub9ac\\uc5d0\\uc774\\ud130\\uac00 \\uc62c\\ub9b0 \\ub354 \\uae34 \\ub3d9\\uc601\\uc0c1\\uc744 \\ud655\\uc778\\ud574\\ubcf4\\uc138\\uc694.\\r\\n* \\ub458\\ub7ec\\ubcf4\\uae30\\uc5d0\\uc11c \\uc0c8\\ub85c\\uc6b4 \\uacc4\\uc815\\uc758 \\uc0ac\\uc9c4\\uacfc \\ub3d9\\uc601\\uc0c1\\uc73c\\ub85c\\ubd80\\ud130 \\uc544\\uc774\\ub514\\uc5b4\\ub97c \\uc5bb\\uc5b4\\ubcf4\\uc138\\uc694.\\r\\n* \\ub2e4\\uc591\\ud55c \\ube0c\\ub79c\\ub4dc\\uc640 \\uc18c\\uaddc\\ubaa8 \\ube44\\uc988\\ub2c8\\uc2a4\\ub97c \\ubc1c\\uacac\\ud558\\uace0 \\uad00\\uc2ec \\uc788\\ub294 \\uc81c\\ud488\\uc744 \\uad6c\\ub9e4\\ud574\\ubcf4\\uc138\\uc694.\\r\\n\\r\\n**\\uae30\\uae30 \\uad8c\\ud55c**\\r\\nAndroid \\uc6b4\\uc601 \\uccb4\\uc81c\\ub294 \\uc571\\uc5d0\\uc11c \\ud2b9\\uc815 \\uae30\\ub2a5\\uc774\\ub098 \\ub370\\uc774\\ud130\\uc5d0 \\uc5d1\\uc138\\uc2a4\\ud558\\uae30 \\uc704\\ud574 \\uad8c\\ud55c \\uc2dc\\uc2a4\\ud15c\\uc744 \\uc774\\uc6a9\\ud569\\ub2c8\\ub2e4. \\ucc98\\uc74c\\uc73c\\ub85c \\uc571\\uc5d0 \\ub2e4\\uc74c \\uad8c\\ud55c \\uc911 \\ud558\\ub098\\uac00 \\ud544\\uc694\\ud574\\uc9c8 \\ub54c, \\uad8c\\ud55c \\ud5c8\\uc6a9\\uc744 \\uc704\\ud55c \\uba54\\uc2dc\\uc9c0\\uac00 \\ud45c\\uc2dc\\ub429\\ub2c8\\ub2e4.\\r\\nInstagram \\uc571\\uc5d0\\uc11c \\uc774\\uc6a9\\ud558\\ub294 \\uad8c\\ud55c\\uc5d0 \\ub300\\ud55c \\uc774\\ud574\\ub97c \\ub3d5\\uace0\\uc790, \\ub2e4\\uc74c\\uacfc \\uac19\\uc774 \\uc694\\uccad\\ub418\\ub294 \\uad8c\\ud55c \\ubc0f \\uac01 \\uad8c\\ud55c\\uc774 \\uc694\\uccad\\ub418\\ub294 \\uc8fc\\uc694 \\uc774\\uc720\\ub97c \\uc54c\\ub824\\ub4dc\\ub9bd\\ub2c8\\ub2e4. \\ub2e4\\uc74c \\uad8c\\ud55c\\uc740 \\ubaa8\\ub450 \\uc120\\ud0dd \\uac00\\ub2a5\\ud55c \\uc635\\uc158 \\ud56d\\ubaa9\\uc785\\ub2c8\\ub2e4. \\uc989, \\uac01 \\uad8c\\ud55c\\uc744 \\ud5c8\\uc6a9\\ud558\\uc9c0 \\uc54a\\ub294 \\uacbd\\uc6b0 \\ud2b9\\uc815 \\uae30\\ub2a5\\uc774 \\ub3d9\\uc791\\ud558\\uc9c0 \\uc54a\\uc744 \\uc218 \\uc788\\uc9c0\\ub9cc Instagram \\uc571 \\uc790\\uccb4\\ub294 \\uacc4\\uc18d \\uc774\\uc6a9\\ud558\\uc2e4 \\uc218 \\uc788\\uc2b5\\ub2c8\\ub2e4.\\r\\n\\uc5f0\\ub77d\\ucc98: \\uce5c\\uad6c\\ub4e4\\uacfc \\uc5f0\\uacb0\\ud558\\uae30 \\uc704\\ud574 Instagram\\uc5d0\\uc11c \\uc5f0\\ub77d\\ucc98 \\uc815\\ubcf4\\uc5d0 \\uc561\\uc138\\uc2a4\\ud558\\ub3c4\\ub85d \\ud5c8\\uc6a9\\ud558\\ub294 \\uad8c\\ud55c\\uc785\\ub2c8\\ub2e4.\\r\\n\\uc704\\uce58 \\uc815\\ubcf4: \\uc6d0\\ud558\\ub294 \\uc7a5\\uc18c\\ub97c \\ucc3e\\uace0, \\uc6d0\\ud558\\ub294 \\uacbd\\uc6b0 \\ud604\\uc7ac \\uc704\\uce58\\uc640 \\uad00\\ub828\\ub41c \\uc815\\ubcf4\\ub97c \\ubcfc \\ub54c \\ud544\\uc694\\ud55c \\uad8c\\ud55c\\uc785\\ub2c8\\ub2e4.\\r\\n\\uc800\\uc7a5\\uacf5\\uac04: Instagram\\uc5d0 \\uc0ac\\uc9c4\\uacfc \\ub3d9\\uc601\\uc0c1\\uc744 \\uc5c5\\ub85c\\ub4dc\\ud558\\uace0 \\uce74\\uba54\\ub77c \\ub864\\uc5d0 \\uc0ac\\uc9c4\\uacfc \\ub3d9\\uc601\\uc0c1\\uc744 \\uc800\\uc7a5\\ud560 \\ub54c \\ud544\\uc694\\ud55c \\uad8c\\ud55c\\uc785\\ub2c8\\ub2e4.\\r\\n\\uce74\\uba54\\ub77c: \\uc0ac\\uc9c4\\uacfc \\ub3d9\\uc601\\uc0c1\\uc744 \\ucc0d\\uc744 \\ub54c \\ud544\\uc694\\ud55c \\uad8c\\ud55c\\uc785\\ub2c8\\ub2e4.\\r\\n\\ub9c8\\uc774\\ud06c: \\ub3d9\\uc601\\uc0c1 \\ub179\\ud654 \\uc2dc \\uc18c\\ub9ac\\ub97c \\ud568\\uaed8 \\ub179\\uc74c\\ud558\\ub294 \\ub370 \\ud544\\uc694\\ud55c \\uad8c\\ud55c\\uc785\\ub2c8\\ub2e4.\\r\\n\\uc804\\ud654: \\uacc4\\uc815 \\uc561\\uc138\\uc2a4\\ub97c \\uc704\\ud574 \\uc804\\ud654 \\uc0c1\\ud0dc\\ub97c \\uc77d\\uace0 \\uc2dd\\ubcc4\\ud558\\uae30 \\uc704\\ud574 \\ud544\\uc694\\ud55c \\uad8c\\ud55c\\uc785\\ub2c8\\ub2e4.\\r\\n \\r\\n**\\ucc38\\uace0**: \\uc774\\ub7ec\\ud55c \\uad8c\\ud55c\\uc744 \\uac01\\uac01 \\uc124\\uc815\\ud558\\ub294 \\uae30\\ub2a5\\uc740 Android 6.0 \\uc774\\ud6c4 \\ubc84\\uc804\\ubd80\\ud130 \\uac00\\ub2a5\\ud569\\ub2c8\\ub2e4. Android 6.0 \\uc774\\uc804 \\ubc84\\uc804\\uc744 \\uc774\\uc6a9\\ud558\\ub294 \\uacbd\\uc6b0, \\uc571 \\uad8c\\ud55c\\uc744 \\uad6c\\uc131\\ud558\\ub824\\uba74 \\uc18c\\ud504\\ud2b8\\uc6e8\\uc5b4\\ub97c \\uc5c5\\ub370\\uc774\\ud2b8\\ud574\\uc57c \\ud569\\ub2c8\\ub2e4. \\uc18c\\ud504\\ud2b8\\uc6e8\\uc5b4 \\uc5c5\\ub370\\uc774\\ud2b8\\ub97c \\ub9c8\\uce5c \\ud6c4 \\uae30\\uae30 \\uc124\\uc815\\uc5d0\\uc11c \\uae30\\uc874\\uc5d0 \\ud5c8\\uc6a9\\ud588\\ub358 \\uad8c\\ud55c\\uc744 \\uc218\\uc815\\ud560 \\uc218 \\uc788\\uc2b5\\ub2c8\\ub2e4.\"\u001b[39;49;00m,\u001b[37m\u001b[39;49;00m\n",
            "\u001b[37m  \u001b[39;49;00m\u001b[94m\"descriptionHTML\"\u001b[39;49;00m:\u001b[37m \u001b[39;49;00m\u001b[33m\"\\uc18c\\uc911\\ud55c \\uc0ac\\ub78c\\ub4e4\\uacfc \\ucf58\\ud150\\uce20\\uc5d0 \\ub354\\uc6b1 \\uac00\\uae4c\\uc774 \\ub2e4\\uac00\\uac08 \\uc218 \\uc788\\ub294 \\uacf5\\uac04 - Instagram from Facebook<br><br>\\uce5c\\uad6c\\ub4e4\\uacfc \\uc18c\\ud1b5\\ud558\\uace0 \\uc18c\\uc2dd\\uc744 \\uacf5\\uc720\\ud558\\uac70\\ub098 \\uc804 \\uc138\\uacc4\\uc5d0 \\uc788\\ub294 \\ub2e4\\ub978 \\uc0ac\\ub78c\\ub4e4\\uc758 \\uc0c8\\ub85c\\uc6b4 \\ucf58\\ud150\\uce20\\ub97c \\ud655\\uc778\\ud558\\uc138\\uc694. \\uc790\\uc720\\ub86d\\uac8c \\uac1c\\uc131\\uc744 \\ub4dc\\ub7ec\\ub0b4\\uace0 \\uc77c\\uc0c1\\uc801\\uc778 \\uc21c\\uac04\\ubd80\\ud130 \\uc0b6\\uc758 \\ud2b9\\ubcc4\\ud55c \\uc21c\\uac04\\uae4c\\uc9c0 \\ubaa8\\ub4e0 \\uc18c\\uc2dd\\uc744 \\uacf5\\uc720\\ud560 \\uc218 \\uc788\\ub294 \\ucee4\\ubba4\\ub2c8\\ud2f0\\ub3c4 \\ub458\\ub7ec\\ubcf4\\uc138\\uc694.<br><br>\\uc790\\uc720\\ub86d\\uac8c \\ud45c\\ud604\\ud558\\uace0 \\uce5c\\uad6c\\ub4e4\\uacfc \\uc18c\\ud1b5\\ud558\\uae30<br><br>* 24\\uc2dc\\uac04 \\ud6c4\\uc5d0 \\uc0ac\\ub77c\\uc9c0\\ub294 \\uc2a4\\ud1a0\\ub9ac\\uc5d0 \\uc0ac\\uc9c4\\uacfc \\ub3d9\\uc601\\uc0c1\\uc744 \\ucd94\\uac00\\ud558\\uace0, \\uc7ac\\ubbf8\\uc788\\ub294 \\ud06c\\ub9ac\\uc5d0\\uc774\\ud2f0\\ube0c \\ub3c4\\uad6c\\ub85c \\uc2a4\\ud1a0\\ub9ac\\uc5d0 \\uc0dd\\ub3d9\\uac10\\uc744 \\ub354\\ud574\\ubcf4\\uc138\\uc694.<br>* \\uce5c\\uad6c\\uc5d0\\uac8c Direct \\uba54\\uc2dc\\uc9c0\\ub97c \\ubcf4\\ub0b4\\ubcf4\\uc138\\uc694. \\ud53c\\ub4dc\\uc640 \\uc2a4\\ud1a0\\ub9ac\\uc5d0\\uc11c \\ubcf8 \\ucf58\\ud150\\uce20\\uc5d0 \\uad00\\ud574 \\uc990\\uac81\\uac8c \\ub300\\ud654\\ud560 \\uc218 \\uc788\\uc2b5\\ub2c8\\ub2e4.<br>* \\ud504\\ub85c\\ud544\\uc5d0 \\ud45c\\uc2dc\\ud558\\uace0 \\uc2f6\\uc740 \\uc0ac\\uc9c4\\uacfc \\ub3d9\\uc601\\uc0c1\\uc744 \\ud53c\\ub4dc\\uc5d0 \\uac8c\\uc2dc\\ud574\\ubcf4\\uc138\\uc694.<br><br>\\uad00\\uc2ec\\uc0ac\\uc5d0 \\ub300\\ud574 \\ub354 \\uc54c\\uc544\\ubcf4\\uae30<br><br>* IGTV\\uc5d0\\uc11c \\uc88b\\uc544\\ud558\\ub294 \\ud06c\\ub9ac\\uc5d0\\uc774\\ud130\\uac00 \\uc62c\\ub9b0 \\ub354 \\uae34 \\ub3d9\\uc601\\uc0c1\\uc744 \\ud655\\uc778\\ud574\\ubcf4\\uc138\\uc694.<br>* \\ub458\\ub7ec\\ubcf4\\uae30\\uc5d0\\uc11c \\uc0c8\\ub85c\\uc6b4 \\uacc4\\uc815\\uc758 \\uc0ac\\uc9c4\\uacfc \\ub3d9\\uc601\\uc0c1\\uc73c\\ub85c\\ubd80\\ud130 \\uc544\\uc774\\ub514\\uc5b4\\ub97c \\uc5bb\\uc5b4\\ubcf4\\uc138\\uc694.<br>* \\ub2e4\\uc591\\ud55c \\ube0c\\ub79c\\ub4dc\\uc640 \\uc18c\\uaddc\\ubaa8 \\ube44\\uc988\\ub2c8\\uc2a4\\ub97c \\ubc1c\\uacac\\ud558\\uace0 \\uad00\\uc2ec \\uc788\\ub294 \\uc81c\\ud488\\uc744 \\uad6c\\ub9e4\\ud574\\ubcf4\\uc138\\uc694.<br><br>**\\uae30\\uae30 \\uad8c\\ud55c**<br>Android \\uc6b4\\uc601 \\uccb4\\uc81c\\ub294 \\uc571\\uc5d0\\uc11c \\ud2b9\\uc815 \\uae30\\ub2a5\\uc774\\ub098 \\ub370\\uc774\\ud130\\uc5d0 \\uc5d1\\uc138\\uc2a4\\ud558\\uae30 \\uc704\\ud574 \\uad8c\\ud55c \\uc2dc\\uc2a4\\ud15c\\uc744 \\uc774\\uc6a9\\ud569\\ub2c8\\ub2e4. \\ucc98\\uc74c\\uc73c\\ub85c \\uc571\\uc5d0 \\ub2e4\\uc74c \\uad8c\\ud55c \\uc911 \\ud558\\ub098\\uac00 \\ud544\\uc694\\ud574\\uc9c8 \\ub54c, \\uad8c\\ud55c \\ud5c8\\uc6a9\\uc744 \\uc704\\ud55c \\uba54\\uc2dc\\uc9c0\\uac00 \\ud45c\\uc2dc\\ub429\\ub2c8\\ub2e4.<br>Instagram \\uc571\\uc5d0\\uc11c \\uc774\\uc6a9\\ud558\\ub294 \\uad8c\\ud55c\\uc5d0 \\ub300\\ud55c \\uc774\\ud574\\ub97c \\ub3d5\\uace0\\uc790, \\ub2e4\\uc74c\\uacfc \\uac19\\uc774 \\uc694\\uccad\\ub418\\ub294 \\uad8c\\ud55c \\ubc0f \\uac01 \\uad8c\\ud55c\\uc774 \\uc694\\uccad\\ub418\\ub294 \\uc8fc\\uc694 \\uc774\\uc720\\ub97c \\uc54c\\ub824\\ub4dc\\ub9bd\\ub2c8\\ub2e4. \\ub2e4\\uc74c \\uad8c\\ud55c\\uc740 \\ubaa8\\ub450 \\uc120\\ud0dd \\uac00\\ub2a5\\ud55c \\uc635\\uc158 \\ud56d\\ubaa9\\uc785\\ub2c8\\ub2e4. \\uc989, \\uac01 \\uad8c\\ud55c\\uc744 \\ud5c8\\uc6a9\\ud558\\uc9c0 \\uc54a\\ub294 \\uacbd\\uc6b0 \\ud2b9\\uc815 \\uae30\\ub2a5\\uc774 \\ub3d9\\uc791\\ud558\\uc9c0 \\uc54a\\uc744 \\uc218 \\uc788\\uc9c0\\ub9cc Instagram \\uc571 \\uc790\\uccb4\\ub294 \\uacc4\\uc18d \\uc774\\uc6a9\\ud558\\uc2e4 \\uc218 \\uc788\\uc2b5\\ub2c8\\ub2e4.<br>\\uc5f0\\ub77d\\ucc98: \\uce5c\\uad6c\\ub4e4\\uacfc \\uc5f0\\uacb0\\ud558\\uae30 \\uc704\\ud574 Instagram\\uc5d0\\uc11c \\uc5f0\\ub77d\\ucc98 \\uc815\\ubcf4\\uc5d0 \\uc561\\uc138\\uc2a4\\ud558\\ub3c4\\ub85d \\ud5c8\\uc6a9\\ud558\\ub294 \\uad8c\\ud55c\\uc785\\ub2c8\\ub2e4.<br>\\uc704\\uce58 \\uc815\\ubcf4: \\uc6d0\\ud558\\ub294 \\uc7a5\\uc18c\\ub97c \\ucc3e\\uace0, \\uc6d0\\ud558\\ub294 \\uacbd\\uc6b0 \\ud604\\uc7ac \\uc704\\uce58\\uc640 \\uad00\\ub828\\ub41c \\uc815\\ubcf4\\ub97c \\ubcfc \\ub54c \\ud544\\uc694\\ud55c \\uad8c\\ud55c\\uc785\\ub2c8\\ub2e4.<br>\\uc800\\uc7a5\\uacf5\\uac04: Instagram\\uc5d0 \\uc0ac\\uc9c4\\uacfc \\ub3d9\\uc601\\uc0c1\\uc744 \\uc5c5\\ub85c\\ub4dc\\ud558\\uace0 \\uce74\\uba54\\ub77c \\ub864\\uc5d0 \\uc0ac\\uc9c4\\uacfc \\ub3d9\\uc601\\uc0c1\\uc744 \\uc800\\uc7a5\\ud560 \\ub54c \\ud544\\uc694\\ud55c \\uad8c\\ud55c\\uc785\\ub2c8\\ub2e4.<br>\\uce74\\uba54\\ub77c: \\uc0ac\\uc9c4\\uacfc \\ub3d9\\uc601\\uc0c1\\uc744 \\ucc0d\\uc744 \\ub54c \\ud544\\uc694\\ud55c \\uad8c\\ud55c\\uc785\\ub2c8\\ub2e4.<br>\\ub9c8\\uc774\\ud06c: \\ub3d9\\uc601\\uc0c1 \\ub179\\ud654 \\uc2dc \\uc18c\\ub9ac\\ub97c \\ud568\\uaed8 \\ub179\\uc74c\\ud558\\ub294 \\ub370 \\ud544\\uc694\\ud55c \\uad8c\\ud55c\\uc785\\ub2c8\\ub2e4.<br>\\uc804\\ud654: \\uacc4\\uc815 \\uc561\\uc138\\uc2a4\\ub97c \\uc704\\ud574 \\uc804\\ud654 \\uc0c1\\ud0dc\\ub97c \\uc77d\\uace0 \\uc2dd\\ubcc4\\ud558\\uae30 \\uc704\\ud574 \\ud544\\uc694\\ud55c \\uad8c\\ud55c\\uc785\\ub2c8\\ub2e4.<br> <br>**\\ucc38\\uace0**: \\uc774\\ub7ec\\ud55c \\uad8c\\ud55c\\uc744 \\uac01\\uac01 \\uc124\\uc815\\ud558\\ub294 \\uae30\\ub2a5\\uc740 Android 6.0 \\uc774\\ud6c4 \\ubc84\\uc804\\ubd80\\ud130 \\uac00\\ub2a5\\ud569\\ub2c8\\ub2e4. Android 6.0 \\uc774\\uc804 \\ubc84\\uc804\\uc744 \\uc774\\uc6a9\\ud558\\ub294 \\uacbd\\uc6b0, \\uc571 \\uad8c\\ud55c\\uc744 \\uad6c\\uc131\\ud558\\ub824\\uba74 \\uc18c\\ud504\\ud2b8\\uc6e8\\uc5b4\\ub97c \\uc5c5\\ub370\\uc774\\ud2b8\\ud574\\uc57c \\ud569\\ub2c8\\ub2e4. \\uc18c\\ud504\\ud2b8\\uc6e8\\uc5b4 \\uc5c5\\ub370\\uc774\\ud2b8\\ub97c \\ub9c8\\uce5c \\ud6c4 \\uae30\\uae30 \\uc124\\uc815\\uc5d0\\uc11c \\uae30\\uc874\\uc5d0 \\ud5c8\\uc6a9\\ud588\\ub358 \\uad8c\\ud55c\\uc744 \\uc218\\uc815\\ud560 \\uc218 \\uc788\\uc2b5\\ub2c8\\ub2e4.\"\u001b[39;49;00m,\u001b[37m\u001b[39;49;00m\n",
            "\u001b[37m  \u001b[39;49;00m\u001b[94m\"developer\"\u001b[39;49;00m:\u001b[37m \u001b[39;49;00m\u001b[33m\"Instagram\"\u001b[39;49;00m,\u001b[37m\u001b[39;49;00m\n",
            "\u001b[37m  \u001b[39;49;00m\u001b[94m\"developerAddress\"\u001b[39;49;00m:\u001b[37m \u001b[39;49;00m\u001b[33m\"Facebook, Inc.\\n1601 Willow Rd\\nMenlo Park, CA 94025\\nUnited States\"\u001b[39;49;00m,\u001b[37m\u001b[39;49;00m\n",
            "\u001b[37m  \u001b[39;49;00m\u001b[94m\"developerEmail\"\u001b[39;49;00m:\u001b[37m \u001b[39;49;00m\u001b[33m\"android-support@instagram.com\"\u001b[39;49;00m,\u001b[37m\u001b[39;49;00m\n",
            "\u001b[37m  \u001b[39;49;00m\u001b[94m\"developerId\"\u001b[39;49;00m:\u001b[37m \u001b[39;49;00m\u001b[33m\"Instagram\"\u001b[39;49;00m,\u001b[37m\u001b[39;49;00m\n",
            "\u001b[37m  \u001b[39;49;00m\u001b[94m\"developerWebsite\"\u001b[39;49;00m:\u001b[37m \u001b[39;49;00m\u001b[33m\"http://help.instagram.com/\"\u001b[39;49;00m,\u001b[37m\u001b[39;49;00m\n",
            "\u001b[37m  \u001b[39;49;00m\u001b[94m\"free\"\u001b[39;49;00m:\u001b[37m \u001b[39;49;00m\u001b[34mtrue\u001b[39;49;00m,\u001b[37m\u001b[39;49;00m\n",
            "\u001b[37m  \u001b[39;49;00m\u001b[94m\"genre\"\u001b[39;49;00m:\u001b[37m \u001b[39;49;00m\u001b[33m\"\\uc18c\\uc15c\"\u001b[39;49;00m,\u001b[37m\u001b[39;49;00m\n",
            "\u001b[37m  \u001b[39;49;00m\u001b[94m\"genreId\"\u001b[39;49;00m:\u001b[37m \u001b[39;49;00m\u001b[33m\"SOCIAL\"\u001b[39;49;00m,\u001b[37m\u001b[39;49;00m\n",
            "\u001b[37m  \u001b[39;49;00m\u001b[94m\"headerImage\"\u001b[39;49;00m:\u001b[37m \u001b[39;49;00m\u001b[33m\"https://play-lh.googleusercontent.com/LZdsQGEbRqcZIjvWdiJTjlaGQJQjP097FAIvl4XfOi_XHagmC83Lc04PDxaq8Ml6xJk\"\u001b[39;49;00m,\u001b[37m\u001b[39;49;00m\n",
            "\u001b[37m  \u001b[39;49;00m\u001b[94m\"histogram\"\u001b[39;49;00m:\u001b[37m \u001b[39;49;00m[\u001b[37m\u001b[39;49;00m\n",
            "\u001b[37m    \u001b[39;49;00m\u001b[34m28450581\u001b[39;49;00m,\u001b[37m\u001b[39;49;00m\n",
            "\u001b[37m    \u001b[39;49;00m\u001b[34m5973772\u001b[39;49;00m,\u001b[37m\u001b[39;49;00m\n",
            "\u001b[37m    \u001b[39;49;00m\u001b[34m9291872\u001b[39;49;00m,\u001b[37m\u001b[39;49;00m\n",
            "\u001b[37m    \u001b[39;49;00m\u001b[34m15068854\u001b[39;49;00m,\u001b[37m\u001b[39;49;00m\n",
            "\u001b[37m    \u001b[39;49;00m\u001b[34m91134441\u001b[39;49;00m\u001b[37m\u001b[39;49;00m\n",
            "\u001b[37m  \u001b[39;49;00m],\u001b[37m\u001b[39;49;00m\n",
            "\u001b[37m  \u001b[39;49;00m\u001b[94m\"icon\"\u001b[39;49;00m:\u001b[37m \u001b[39;49;00m\u001b[33m\"https://play-lh.googleusercontent.com/VRMWkE5p3CkWhJs6nv-9ZsLAs1QOg5ob1_3qg-rckwYW7yp1fMrYZqnEFpk0IoVP4LM\"\u001b[39;49;00m,\u001b[37m\u001b[39;49;00m\n",
            "\u001b[37m  \u001b[39;49;00m\u001b[94m\"inAppProductPrice\"\u001b[39;49;00m:\u001b[37m \u001b[39;49;00m\u001b[33m\"\\ud56d\\ubaa9\\ub2f9 \\u20a973 - \\u20a91,570,000\"\u001b[39;49;00m,\u001b[37m\u001b[39;49;00m\n",
            "\u001b[37m  \u001b[39;49;00m\u001b[94m\"installs\"\u001b[39;49;00m:\u001b[37m \u001b[39;49;00m\u001b[33m\"5,000,000,000+\"\u001b[39;49;00m,\u001b[37m\u001b[39;49;00m\n",
            "\u001b[37m  \u001b[39;49;00m\u001b[94m\"minInstalls\"\u001b[39;49;00m:\u001b[37m \u001b[39;49;00m\u001b[34m5000000000\u001b[39;49;00m,\u001b[37m\u001b[39;49;00m\n",
            "\u001b[37m  \u001b[39;49;00m\u001b[94m\"offersIAP\"\u001b[39;49;00m:\u001b[37m \u001b[39;49;00m\u001b[34mtrue\u001b[39;49;00m,\u001b[37m\u001b[39;49;00m\n",
            "\u001b[37m  \u001b[39;49;00m\u001b[94m\"originalPrice\"\u001b[39;49;00m:\u001b[37m \u001b[39;49;00m\u001b[34mnull\u001b[39;49;00m,\u001b[37m\u001b[39;49;00m\n",
            "\u001b[37m  \u001b[39;49;00m\u001b[94m\"price\"\u001b[39;49;00m:\u001b[37m \u001b[39;49;00m\u001b[34m0\u001b[39;49;00m,\u001b[37m\u001b[39;49;00m\n",
            "\u001b[37m  \u001b[39;49;00m\u001b[94m\"privacyPolicy\"\u001b[39;49;00m:\u001b[37m \u001b[39;49;00m\u001b[33m\"http://instagram.com/legal/privacy/\"\u001b[39;49;00m,\u001b[37m\u001b[39;49;00m\n",
            "\u001b[37m  \u001b[39;49;00m\u001b[94m\"ratings\"\u001b[39;49;00m:\u001b[37m \u001b[39;49;00m\u001b[34m149920267\u001b[39;49;00m,\u001b[37m\u001b[39;49;00m\n",
            "\u001b[37m  \u001b[39;49;00m\u001b[94m\"realInstalls\"\u001b[39;49;00m:\u001b[37m \u001b[39;49;00m\u001b[34m5218443525\u001b[39;49;00m,\u001b[37m\u001b[39;49;00m\n",
            "\u001b[37m  \u001b[39;49;00m\u001b[94m\"released\"\u001b[39;49;00m:\u001b[37m \u001b[39;49;00m\u001b[33m\"2012. 4. 3.\"\u001b[39;49;00m,\u001b[37m\u001b[39;49;00m\n",
            "\u001b[37m  \u001b[39;49;00m\u001b[94m\"reviews\"\u001b[39;49;00m:\u001b[37m \u001b[39;49;00m\u001b[34m250795\u001b[39;49;00m,\u001b[37m\u001b[39;49;00m\n",
            "\u001b[37m  \u001b[39;49;00m\u001b[94m\"sale\"\u001b[39;49;00m:\u001b[37m \u001b[39;49;00m\u001b[34mfalse\u001b[39;49;00m,\u001b[37m\u001b[39;49;00m\n",
            "\u001b[37m  \u001b[39;49;00m\u001b[94m\"saleText\"\u001b[39;49;00m:\u001b[37m \u001b[39;49;00m\u001b[34mnull\u001b[39;49;00m,\u001b[37m\u001b[39;49;00m\n",
            "\u001b[37m  \u001b[39;49;00m\u001b[94m\"saleTime\"\u001b[39;49;00m:\u001b[37m \u001b[39;49;00m\u001b[34mnull\u001b[39;49;00m,\u001b[37m\u001b[39;49;00m\n",
            "\u001b[37m  \u001b[39;49;00m\u001b[94m\"score\"\u001b[39;49;00m:\u001b[37m \u001b[39;49;00m\u001b[34m3.8968952\u001b[39;49;00m,\u001b[37m\u001b[39;49;00m\n",
            "\u001b[37m  \u001b[39;49;00m\u001b[94m\"screenshots\"\u001b[39;49;00m:\u001b[37m \u001b[39;49;00m[\u001b[37m\u001b[39;49;00m\n",
            "\u001b[37m    \u001b[39;49;00m\u001b[33m\"https://play-lh.googleusercontent.com/g_KkOp_pAeKDo0ilESJ3YocfqRY6cd72etKTM1MZeyniprh86gFkpPz3UM5IEO9UFLg\"\u001b[39;49;00m,\u001b[37m\u001b[39;49;00m\n",
            "\u001b[37m    \u001b[39;49;00m\u001b[33m\"https://play-lh.googleusercontent.com/UxffI-Z9_WsrGFdhBmw2lkaJYYjdNh9DPRc7FOzryjQdvILrjzmCUX5AUyz7meW3zu0\"\u001b[39;49;00m,\u001b[37m\u001b[39;49;00m\n",
            "\u001b[37m    \u001b[39;49;00m\u001b[33m\"https://play-lh.googleusercontent.com/mvj10VRwqYwqTeSAFhDV61R6JBke0vvWZ9RBbLvYpuNep1_NZBOoG7PAADj-p3PNlus\"\u001b[39;49;00m,\u001b[37m\u001b[39;49;00m\n",
            "\u001b[37m    \u001b[39;49;00m\u001b[33m\"https://play-lh.googleusercontent.com/byFXhjiO3sIL-5anJ4tnJg1xR-lhBnoMUcclZld-vV-df5NpW0ljTrZk5AMo4wBNfw\"\u001b[39;49;00m,\u001b[37m\u001b[39;49;00m\n",
            "\u001b[37m    \u001b[39;49;00m\u001b[33m\"https://play-lh.googleusercontent.com/cRkzRrUOnOI0ixnBLVHUYT4Rn02A4aaYXBedkdqbNCercJbN9TlVCbBwByaLj8j-3Ac\"\u001b[39;49;00m,\u001b[37m\u001b[39;49;00m\n",
            "\u001b[37m    \u001b[39;49;00m\u001b[33m\"https://play-lh.googleusercontent.com/LTtcFLCCEkh5o77rhaK-82-Un4DeHa7cQD7fn9nvhUthFbWwieDKvYgmKq5fmrGPFEo\"\u001b[39;49;00m\u001b[37m\u001b[39;49;00m\n",
            "\u001b[37m  \u001b[39;49;00m],\u001b[37m\u001b[39;49;00m\n",
            "\u001b[37m  \u001b[39;49;00m\u001b[94m\"summary\"\u001b[39;49;00m:\u001b[37m \u001b[39;49;00m\u001b[33m\"\\uc18c\\uc911\\ud55c \\uc0ac\\ub78c\\ub4e4\\uacfc \\ucf58\\ud150\\uce20\\uc5d0 \\ub354\\uc6b1 \\uac00\\uae4c\\uc774 \\ub2e4\\uac00\\uac08 \\uc218 \\uc788\\ub294 \\uacf5\\uac04\"\u001b[39;49;00m,\u001b[37m\u001b[39;49;00m\n",
            "\u001b[37m  \u001b[39;49;00m\u001b[94m\"title\"\u001b[39;49;00m:\u001b[37m \u001b[39;49;00m\u001b[33m\"Instagram\"\u001b[39;49;00m,\u001b[37m\u001b[39;49;00m\n",
            "\u001b[37m  \u001b[39;49;00m\u001b[94m\"updated\"\u001b[39;49;00m:\u001b[37m \u001b[39;49;00m\u001b[34m1701211333\u001b[39;49;00m,\u001b[37m\u001b[39;49;00m\n",
            "\u001b[37m  \u001b[39;49;00m\u001b[94m\"url\"\u001b[39;49;00m:\u001b[37m \u001b[39;49;00m\u001b[33m\"https://play.google.com/store/apps/details?id=com.instagram.android&hl=ko&gl=KR\"\u001b[39;49;00m,\u001b[37m\u001b[39;49;00m\n",
            "\u001b[37m  \u001b[39;49;00m\u001b[94m\"version\"\u001b[39;49;00m:\u001b[37m \u001b[39;49;00m\u001b[34mnull\u001b[39;49;00m,\u001b[37m\u001b[39;49;00m\n",
            "\u001b[37m  \u001b[39;49;00m\u001b[94m\"video\"\u001b[39;49;00m:\u001b[37m \u001b[39;49;00m\u001b[34mnull\u001b[39;49;00m,\u001b[37m\u001b[39;49;00m\n",
            "\u001b[37m  \u001b[39;49;00m\u001b[94m\"videoImage\"\u001b[39;49;00m:\u001b[37m \u001b[39;49;00m\u001b[34mnull\u001b[39;49;00m\u001b[37m\u001b[39;49;00m\n",
            "}\u001b[37m\u001b[39;49;00m\n",
            "\n"
          ]
        }
      ],
      "source": [
        "print_json(app_infos[0])"
      ]
    },
    {
      "cell_type": "markdown",
      "metadata": {
        "id": "I-My2AUol2In"
      },
      "source": [
        "print_json이라는 이름의 함수를 정의합니다. 이 함수는 JSON 객체를 인자로 받아서 읽기 좋게 출력하는 역할을 합니다."
      ]
    },
    {
      "cell_type": "markdown",
      "metadata": {
        "id": "QSdlL5vkl33G"
      },
      "source": [
        "json.dumps 함수를 사용하여 JSON 객체를 문자열로 변환합니다. <br>\n",
        "\n",
        "- json_object: 변환할 JSON 객체를 나타냅니다.\n",
        "- indent=2: 들여쓰기를 2칸으로 설정하여 출력 형식을 보기 좋게 만듭니다.\n",
        "- sort_keys=True: 키를 알파벳 순서로 정렬하여 출력합니다.\n",
        "- default=str: 기본적으로는 JSON 인코딩 중에 발생하는 TypeError를 방지하기 위해 사용되며, str 함수를 사용하여 객체를 문자열로 변환합니다."
      ]
    },
    {
      "cell_type": "code",
      "execution_count": 12,
      "metadata": {
        "id": "Ys8QwUUU7VVn"
      },
      "outputs": [],
      "source": [
        "app_infos_df = pd.DataFrame(app_infos)\n",
        "app_infos_df.to_csv('apps.csv', index=None, header=True)"
      ]
    },
    {
      "cell_type": "markdown",
      "metadata": {
        "id": "k_H_FNCTl9nQ"
      },
      "source": [
        "app_infos 리스트에 저장된 앱 정보를 DataFrame으로 변환하고, 이를 CSV 파일로 저장하는 부분"
      ]
    },
    {
      "cell_type": "code",
      "execution_count": 13,
      "metadata": {
        "id": "1ukTWEwu7WVm",
        "colab": {
          "base_uri": "https://localhost:8080/"
        },
        "outputId": "678683c4-2edb-485c-a487-a3846e00000a"
      },
      "outputs": [
        {
          "output_type": "stream",
          "name": "stderr",
          "text": [
            "100%|██████████| 1/1 [00:11<00:00, 11.24s/it]\n"
          ]
        }
      ],
      "source": [
        "app_reviews = []\n",
        "\n",
        "for ap in tqdm(app_packages): #app_packages에 있는 각 앱 패키지에 대해 반복하고,\n",
        "# 각 앱에 대해 1부터 5까지의 점수와 정렬 방법(MOST_RELEVANT, NEWEST)에 대해 반복합니다.\n",
        "  for score in list(range(1, 6)):\n",
        "    for sort_order in [Sort.MOST_RELEVANT, Sort.NEWEST]:\n",
        "      rvs, _ = reviews(\n",
        "        ap,\n",
        "        lang='ko',\n",
        "        country='KR',\n",
        "        sort=sort_order,\n",
        "        count= 200 if score == 3 else 100,\n",
        "        filter_score_with=score\n",
        "      )\n",
        "      for r in rvs:\n",
        "        r['sortOrder'] = 'most_relevant' if sort_order == Sort.MOST_RELEVANT else 'newest'\n",
        "        r['appId'] = ap\n",
        "      app_reviews.extend(rvs)"
      ]
    },
    {
      "cell_type": "markdown",
      "metadata": {
        "id": "VmkaD6Q-mSZe"
      },
      "source": [
        "google_play_scraper 라이브러리의 reviews 함수를 사용하여 각 앱에 대한 리뷰를 가져옵니다. ap는 현재 앱 패키지, score는 현재 점수, sort_order는 정렬 방법을 나타냅니다. 리뷰는 최대 200개(점수가 3점일 때) 또는 100개(그 외 점수)까지 가져옵니다."
      ]
    },
    {
      "cell_type": "code",
      "execution_count": 14,
      "metadata": {
        "id": "wLnxG2_z7Xgl",
        "colab": {
          "base_uri": "https://localhost:8080/"
        },
        "outputId": "e997c537-e328-4238-9e7f-921b6d947c66"
      },
      "outputs": [
        {
          "output_type": "stream",
          "name": "stdout",
          "text": [
            "{\u001b[37m\u001b[39;49;00m\n",
            "\u001b[37m  \u001b[39;49;00m\u001b[94m\"appId\"\u001b[39;49;00m:\u001b[37m \u001b[39;49;00m\u001b[33m\"com.instagram.android\"\u001b[39;49;00m,\u001b[37m\u001b[39;49;00m\n",
            "\u001b[37m  \u001b[39;49;00m\u001b[94m\"appVersion\"\u001b[39;49;00m:\u001b[37m \u001b[39;49;00m\u001b[33m\"304.0.0.35.106\"\u001b[39;49;00m,\u001b[37m\u001b[39;49;00m\n",
            "\u001b[37m  \u001b[39;49;00m\u001b[94m\"at\"\u001b[39;49;00m:\u001b[37m \u001b[39;49;00m\u001b[33m\"2023-10-16 11:54:06\"\u001b[39;49;00m,\u001b[37m\u001b[39;49;00m\n",
            "\u001b[37m  \u001b[39;49;00m\u001b[94m\"content\"\u001b[39;49;00m:\u001b[37m \u001b[39;49;00m\u001b[33m\"\\uc778\\uc2a4\\ud0c0 \\uc911\\ub3c5\\uc774 \\uac71\\uc815\\ub420 \\uc815\\ub3c4\\ub85c \\uc7ac\\ubc0c\\uac8c \\uc4f0\\uace0 \\uc788\\uc5c8\\ub294\\ub370 \\ucd5c\\uadfc\\ub4e4\\uc5b4 \\ubc84\\uadf8\\ub3c4 \\ub108\\ubb34 \\ub9ce\\uace0 \\uc218\\uc815\\uc740 \\uc804\\ud600 \\uc548\\ub418\\uace0 \\ubd88\\ud3b8\\ud574\\uc838\\uc11c \\uc790\\uc5f0\\uc2a4\\ub7fd\\uac8c \\uba40\\uc5b4\\uc9c0\\uace0 \\uc788\\ub124\\uc694. 1. \\uc778\\uc2a4\\ud0c0\\uc758 \\ucd5c\\ub300 \\uc7a5\\uc810\\uc774\\uc5c8\\ub358 \\\"\\ucd5c\\uadfc\\uac8c\\uc2dc\\ubb3c\\\" \\uae30\\ub2a5. \\uc624\\ub298\\uc790 \\ubc9a\\uaf43 \\uac1c\\ud654 \\uc0c1\\ud669, \\uc124\\uc545\\uc0b0 \\ub2e8\\ud48d \\uc0c1\\ud669 \\uac80\\uc0c9\\ud560 \\ub54c \\ucc38 \\uc720\\uc6a9\\ud588\\ub294\\ub370 \\uc774 \\uae30\\ub2a5\\uc774 \\uc5c6\\uc5b4\\uc9c0\\ub2c8 \\uc4f8\\ubaa8\\uc5c6\\ub294 \\uc5b4\\ud50c\\uc774 \\ub410\\uc5b4\\uc694. 2. \\uce5c\\uad6c\\ub4e4 \\ud53c\\ub4dc\\uc5d0\\uc11c \\\"\\ub354\\ubcf4\\uae30\\\" \\ud074\\ub9ad\\ud558\\uba74 \\ubcf8\\ubb38 \\ub0b4\\uc6a9\\uc774 \\ud558\\uc597\\uac8c \\ub418\\uba74\\uc11c \\uc544\\ubb34\\uac83\\ub3c4 \\uc548\\ubcf4\\uc5ec\\uc694\\u3160\\u3160 \\ub124\\ud2b8\\uc6cc\\ud06c \\uc815\\uc0c1\\uc5d0 \\ud3f0\\ub3c4 \\ucd5c\\uc2e0(\\uac24\\ub7ed\\uc2dc 22 \\uc6b8\\ud2b8\\ub77c)\\uc774\\uace0 \\uc5c5\\ub370\\uc774\\ud2b8\\ub3c4 \\ub2e4 \\ud588\\ub294\\ub370 \\ubb50\\uac00 \\ubb38\\uc824\\uae4c\\uc694... \\uac1c\\uc120\\uc774 \\ub410\\uc73c\\uba74 \\uc88b\\uaca0\\uc5b4\\uc694\"\u001b[39;49;00m,\u001b[37m\u001b[39;49;00m\n",
            "\u001b[37m  \u001b[39;49;00m\u001b[94m\"repliedAt\"\u001b[39;49;00m:\u001b[37m \u001b[39;49;00m\u001b[34mnull\u001b[39;49;00m,\u001b[37m\u001b[39;49;00m\n",
            "\u001b[37m  \u001b[39;49;00m\u001b[94m\"replyContent\"\u001b[39;49;00m:\u001b[37m \u001b[39;49;00m\u001b[34mnull\u001b[39;49;00m,\u001b[37m\u001b[39;49;00m\n",
            "\u001b[37m  \u001b[39;49;00m\u001b[94m\"reviewCreatedVersion\"\u001b[39;49;00m:\u001b[37m \u001b[39;49;00m\u001b[33m\"304.0.0.35.106\"\u001b[39;49;00m,\u001b[37m\u001b[39;49;00m\n",
            "\u001b[37m  \u001b[39;49;00m\u001b[94m\"reviewId\"\u001b[39;49;00m:\u001b[37m \u001b[39;49;00m\u001b[33m\"d4ba493c-9cf2-43f8-8595-1730585eef48\"\u001b[39;49;00m,\u001b[37m\u001b[39;49;00m\n",
            "\u001b[37m  \u001b[39;49;00m\u001b[94m\"score\"\u001b[39;49;00m:\u001b[37m \u001b[39;49;00m\u001b[34m1\u001b[39;49;00m,\u001b[37m\u001b[39;49;00m\n",
            "\u001b[37m  \u001b[39;49;00m\u001b[94m\"sortOrder\"\u001b[39;49;00m:\u001b[37m \u001b[39;49;00m\u001b[33m\"most_relevant\"\u001b[39;49;00m,\u001b[37m\u001b[39;49;00m\n",
            "\u001b[37m  \u001b[39;49;00m\u001b[94m\"thumbsUpCount\"\u001b[39;49;00m:\u001b[37m \u001b[39;49;00m\u001b[34m355\u001b[39;49;00m,\u001b[37m\u001b[39;49;00m\n",
            "\u001b[37m  \u001b[39;49;00m\u001b[94m\"userImage\"\u001b[39;49;00m:\u001b[37m \u001b[39;49;00m\u001b[33m\"https://play-lh.googleusercontent.com/a/ACg8ocIKOsghHBiUx9We3HualuHJm4JS2LFt2NIQpxCERlqj=mo\"\u001b[39;49;00m,\u001b[37m\u001b[39;49;00m\n",
            "\u001b[37m  \u001b[39;49;00m\u001b[94m\"userName\"\u001b[39;49;00m:\u001b[37m \u001b[39;49;00m\u001b[33m\"Minjung Park\"\u001b[39;49;00m\u001b[37m\u001b[39;49;00m\n",
            "}\u001b[37m\u001b[39;49;00m\n",
            "\n"
          ]
        }
      ],
      "source": [
        "print_json(app_reviews[0])"
      ]
    },
    {
      "cell_type": "code",
      "execution_count": 15,
      "metadata": {
        "id": "Y-GcjQow7YuJ",
        "colab": {
          "base_uri": "https://localhost:8080/"
        },
        "outputId": "18840827-ec8a-4ebc-8670-741e80f15534"
      },
      "outputs": [
        {
          "output_type": "execute_result",
          "data": {
            "text/plain": [
              "1200"
            ]
          },
          "metadata": {},
          "execution_count": 15
        }
      ],
      "source": [
        "len(app_reviews)"
      ]
    },
    {
      "cell_type": "markdown",
      "metadata": {
        "id": "_26Iid91mBni"
      },
      "source": [
        "리뷰들이 몇 개인지 길이를 확인하는 코드입니다."
      ]
    },
    {
      "cell_type": "code",
      "execution_count": 16,
      "metadata": {
        "id": "RbA52vDu7Zkn",
        "colab": {
          "base_uri": "https://localhost:8080/",
          "height": 17
        },
        "outputId": "3f174387-e4c1-4c7a-ff38-42fb606e4c0f"
      },
      "outputs": [
        {
          "output_type": "display_data",
          "data": {
            "text/plain": [
              "<IPython.core.display.Javascript object>"
            ],
            "application/javascript": [
              "\n",
              "    async function download(id, filename, size) {\n",
              "      if (!google.colab.kernel.accessAllowed) {\n",
              "        return;\n",
              "      }\n",
              "      const div = document.createElement('div');\n",
              "      const label = document.createElement('label');\n",
              "      label.textContent = `Downloading \"${filename}\": `;\n",
              "      div.appendChild(label);\n",
              "      const progress = document.createElement('progress');\n",
              "      progress.max = size;\n",
              "      div.appendChild(progress);\n",
              "      document.body.appendChild(div);\n",
              "\n",
              "      const buffers = [];\n",
              "      let downloaded = 0;\n",
              "\n",
              "      const channel = await google.colab.kernel.comms.open(id);\n",
              "      // Send a message to notify the kernel that we're ready.\n",
              "      channel.send({})\n",
              "\n",
              "      for await (const message of channel.messages) {\n",
              "        // Send a message to notify the kernel that we're ready.\n",
              "        channel.send({})\n",
              "        if (message.buffers) {\n",
              "          for (const buffer of message.buffers) {\n",
              "            buffers.push(buffer);\n",
              "            downloaded += buffer.byteLength;\n",
              "            progress.value = downloaded;\n",
              "          }\n",
              "        }\n",
              "      }\n",
              "      const blob = new Blob(buffers, {type: 'application/binary'});\n",
              "      const a = document.createElement('a');\n",
              "      a.href = window.URL.createObjectURL(blob);\n",
              "      a.download = filename;\n",
              "      div.appendChild(a);\n",
              "      a.click();\n",
              "      div.remove();\n",
              "    }\n",
              "  "
            ]
          },
          "metadata": {}
        },
        {
          "output_type": "display_data",
          "data": {
            "text/plain": [
              "<IPython.core.display.Javascript object>"
            ],
            "application/javascript": [
              "download(\"download_39f25c38-13b6-467a-9cb1-4f0db593ba5e\", \"reviews.csv\", 617677)"
            ]
          },
          "metadata": {}
        }
      ],
      "source": [
        "from google.colab import files\n",
        "\n",
        "app_reviews_df = pd.DataFrame(app_reviews)\n",
        "app_reviews_df.to_csv('reviews.csv', index=None, header=True)\n",
        "\n",
        "files.download('reviews.csv')"
      ]
    },
    {
      "cell_type": "markdown",
      "metadata": {
        "id": "WI-BHLBImFM-"
      },
      "source": [
        "app_reviews 리스트에 저장된 앱 리뷰 정보를 DataFrame으로 변환하고, to_csv 함수를 사용하여 'reviews.csv'라는 파일로 저장합니다.\n",
        "\n",
        "- 'reviews.csv': 저장할 CSV 파일의 이름을 지정합니다.\n",
        "\n",
        "- index=None: DataFrame의 인덱스를 CSV 파일에 저장하지 않도록 설정합니다.\n",
        "\n",
        "- header=True: 헤더(열 이름)를 CSV 파일에 포함시킵니다."
      ]
    },
    {
      "cell_type": "markdown",
      "metadata": {
        "id": "M4PKufGomHqu"
      },
      "source": [
        "files.download 함수를 사용하여 'reviews.csv' 파일을 로컬로 다운로드합니다. 이를 구글 코랩 환경에서 실행할 경우 파일이 로컬로 다운로드됩니다."
      ]
    },
    {
      "cell_type": "markdown",
      "metadata": {
        "id": "5WrUbtiSNH42"
      },
      "source": [
        "# 1. 환경 세팅"
      ]
    },
    {
      "cell_type": "markdown",
      "metadata": {
        "id": "ZgXWk8dGfZN6"
      },
      "source": [
        "앞으로 사용할 패키지를 설치하는 과정입니다.\n",
        "\n"
      ]
    },
    {
      "cell_type": "code",
      "execution_count": 17,
      "metadata": {
        "id": "PrvomgjUnint",
        "colab": {
          "base_uri": "https://localhost:8080/",
          "height": 1000
        },
        "outputId": "143924b2-a2de-42d9-94ee-9cf0fadae3a5"
      },
      "outputs": [
        {
          "output_type": "stream",
          "name": "stdout",
          "text": [
            "Requirement already satisfied: numpy in /usr/local/lib/python3.10/site-packages (1.26.2)\n",
            "\u001b[33mWARNING: Running pip as the 'root' user can result in broken permissions and conflicting behaviour with the system package manager. It is recommended to use a virtual environment instead: https://pip.pypa.io/warnings/venv\u001b[0m\u001b[33m\n",
            "\u001b[0mCollecting pandas\n",
            "  Downloading pandas-2.1.3-cp310-cp310-manylinux_2_17_x86_64.manylinux2014_x86_64.whl (12.3 MB)\n",
            "\u001b[2K     \u001b[90m━━━━━━━━━━━━━━━━━━━━━━━━━━━━━━━━━━━━━━━━\u001b[0m \u001b[32m12.3/12.3 MB\u001b[0m \u001b[31m57.4 MB/s\u001b[0m eta \u001b[36m0:00:00\u001b[0m\n",
            "\u001b[?25hCollecting pytz>=2020.1\n",
            "  Downloading pytz-2023.3.post1-py2.py3-none-any.whl (502 kB)\n",
            "\u001b[2K     \u001b[90m━━━━━━━━━━━━━━━━━━━━━━━━━━━━━━━━━━━━━━━━\u001b[0m \u001b[32m502.5/502.5 kB\u001b[0m \u001b[31m39.8 MB/s\u001b[0m eta \u001b[36m0:00:00\u001b[0m\n",
            "\u001b[?25hRequirement already satisfied: numpy<2,>=1.22.4 in /usr/local/lib/python3.10/site-packages (from pandas) (1.26.2)\n",
            "Collecting python-dateutil>=2.8.2\n",
            "  Downloading python_dateutil-2.8.2-py2.py3-none-any.whl (247 kB)\n",
            "\u001b[2K     \u001b[90m━━━━━━━━━━━━━━━━━━━━━━━━━━━━━━━━━━━━━━━━\u001b[0m \u001b[32m247.7/247.7 kB\u001b[0m \u001b[31m25.6 MB/s\u001b[0m eta \u001b[36m0:00:00\u001b[0m\n",
            "\u001b[?25hCollecting tzdata>=2022.1\n",
            "  Downloading tzdata-2023.3-py2.py3-none-any.whl (341 kB)\n",
            "\u001b[2K     \u001b[90m━━━━━━━━━━━━━━━━━━━━━━━━━━━━━━━━━━━━━━━━\u001b[0m \u001b[32m341.8/341.8 kB\u001b[0m \u001b[31m30.3 MB/s\u001b[0m eta \u001b[36m0:00:00\u001b[0m\n",
            "\u001b[?25hRequirement already satisfied: six>=1.5 in /usr/local/lib/python3.10/site-packages (from python-dateutil>=2.8.2->pandas) (1.16.0)\n",
            "Installing collected packages: pytz, tzdata, python-dateutil, pandas\n",
            "Successfully installed pandas-2.1.3 python-dateutil-2.8.2 pytz-2023.3.post1 tzdata-2023.3\n",
            "\u001b[33mWARNING: Running pip as the 'root' user can result in broken permissions and conflicting behaviour with the system package manager. It is recommended to use a virtual environment instead: https://pip.pypa.io/warnings/venv\u001b[0m\u001b[33m\n",
            "\u001b[0m"
          ]
        },
        {
          "output_type": "display_data",
          "data": {
            "application/vnd.colab-display-data+json": {
              "pip_warning": {
                "packages": [
                  "dateutil",
                  "pytz"
                ]
              }
            }
          },
          "metadata": {}
        },
        {
          "output_type": "stream",
          "name": "stdout",
          "text": [
            "Collecting konlpy\n",
            "  Downloading konlpy-0.6.0-py2.py3-none-any.whl (19.4 MB)\n",
            "\u001b[2K     \u001b[90m━━━━━━━━━━━━━━━━━━━━━━━━━━━━━━━━━━━━━━━━\u001b[0m \u001b[32m19.4/19.4 MB\u001b[0m \u001b[31m58.1 MB/s\u001b[0m eta \u001b[36m0:00:00\u001b[0m\n",
            "\u001b[?25hCollecting lxml>=4.1.0\n",
            "  Downloading lxml-4.9.3-cp310-cp310-manylinux_2_28_x86_64.whl (7.9 MB)\n",
            "\u001b[2K     \u001b[90m━━━━━━━━━━━━━━━━━━━━━━━━━━━━━━━━━━━━━━━━\u001b[0m \u001b[32m7.9/7.9 MB\u001b[0m \u001b[31m84.8 MB/s\u001b[0m eta \u001b[36m0:00:00\u001b[0m\n",
            "\u001b[?25hCollecting JPype1>=0.7.0\n",
            "  Downloading JPype1-1.4.1-cp310-cp310-manylinux_2_12_x86_64.manylinux2010_x86_64.whl (465 kB)\n",
            "\u001b[2K     \u001b[90m━━━━━━━━━━━━━━━━━━━━━━━━━━━━━━━━━━━━━━━━\u001b[0m \u001b[32m465.3/465.3 kB\u001b[0m \u001b[31m46.9 MB/s\u001b[0m eta \u001b[36m0:00:00\u001b[0m\n",
            "\u001b[?25hRequirement already satisfied: numpy>=1.6 in /usr/local/lib/python3.10/site-packages (from konlpy) (1.26.2)\n",
            "Collecting packaging\n",
            "  Downloading packaging-23.2-py3-none-any.whl (53 kB)\n",
            "\u001b[2K     \u001b[90m━━━━━━━━━━━━━━━━━━━━━━━━━━━━━━━━━━━━━━━━\u001b[0m \u001b[32m53.0/53.0 kB\u001b[0m \u001b[31m6.3 MB/s\u001b[0m eta \u001b[36m0:00:00\u001b[0m\n",
            "\u001b[?25hInstalling collected packages: packaging, lxml, JPype1, konlpy\n",
            "Successfully installed JPype1-1.4.1 konlpy-0.6.0 lxml-4.9.3 packaging-23.2\n",
            "\u001b[33mWARNING: Running pip as the 'root' user can result in broken permissions and conflicting behaviour with the system package manager. It is recommended to use a virtual environment instead: https://pip.pypa.io/warnings/venv\u001b[0m\u001b[33m\n",
            "\u001b[0mRequirement already satisfied: tqdm in /usr/local/lib/python3.10/site-packages (4.65.0)\n",
            "\u001b[33mWARNING: Running pip as the 'root' user can result in broken permissions and conflicting behaviour with the system package manager. It is recommended to use a virtual environment instead: https://pip.pypa.io/warnings/venv\u001b[0m\u001b[33m\n",
            "\u001b[0m\u001b[31mERROR: Could not find a version that satisfies the requirement re (from versions: none)\u001b[0m\u001b[31m\n",
            "\u001b[0m\u001b[31mERROR: No matching distribution found for re\u001b[0m\u001b[31m\n",
            "\u001b[0mCollecting gensim\n",
            "  Downloading gensim-4.3.2-cp310-cp310-manylinux_2_17_x86_64.manylinux2014_x86_64.whl (26.5 MB)\n",
            "\u001b[2K     \u001b[90m━━━━━━━━━━━━━━━━━━━━━━━━━━━━━━━━━━━━━━━━\u001b[0m \u001b[32m26.5/26.5 MB\u001b[0m \u001b[31m54.3 MB/s\u001b[0m eta \u001b[36m0:00:00\u001b[0m\n",
            "\u001b[?25hCollecting smart-open>=1.8.1\n",
            "  Downloading smart_open-6.4.0-py3-none-any.whl (57 kB)\n",
            "\u001b[2K     \u001b[90m━━━━━━━━━━━━━━━━━━━━━━━━━━━━━━━━━━━━━━━━\u001b[0m \u001b[32m57.0/57.0 kB\u001b[0m \u001b[31m7.3 MB/s\u001b[0m eta \u001b[36m0:00:00\u001b[0m\n",
            "\u001b[?25hRequirement already satisfied: numpy>=1.18.5 in /usr/local/lib/python3.10/site-packages (from gensim) (1.26.2)\n",
            "Requirement already satisfied: scipy>=1.7.0 in /usr/local/lib/python3.10/site-packages (from gensim) (1.11.4)\n",
            "Installing collected packages: smart-open, gensim\n",
            "Successfully installed gensim-4.3.2 smart-open-6.4.0\n",
            "\u001b[33mWARNING: Running pip as the 'root' user can result in broken permissions and conflicting behaviour with the system package manager. It is recommended to use a virtual environment instead: https://pip.pypa.io/warnings/venv\u001b[0m\u001b[33m\n",
            "\u001b[0mCollecting pyLDAvis\n",
            "  Downloading pyLDAvis-3.4.1-py3-none-any.whl (2.6 MB)\n",
            "\u001b[2K     \u001b[90m━━━━━━━━━━━━━━━━━━━━━━━━━━━━━━━━━━━━━━━━\u001b[0m \u001b[32m2.6/2.6 MB\u001b[0m \u001b[31m54.0 MB/s\u001b[0m eta \u001b[36m0:00:00\u001b[0m\n",
            "\u001b[?25hRequirement already satisfied: gensim in /usr/local/lib/python3.10/site-packages (from pyLDAvis) (4.3.2)\n",
            "Collecting jinja2\n",
            "  Downloading Jinja2-3.1.2-py3-none-any.whl (133 kB)\n",
            "\u001b[2K     \u001b[90m━━━━━━━━━━━━━━━━━━━━━━━━━━━━━━━━━━━━━━━━\u001b[0m \u001b[32m133.1/133.1 kB\u001b[0m \u001b[31m17.1 MB/s\u001b[0m eta \u001b[36m0:00:00\u001b[0m\n",
            "\u001b[?25hRequirement already satisfied: numpy>=1.24.2 in /usr/local/lib/python3.10/site-packages (from pyLDAvis) (1.26.2)\n",
            "Collecting numexpr\n",
            "  Downloading numexpr-2.8.7-cp310-cp310-manylinux_2_17_x86_64.manylinux2014_x86_64.whl (384 kB)\n",
            "\u001b[2K     \u001b[90m━━━━━━━━━━━━━━━━━━━━━━━━━━━━━━━━━━━━━━━━\u001b[0m \u001b[32m384.1/384.1 kB\u001b[0m \u001b[31m36.1 MB/s\u001b[0m eta \u001b[36m0:00:00\u001b[0m\n",
            "\u001b[?25hCollecting scikit-learn>=1.0.0\n",
            "  Downloading scikit_learn-1.3.2-cp310-cp310-manylinux_2_17_x86_64.manylinux2014_x86_64.whl (10.8 MB)\n",
            "\u001b[2K     \u001b[90m━━━━━━━━━━━━━━━━━━━━━━━━━━━━━━━━━━━━━━━━\u001b[0m \u001b[32m10.8/10.8 MB\u001b[0m \u001b[31m29.5 MB/s\u001b[0m eta \u001b[36m0:00:00\u001b[0m\n",
            "\u001b[?25hRequirement already satisfied: setuptools in /usr/local/lib/python3.10/site-packages (from pyLDAvis) (65.6.3)\n",
            "Collecting joblib>=1.2.0\n",
            "  Downloading joblib-1.3.2-py3-none-any.whl (302 kB)\n",
            "\u001b[2K     \u001b[90m━━━━━━━━━━━━━━━━━━━━━━━━━━━━━━━━━━━━━━━━\u001b[0m \u001b[32m302.2/302.2 kB\u001b[0m \u001b[31m28.5 MB/s\u001b[0m eta \u001b[36m0:00:00\u001b[0m\n",
            "\u001b[?25hRequirement already satisfied: scipy in /usr/local/lib/python3.10/site-packages (from pyLDAvis) (1.11.4)\n",
            "Collecting funcy\n",
            "  Downloading funcy-2.0-py2.py3-none-any.whl (30 kB)\n",
            "Requirement already satisfied: pandas>=2.0.0 in /usr/local/lib/python3.10/site-packages (from pyLDAvis) (2.1.3)\n",
            "Requirement already satisfied: python-dateutil>=2.8.2 in /usr/local/lib/python3.10/site-packages (from pandas>=2.0.0->pyLDAvis) (2.8.2)\n",
            "Requirement already satisfied: tzdata>=2022.1 in /usr/local/lib/python3.10/site-packages (from pandas>=2.0.0->pyLDAvis) (2023.3)\n",
            "Requirement already satisfied: pytz>=2020.1 in /usr/local/lib/python3.10/site-packages (from pandas>=2.0.0->pyLDAvis) (2023.3.post1)\n",
            "Collecting threadpoolctl>=2.0.0\n",
            "  Downloading threadpoolctl-3.2.0-py3-none-any.whl (15 kB)\n",
            "Requirement already satisfied: smart-open>=1.8.1 in /usr/local/lib/python3.10/site-packages (from gensim->pyLDAvis) (6.4.0)\n",
            "Collecting MarkupSafe>=2.0\n",
            "  Downloading MarkupSafe-2.1.3-cp310-cp310-manylinux_2_17_x86_64.manylinux2014_x86_64.whl (25 kB)\n",
            "Requirement already satisfied: six>=1.5 in /usr/local/lib/python3.10/site-packages (from python-dateutil>=2.8.2->pandas>=2.0.0->pyLDAvis) (1.16.0)\n",
            "Installing collected packages: funcy, threadpoolctl, numexpr, MarkupSafe, joblib, scikit-learn, jinja2, pyLDAvis\n",
            "Successfully installed MarkupSafe-2.1.3 funcy-2.0 jinja2-3.1.2 joblib-1.3.2 numexpr-2.8.7 pyLDAvis-3.4.1 scikit-learn-1.3.2 threadpoolctl-3.2.0\n",
            "\u001b[33mWARNING: Running pip as the 'root' user can result in broken permissions and conflicting behaviour with the system package manager. It is recommended to use a virtual environment instead: https://pip.pypa.io/warnings/venv\u001b[0m\u001b[33m\n",
            "\u001b[0m"
          ]
        },
        {
          "output_type": "display_data",
          "data": {
            "application/vnd.colab-display-data+json": {
              "pip_warning": {
                "packages": [
                  "numexpr"
                ]
              }
            }
          },
          "metadata": {}
        }
      ],
      "source": [
        "! pip install numpy\n",
        "! pip install pandas\n",
        "! pip install konlpy\n",
        "! pip install tqdm\n",
        "! pip install re\n",
        "! pip install gensim\n",
        "! pip install pyLDAvis"
      ]
    },
    {
      "cell_type": "markdown",
      "metadata": {
        "id": "68rwkDTmNZV1"
      },
      "source": [
        "## 2) 패키지 import"
      ]
    },
    {
      "cell_type": "code",
      "execution_count": 18,
      "metadata": {
        "id": "Ejq5DaZVnnIl"
      },
      "outputs": [],
      "source": [
        "import numpy as np\n",
        "import pandas as pd\n",
        "import warnings\n",
        "warnings.filterwarnings(action='ignore')\n",
        "from konlpy.tag import Okt  # 변경: Mecab에서 Okt로\n",
        "okt = Okt()\n",
        "from tqdm import tqdm\n",
        "import re\n",
        "from gensim import corpora\n",
        "import gensim\n",
        "import pyLDAvis.gensim_models\n",
        "from collections import Counter"
      ]
    },
    {
      "cell_type": "markdown",
      "metadata": {
        "id": "uBwKHTFWNkli"
      },
      "source": [
        "## 3) 리뷰 데이터 불러오기"
      ]
    },
    {
      "cell_type": "markdown",
      "metadata": {
        "id": "ncOeGPjNffL7"
      },
      "source": [
        "본인의 구글 드라이브에 기본 파일들을 옮겨 두었고, 마운트 해두었다는 가정 하에 밑의 코드들은 작동합니다.<br>\n",
        "코랩 왼쪽에 보시면 폴더 표시가 있는데 폴더에 들어가셔서 마운트가 된 것을 꼭 확인하세요!\n",
        "\n",
        "그 다음, data가 있는 곳에 우클릭을 하시고 '경로 복사'를 누르신 후 pd.read_excel()의 괄호 안 경로를 수정해 주시면 됩니다."
      ]
    },
    {
      "cell_type": "code",
      "execution_count": 19,
      "metadata": {
        "colab": {
          "base_uri": "https://localhost:8080/",
          "height": 956
        },
        "id": "M9tjZFjwn1NW",
        "outputId": "dbfc8467-91e0-4272-9bc9-5244c9f4d4e3"
      },
      "outputs": [
        {
          "output_type": "stream",
          "name": "stderr",
          "text": [
            "/usr/local/lib/python3.10/dist-packages/ipykernel/ipkernel.py:283: DeprecationWarning: `should_run_async` will not call `transform_cell` automatically in the future. Please pass the result to `transformed_cell` argument and any exception that happen during thetransform in `preprocessing_exc_tuple` in IPython 7.17 and above.\n",
            "  and should_run_async(code)\n"
          ]
        },
        {
          "output_type": "execute_result",
          "data": {
            "text/plain": [
              "                               reviewId                              userName  \\\n",
              "0  af3499bf-5b06-48d4-8600-bf639f3cdf95                              Daniel J   \n",
              "1  d4ba493c-9cf2-43f8-8595-1730585eef48                          Minjung Park   \n",
              "2  9472346a-69a1-42b0-8395-281a5cbddd8e                                    앙융   \n",
              "3  5249da8a-3abb-479a-9b4d-30869b80e1c3                                   도도넛   \n",
              "4  4a8dbb12-eba3-48d9-b034-5e707102bfe7  jsbachmoo7 loves all kinds of music.   \n",
              "\n",
              "                                           userImage  \\\n",
              "0  https://play-lh.googleusercontent.com/a/ACg8oc...   \n",
              "1  https://play-lh.googleusercontent.com/a/ACg8oc...   \n",
              "2  https://play-lh.googleusercontent.com/a/ACg8oc...   \n",
              "3  https://play-lh.googleusercontent.com/a-/ALV-U...   \n",
              "4  https://play-lh.googleusercontent.com/a-/ALV-U...   \n",
              "\n",
              "                                             content  score  thumbsUpCount  \\\n",
              "0  사진 올릴때 특히 세로가 긴 사진은 짤리는 경우가 많습니다. 근데 또 지금은 안짤리...      1              1   \n",
              "1  인스타 중독이 걱정될 정도로 재밌게 쓰고 있었는데 최근들어 버그도 너무 많고 수정은...      1            354   \n",
              "2  문의를 남겨도 전-혀 피드백이없어서 속터지는 마음에 남기는 리뷰. 1. 릴스 영상 ...      1           1109   \n",
              "3  최근게시물을 왜 볼 수 없게 해놓은건지 알것같지만 정말 답답하네요..ㅋㅋ 인기게시물...      1             84   \n",
              "4  원래 컴퓨터와 전화기에서 동시에 로그인으로 사용할수 있었는데, 왜 갑자기 전화기에서...      1              4   \n",
              "\n",
              "  reviewCreatedVersion                   at  replyContent  repliedAt  \\\n",
              "0       307.0.0.34.111  2023-11-06 15:34:00           NaN        NaN   \n",
              "1       304.0.0.35.106  2023-10-16 11:54:06           NaN        NaN   \n",
              "2       301.1.0.33.110  2023-09-22 08:00:50           NaN        NaN   \n",
              "3       307.0.0.34.111  2023-11-01 04:43:29           NaN        NaN   \n",
              "4       307.0.0.34.111  2023-11-03 06:51:16           NaN        NaN   \n",
              "\n",
              "       appVersion      sortOrder                  appId  \n",
              "0  307.0.0.34.111  most_relevant  com.instagram.android  \n",
              "1  304.0.0.35.106  most_relevant  com.instagram.android  \n",
              "2  301.1.0.33.110  most_relevant  com.instagram.android  \n",
              "3  307.0.0.34.111  most_relevant  com.instagram.android  \n",
              "4  307.0.0.34.111  most_relevant  com.instagram.android  "
            ],
            "text/html": [
              "\n",
              "  <div id=\"df-5724f857-802c-440c-9234-d2ec07d51c10\" class=\"colab-df-container\">\n",
              "    <div>\n",
              "<style scoped>\n",
              "    .dataframe tbody tr th:only-of-type {\n",
              "        vertical-align: middle;\n",
              "    }\n",
              "\n",
              "    .dataframe tbody tr th {\n",
              "        vertical-align: top;\n",
              "    }\n",
              "\n",
              "    .dataframe thead th {\n",
              "        text-align: right;\n",
              "    }\n",
              "</style>\n",
              "<table border=\"1\" class=\"dataframe\">\n",
              "  <thead>\n",
              "    <tr style=\"text-align: right;\">\n",
              "      <th></th>\n",
              "      <th>reviewId</th>\n",
              "      <th>userName</th>\n",
              "      <th>userImage</th>\n",
              "      <th>content</th>\n",
              "      <th>score</th>\n",
              "      <th>thumbsUpCount</th>\n",
              "      <th>reviewCreatedVersion</th>\n",
              "      <th>at</th>\n",
              "      <th>replyContent</th>\n",
              "      <th>repliedAt</th>\n",
              "      <th>appVersion</th>\n",
              "      <th>sortOrder</th>\n",
              "      <th>appId</th>\n",
              "    </tr>\n",
              "  </thead>\n",
              "  <tbody>\n",
              "    <tr>\n",
              "      <th>0</th>\n",
              "      <td>af3499bf-5b06-48d4-8600-bf639f3cdf95</td>\n",
              "      <td>Daniel J</td>\n",
              "      <td>https://play-lh.googleusercontent.com/a/ACg8oc...</td>\n",
              "      <td>사진 올릴때 특히 세로가 긴 사진은 짤리는 경우가 많습니다. 근데 또 지금은 안짤리...</td>\n",
              "      <td>1</td>\n",
              "      <td>1</td>\n",
              "      <td>307.0.0.34.111</td>\n",
              "      <td>2023-11-06 15:34:00</td>\n",
              "      <td>NaN</td>\n",
              "      <td>NaN</td>\n",
              "      <td>307.0.0.34.111</td>\n",
              "      <td>most_relevant</td>\n",
              "      <td>com.instagram.android</td>\n",
              "    </tr>\n",
              "    <tr>\n",
              "      <th>1</th>\n",
              "      <td>d4ba493c-9cf2-43f8-8595-1730585eef48</td>\n",
              "      <td>Minjung Park</td>\n",
              "      <td>https://play-lh.googleusercontent.com/a/ACg8oc...</td>\n",
              "      <td>인스타 중독이 걱정될 정도로 재밌게 쓰고 있었는데 최근들어 버그도 너무 많고 수정은...</td>\n",
              "      <td>1</td>\n",
              "      <td>354</td>\n",
              "      <td>304.0.0.35.106</td>\n",
              "      <td>2023-10-16 11:54:06</td>\n",
              "      <td>NaN</td>\n",
              "      <td>NaN</td>\n",
              "      <td>304.0.0.35.106</td>\n",
              "      <td>most_relevant</td>\n",
              "      <td>com.instagram.android</td>\n",
              "    </tr>\n",
              "    <tr>\n",
              "      <th>2</th>\n",
              "      <td>9472346a-69a1-42b0-8395-281a5cbddd8e</td>\n",
              "      <td>앙융</td>\n",
              "      <td>https://play-lh.googleusercontent.com/a/ACg8oc...</td>\n",
              "      <td>문의를 남겨도 전-혀 피드백이없어서 속터지는 마음에 남기는 리뷰. 1. 릴스 영상 ...</td>\n",
              "      <td>1</td>\n",
              "      <td>1109</td>\n",
              "      <td>301.1.0.33.110</td>\n",
              "      <td>2023-09-22 08:00:50</td>\n",
              "      <td>NaN</td>\n",
              "      <td>NaN</td>\n",
              "      <td>301.1.0.33.110</td>\n",
              "      <td>most_relevant</td>\n",
              "      <td>com.instagram.android</td>\n",
              "    </tr>\n",
              "    <tr>\n",
              "      <th>3</th>\n",
              "      <td>5249da8a-3abb-479a-9b4d-30869b80e1c3</td>\n",
              "      <td>도도넛</td>\n",
              "      <td>https://play-lh.googleusercontent.com/a-/ALV-U...</td>\n",
              "      <td>최근게시물을 왜 볼 수 없게 해놓은건지 알것같지만 정말 답답하네요..ㅋㅋ 인기게시물...</td>\n",
              "      <td>1</td>\n",
              "      <td>84</td>\n",
              "      <td>307.0.0.34.111</td>\n",
              "      <td>2023-11-01 04:43:29</td>\n",
              "      <td>NaN</td>\n",
              "      <td>NaN</td>\n",
              "      <td>307.0.0.34.111</td>\n",
              "      <td>most_relevant</td>\n",
              "      <td>com.instagram.android</td>\n",
              "    </tr>\n",
              "    <tr>\n",
              "      <th>4</th>\n",
              "      <td>4a8dbb12-eba3-48d9-b034-5e707102bfe7</td>\n",
              "      <td>jsbachmoo7 loves all kinds of music.</td>\n",
              "      <td>https://play-lh.googleusercontent.com/a-/ALV-U...</td>\n",
              "      <td>원래 컴퓨터와 전화기에서 동시에 로그인으로 사용할수 있었는데, 왜 갑자기 전화기에서...</td>\n",
              "      <td>1</td>\n",
              "      <td>4</td>\n",
              "      <td>307.0.0.34.111</td>\n",
              "      <td>2023-11-03 06:51:16</td>\n",
              "      <td>NaN</td>\n",
              "      <td>NaN</td>\n",
              "      <td>307.0.0.34.111</td>\n",
              "      <td>most_relevant</td>\n",
              "      <td>com.instagram.android</td>\n",
              "    </tr>\n",
              "  </tbody>\n",
              "</table>\n",
              "</div>\n",
              "    <div class=\"colab-df-buttons\">\n",
              "\n",
              "  <div class=\"colab-df-container\">\n",
              "    <button class=\"colab-df-convert\" onclick=\"convertToInteractive('df-5724f857-802c-440c-9234-d2ec07d51c10')\"\n",
              "            title=\"Convert this dataframe to an interactive table.\"\n",
              "            style=\"display:none;\">\n",
              "\n",
              "  <svg xmlns=\"http://www.w3.org/2000/svg\" height=\"24px\" viewBox=\"0 -960 960 960\">\n",
              "    <path d=\"M120-120v-720h720v720H120Zm60-500h600v-160H180v160Zm220 220h160v-160H400v160Zm0 220h160v-160H400v160ZM180-400h160v-160H180v160Zm440 0h160v-160H620v160ZM180-180h160v-160H180v160Zm440 0h160v-160H620v160Z\"/>\n",
              "  </svg>\n",
              "    </button>\n",
              "\n",
              "  <style>\n",
              "    .colab-df-container {\n",
              "      display:flex;\n",
              "      gap: 12px;\n",
              "    }\n",
              "\n",
              "    .colab-df-convert {\n",
              "      background-color: #E8F0FE;\n",
              "      border: none;\n",
              "      border-radius: 50%;\n",
              "      cursor: pointer;\n",
              "      display: none;\n",
              "      fill: #1967D2;\n",
              "      height: 32px;\n",
              "      padding: 0 0 0 0;\n",
              "      width: 32px;\n",
              "    }\n",
              "\n",
              "    .colab-df-convert:hover {\n",
              "      background-color: #E2EBFA;\n",
              "      box-shadow: 0px 1px 2px rgba(60, 64, 67, 0.3), 0px 1px 3px 1px rgba(60, 64, 67, 0.15);\n",
              "      fill: #174EA6;\n",
              "    }\n",
              "\n",
              "    .colab-df-buttons div {\n",
              "      margin-bottom: 4px;\n",
              "    }\n",
              "\n",
              "    [theme=dark] .colab-df-convert {\n",
              "      background-color: #3B4455;\n",
              "      fill: #D2E3FC;\n",
              "    }\n",
              "\n",
              "    [theme=dark] .colab-df-convert:hover {\n",
              "      background-color: #434B5C;\n",
              "      box-shadow: 0px 1px 3px 1px rgba(0, 0, 0, 0.15);\n",
              "      filter: drop-shadow(0px 1px 2px rgba(0, 0, 0, 0.3));\n",
              "      fill: #FFFFFF;\n",
              "    }\n",
              "  </style>\n",
              "\n",
              "    <script>\n",
              "      const buttonEl =\n",
              "        document.querySelector('#df-5724f857-802c-440c-9234-d2ec07d51c10 button.colab-df-convert');\n",
              "      buttonEl.style.display =\n",
              "        google.colab.kernel.accessAllowed ? 'block' : 'none';\n",
              "\n",
              "      async function convertToInteractive(key) {\n",
              "        const element = document.querySelector('#df-5724f857-802c-440c-9234-d2ec07d51c10');\n",
              "        const dataTable =\n",
              "          await google.colab.kernel.invokeFunction('convertToInteractive',\n",
              "                                                    [key], {});\n",
              "        if (!dataTable) return;\n",
              "\n",
              "        const docLinkHtml = 'Like what you see? Visit the ' +\n",
              "          '<a target=\"_blank\" href=https://colab.research.google.com/notebooks/data_table.ipynb>data table notebook</a>'\n",
              "          + ' to learn more about interactive tables.';\n",
              "        element.innerHTML = '';\n",
              "        dataTable['output_type'] = 'display_data';\n",
              "        await google.colab.output.renderOutput(dataTable, element);\n",
              "        const docLink = document.createElement('div');\n",
              "        docLink.innerHTML = docLinkHtml;\n",
              "        element.appendChild(docLink);\n",
              "      }\n",
              "    </script>\n",
              "  </div>\n",
              "\n",
              "\n",
              "<div id=\"df-9cdbeb09-6713-4edd-b752-5d510c811520\">\n",
              "  <button class=\"colab-df-quickchart\" onclick=\"quickchart('df-9cdbeb09-6713-4edd-b752-5d510c811520')\"\n",
              "            title=\"Suggest charts\"\n",
              "            style=\"display:none;\">\n",
              "\n",
              "<svg xmlns=\"http://www.w3.org/2000/svg\" height=\"24px\"viewBox=\"0 0 24 24\"\n",
              "     width=\"24px\">\n",
              "    <g>\n",
              "        <path d=\"M19 3H5c-1.1 0-2 .9-2 2v14c0 1.1.9 2 2 2h14c1.1 0 2-.9 2-2V5c0-1.1-.9-2-2-2zM9 17H7v-7h2v7zm4 0h-2V7h2v10zm4 0h-2v-4h2v4z\"/>\n",
              "    </g>\n",
              "</svg>\n",
              "  </button>\n",
              "\n",
              "<style>\n",
              "  .colab-df-quickchart {\n",
              "      --bg-color: #E8F0FE;\n",
              "      --fill-color: #1967D2;\n",
              "      --hover-bg-color: #E2EBFA;\n",
              "      --hover-fill-color: #174EA6;\n",
              "      --disabled-fill-color: #AAA;\n",
              "      --disabled-bg-color: #DDD;\n",
              "  }\n",
              "\n",
              "  [theme=dark] .colab-df-quickchart {\n",
              "      --bg-color: #3B4455;\n",
              "      --fill-color: #D2E3FC;\n",
              "      --hover-bg-color: #434B5C;\n",
              "      --hover-fill-color: #FFFFFF;\n",
              "      --disabled-bg-color: #3B4455;\n",
              "      --disabled-fill-color: #666;\n",
              "  }\n",
              "\n",
              "  .colab-df-quickchart {\n",
              "    background-color: var(--bg-color);\n",
              "    border: none;\n",
              "    border-radius: 50%;\n",
              "    cursor: pointer;\n",
              "    display: none;\n",
              "    fill: var(--fill-color);\n",
              "    height: 32px;\n",
              "    padding: 0;\n",
              "    width: 32px;\n",
              "  }\n",
              "\n",
              "  .colab-df-quickchart:hover {\n",
              "    background-color: var(--hover-bg-color);\n",
              "    box-shadow: 0 1px 2px rgba(60, 64, 67, 0.3), 0 1px 3px 1px rgba(60, 64, 67, 0.15);\n",
              "    fill: var(--button-hover-fill-color);\n",
              "  }\n",
              "\n",
              "  .colab-df-quickchart-complete:disabled,\n",
              "  .colab-df-quickchart-complete:disabled:hover {\n",
              "    background-color: var(--disabled-bg-color);\n",
              "    fill: var(--disabled-fill-color);\n",
              "    box-shadow: none;\n",
              "  }\n",
              "\n",
              "  .colab-df-spinner {\n",
              "    border: 2px solid var(--fill-color);\n",
              "    border-color: transparent;\n",
              "    border-bottom-color: var(--fill-color);\n",
              "    animation:\n",
              "      spin 1s steps(1) infinite;\n",
              "  }\n",
              "\n",
              "  @keyframes spin {\n",
              "    0% {\n",
              "      border-color: transparent;\n",
              "      border-bottom-color: var(--fill-color);\n",
              "      border-left-color: var(--fill-color);\n",
              "    }\n",
              "    20% {\n",
              "      border-color: transparent;\n",
              "      border-left-color: var(--fill-color);\n",
              "      border-top-color: var(--fill-color);\n",
              "    }\n",
              "    30% {\n",
              "      border-color: transparent;\n",
              "      border-left-color: var(--fill-color);\n",
              "      border-top-color: var(--fill-color);\n",
              "      border-right-color: var(--fill-color);\n",
              "    }\n",
              "    40% {\n",
              "      border-color: transparent;\n",
              "      border-right-color: var(--fill-color);\n",
              "      border-top-color: var(--fill-color);\n",
              "    }\n",
              "    60% {\n",
              "      border-color: transparent;\n",
              "      border-right-color: var(--fill-color);\n",
              "    }\n",
              "    80% {\n",
              "      border-color: transparent;\n",
              "      border-right-color: var(--fill-color);\n",
              "      border-bottom-color: var(--fill-color);\n",
              "    }\n",
              "    90% {\n",
              "      border-color: transparent;\n",
              "      border-bottom-color: var(--fill-color);\n",
              "    }\n",
              "  }\n",
              "</style>\n",
              "\n",
              "  <script>\n",
              "    async function quickchart(key) {\n",
              "      const quickchartButtonEl =\n",
              "        document.querySelector('#' + key + ' button');\n",
              "      quickchartButtonEl.disabled = true;  // To prevent multiple clicks.\n",
              "      quickchartButtonEl.classList.add('colab-df-spinner');\n",
              "      try {\n",
              "        const charts = await google.colab.kernel.invokeFunction(\n",
              "            'suggestCharts', [key], {});\n",
              "      } catch (error) {\n",
              "        console.error('Error during call to suggestCharts:', error);\n",
              "      }\n",
              "      quickchartButtonEl.classList.remove('colab-df-spinner');\n",
              "      quickchartButtonEl.classList.add('colab-df-quickchart-complete');\n",
              "    }\n",
              "    (() => {\n",
              "      let quickchartButtonEl =\n",
              "        document.querySelector('#df-9cdbeb09-6713-4edd-b752-5d510c811520 button');\n",
              "      quickchartButtonEl.style.display =\n",
              "        google.colab.kernel.accessAllowed ? 'block' : 'none';\n",
              "    })();\n",
              "  </script>\n",
              "</div>\n",
              "    </div>\n",
              "  </div>\n"
            ]
          },
          "metadata": {},
          "execution_count": 19
        }
      ],
      "source": [
        "dataset = pd.read_csv('/content/drive/MyDrive/dongguk/reviews.csv') #본인 경로로 수정\n",
        "dataset.head()"
      ]
    },
    {
      "cell_type": "markdown",
      "metadata": {
        "id": "7aTLjWzPbLPj"
      },
      "source": [
        "* pd.read_excel(’엑셀 파일 디렉토리’) : 엑셀 파일 가져오기 함수\n",
        "\n",
        "* head() : 상위 5행을 출력"
      ]
    },
    {
      "cell_type": "markdown",
      "metadata": {
        "id": "NL6E1vcgbNqn"
      },
      "source": [
        "**요약**\n",
        "\n",
        "위의 과정에서는 dataset_raw는 시트 이름을 지정하고, head() 함수를 통해 불러온 시트가 잘 불러와졌나 head 함수를 통해 확인해 보았습니다."
      ]
    },
    {
      "cell_type": "markdown",
      "metadata": {
        "id": "58M0gV9_LL-2"
      },
      "source": [
        "## 4) 데이터 탐색"
      ]
    },
    {
      "cell_type": "markdown",
      "metadata": {
        "id": "Q_KXK6gBbP_k"
      },
      "source": [
        "데이터 타입, 데이터 개수를 확인"
      ]
    },
    {
      "cell_type": "code",
      "execution_count": 20,
      "metadata": {
        "colab": {
          "base_uri": "https://localhost:8080/"
        },
        "id": "Geuf5AGmnyki",
        "outputId": "26e36d9d-33ca-43bc-8cbb-158b9158eb7f"
      },
      "outputs": [
        {
          "output_type": "stream",
          "name": "stdout",
          "text": [
            "<class 'pandas.core.frame.DataFrame'>\n",
            "RangeIndex: 1200 entries, 0 to 1199\n",
            "Data columns (total 13 columns):\n",
            " #   Column                Non-Null Count  Dtype  \n",
            "---  ------                --------------  -----  \n",
            " 0   reviewId              1200 non-null   object \n",
            " 1   userName              1200 non-null   object \n",
            " 2   userImage             1200 non-null   object \n",
            " 3   content               1200 non-null   object \n",
            " 4   score                 1200 non-null   int64  \n",
            " 5   thumbsUpCount         1200 non-null   int64  \n",
            " 6   reviewCreatedVersion  1093 non-null   object \n",
            " 7   at                    1200 non-null   object \n",
            " 8   replyContent          0 non-null      float64\n",
            " 9   repliedAt             0 non-null      float64\n",
            " 10  appVersion            1093 non-null   object \n",
            " 11  sortOrder             1200 non-null   object \n",
            " 12  appId                 1200 non-null   object \n",
            "dtypes: float64(2), int64(2), object(9)\n",
            "memory usage: 122.0+ KB\n"
          ]
        },
        {
          "output_type": "stream",
          "name": "stderr",
          "text": [
            "/usr/local/lib/python3.10/dist-packages/ipykernel/ipkernel.py:283: DeprecationWarning: `should_run_async` will not call `transform_cell` automatically in the future. Please pass the result to `transformed_cell` argument and any exception that happen during thetransform in `preprocessing_exc_tuple` in IPython 7.17 and above.\n",
            "  and should_run_async(code)\n"
          ]
        }
      ],
      "source": [
        "dataset.info()"
      ]
    },
    {
      "cell_type": "markdown",
      "metadata": {
        "id": "kITlfjPpbRfI"
      },
      "source": [
        "* info() : 데이터의 정보를 출력"
      ]
    },
    {
      "cell_type": "markdown",
      "metadata": {
        "id": "5Qcwl3PWbUuZ"
      },
      "source": [
        "**요약**\n",
        "\n",
        "행과 열의 크기, 컬럼명, 컬럼을 구성하는 값의 자료형 등을 출력했습니다.\n",
        "\n",
        "보통 이 절차를 통해 결측치 존재 여부, 데이터 타입, 데이터 개수 등을 확인합니다."
      ]
    },
    {
      "cell_type": "markdown",
      "metadata": {
        "id": "ArnlKAkzlRRN"
      },
      "source": [
        "# 2. 데이터 전처리\n"
      ]
    },
    {
      "cell_type": "markdown",
      "metadata": {
        "id": "KBTmfNBLNsYw"
      },
      "source": [
        "## 1) 결측치 확인"
      ]
    },
    {
      "cell_type": "code",
      "execution_count": 21,
      "metadata": {
        "colab": {
          "base_uri": "https://localhost:8080/"
        },
        "id": "mmcv2HUULUgK",
        "outputId": "8b6a7f25-5a85-4d9b-c507-94d0ec7b0729"
      },
      "outputs": [
        {
          "output_type": "stream",
          "name": "stderr",
          "text": [
            "/usr/local/lib/python3.10/dist-packages/ipykernel/ipkernel.py:283: DeprecationWarning: `should_run_async` will not call `transform_cell` automatically in the future. Please pass the result to `transformed_cell` argument and any exception that happen during thetransform in `preprocessing_exc_tuple` in IPython 7.17 and above.\n",
            "  and should_run_async(code)\n"
          ]
        },
        {
          "output_type": "execute_result",
          "data": {
            "text/plain": [
              "reviewId                   0\n",
              "userName                   0\n",
              "userImage                  0\n",
              "content                    0\n",
              "score                      0\n",
              "thumbsUpCount              0\n",
              "reviewCreatedVersion     107\n",
              "at                         0\n",
              "replyContent            1200\n",
              "repliedAt               1200\n",
              "appVersion               107\n",
              "sortOrder                  0\n",
              "appId                      0\n",
              "dtype: int64"
            ]
          },
          "metadata": {},
          "execution_count": 21
        }
      ],
      "source": [
        "dataset.isnull().sum()"
      ]
    },
    {
      "cell_type": "markdown",
      "metadata": {
        "id": "e-NVaILCFYy0"
      },
      "source": [
        "결측치가 있지만 우리는 score, content만 활용할 예정이기 때문에 따로 전처리 메소드를 사용하지는 않겠습니다."
      ]
    },
    {
      "cell_type": "markdown",
      "metadata": {
        "id": "1mBC0scsbYYw"
      },
      "source": [
        "* isnull() : 데이터프레임의 각 요소(element)가 결측값(null 또는 NaN)인지 여부를 나타내는 Boolean 값을 가지는 동일한 모양의 데이터프레임을 반환한다. 결측값이면 True, 그렇지 않으면 False가 된다.\n",
        "\n",
        "* sum() : 각 열의 결측값(True의 개수)을 계산하여 열별로 합산합니다. 결과는 각 열에 대한 결측값의 개수를 나타내는 시리즈(Series)나 데이터프레임이 된다."
      ]
    },
    {
      "cell_type": "markdown",
      "metadata": {
        "id": "tWGpW8RObbV1"
      },
      "source": [
        "**요약**\n",
        "\n",
        "불러온 데이터에 결측치가 있는지 확인해 보았습니다."
      ]
    },
    {
      "cell_type": "markdown",
      "metadata": {
        "id": "d5ERfvhZL9iO"
      },
      "source": [
        "## 4) 전처리용 Dictionary 불러오기"
      ]
    },
    {
      "cell_type": "markdown",
      "metadata": {
        "id": "_xUMxGuGb1FQ"
      },
      "source": [
        "불용어 리스트를 불러옵니다. (방법은 지금까지 한 방법과 동일합니다.)"
      ]
    },
    {
      "cell_type": "code",
      "execution_count": 22,
      "metadata": {
        "colab": {
          "base_uri": "https://localhost:8080/",
          "height": 262
        },
        "id": "fd0fb081MBRR",
        "outputId": "ecfd1bde-7c47-4e29-95d6-be742aefac65"
      },
      "outputs": [
        {
          "output_type": "stream",
          "name": "stderr",
          "text": [
            "/usr/local/lib/python3.10/dist-packages/ipykernel/ipkernel.py:283: DeprecationWarning: `should_run_async` will not call `transform_cell` automatically in the future. Please pass the result to `transformed_cell` argument and any exception that happen during thetransform in `preprocessing_exc_tuple` in IPython 7.17 and above.\n",
            "  and should_run_async(code)\n"
          ]
        },
        {
          "output_type": "execute_result",
          "data": {
            "text/plain": [
              "  stopword\n",
              "0     가까스로\n",
              "1       가량\n",
              "2       가령\n",
              "3       가민\n",
              "4    가민커넥트"
            ],
            "text/html": [
              "\n",
              "  <div id=\"df-bd533dca-d4d6-466e-a7d6-c99d2f52358c\" class=\"colab-df-container\">\n",
              "    <div>\n",
              "<style scoped>\n",
              "    .dataframe tbody tr th:only-of-type {\n",
              "        vertical-align: middle;\n",
              "    }\n",
              "\n",
              "    .dataframe tbody tr th {\n",
              "        vertical-align: top;\n",
              "    }\n",
              "\n",
              "    .dataframe thead th {\n",
              "        text-align: right;\n",
              "    }\n",
              "</style>\n",
              "<table border=\"1\" class=\"dataframe\">\n",
              "  <thead>\n",
              "    <tr style=\"text-align: right;\">\n",
              "      <th></th>\n",
              "      <th>stopword</th>\n",
              "    </tr>\n",
              "  </thead>\n",
              "  <tbody>\n",
              "    <tr>\n",
              "      <th>0</th>\n",
              "      <td>가까스로</td>\n",
              "    </tr>\n",
              "    <tr>\n",
              "      <th>1</th>\n",
              "      <td>가량</td>\n",
              "    </tr>\n",
              "    <tr>\n",
              "      <th>2</th>\n",
              "      <td>가령</td>\n",
              "    </tr>\n",
              "    <tr>\n",
              "      <th>3</th>\n",
              "      <td>가민</td>\n",
              "    </tr>\n",
              "    <tr>\n",
              "      <th>4</th>\n",
              "      <td>가민커넥트</td>\n",
              "    </tr>\n",
              "  </tbody>\n",
              "</table>\n",
              "</div>\n",
              "    <div class=\"colab-df-buttons\">\n",
              "\n",
              "  <div class=\"colab-df-container\">\n",
              "    <button class=\"colab-df-convert\" onclick=\"convertToInteractive('df-bd533dca-d4d6-466e-a7d6-c99d2f52358c')\"\n",
              "            title=\"Convert this dataframe to an interactive table.\"\n",
              "            style=\"display:none;\">\n",
              "\n",
              "  <svg xmlns=\"http://www.w3.org/2000/svg\" height=\"24px\" viewBox=\"0 -960 960 960\">\n",
              "    <path d=\"M120-120v-720h720v720H120Zm60-500h600v-160H180v160Zm220 220h160v-160H400v160Zm0 220h160v-160H400v160ZM180-400h160v-160H180v160Zm440 0h160v-160H620v160ZM180-180h160v-160H180v160Zm440 0h160v-160H620v160Z\"/>\n",
              "  </svg>\n",
              "    </button>\n",
              "\n",
              "  <style>\n",
              "    .colab-df-container {\n",
              "      display:flex;\n",
              "      gap: 12px;\n",
              "    }\n",
              "\n",
              "    .colab-df-convert {\n",
              "      background-color: #E8F0FE;\n",
              "      border: none;\n",
              "      border-radius: 50%;\n",
              "      cursor: pointer;\n",
              "      display: none;\n",
              "      fill: #1967D2;\n",
              "      height: 32px;\n",
              "      padding: 0 0 0 0;\n",
              "      width: 32px;\n",
              "    }\n",
              "\n",
              "    .colab-df-convert:hover {\n",
              "      background-color: #E2EBFA;\n",
              "      box-shadow: 0px 1px 2px rgba(60, 64, 67, 0.3), 0px 1px 3px 1px rgba(60, 64, 67, 0.15);\n",
              "      fill: #174EA6;\n",
              "    }\n",
              "\n",
              "    .colab-df-buttons div {\n",
              "      margin-bottom: 4px;\n",
              "    }\n",
              "\n",
              "    [theme=dark] .colab-df-convert {\n",
              "      background-color: #3B4455;\n",
              "      fill: #D2E3FC;\n",
              "    }\n",
              "\n",
              "    [theme=dark] .colab-df-convert:hover {\n",
              "      background-color: #434B5C;\n",
              "      box-shadow: 0px 1px 3px 1px rgba(0, 0, 0, 0.15);\n",
              "      filter: drop-shadow(0px 1px 2px rgba(0, 0, 0, 0.3));\n",
              "      fill: #FFFFFF;\n",
              "    }\n",
              "  </style>\n",
              "\n",
              "    <script>\n",
              "      const buttonEl =\n",
              "        document.querySelector('#df-bd533dca-d4d6-466e-a7d6-c99d2f52358c button.colab-df-convert');\n",
              "      buttonEl.style.display =\n",
              "        google.colab.kernel.accessAllowed ? 'block' : 'none';\n",
              "\n",
              "      async function convertToInteractive(key) {\n",
              "        const element = document.querySelector('#df-bd533dca-d4d6-466e-a7d6-c99d2f52358c');\n",
              "        const dataTable =\n",
              "          await google.colab.kernel.invokeFunction('convertToInteractive',\n",
              "                                                    [key], {});\n",
              "        if (!dataTable) return;\n",
              "\n",
              "        const docLinkHtml = 'Like what you see? Visit the ' +\n",
              "          '<a target=\"_blank\" href=https://colab.research.google.com/notebooks/data_table.ipynb>data table notebook</a>'\n",
              "          + ' to learn more about interactive tables.';\n",
              "        element.innerHTML = '';\n",
              "        dataTable['output_type'] = 'display_data';\n",
              "        await google.colab.output.renderOutput(dataTable, element);\n",
              "        const docLink = document.createElement('div');\n",
              "        docLink.innerHTML = docLinkHtml;\n",
              "        element.appendChild(docLink);\n",
              "      }\n",
              "    </script>\n",
              "  </div>\n",
              "\n",
              "\n",
              "<div id=\"df-96124e48-83bd-4750-bd30-6c4f75fc5a56\">\n",
              "  <button class=\"colab-df-quickchart\" onclick=\"quickchart('df-96124e48-83bd-4750-bd30-6c4f75fc5a56')\"\n",
              "            title=\"Suggest charts\"\n",
              "            style=\"display:none;\">\n",
              "\n",
              "<svg xmlns=\"http://www.w3.org/2000/svg\" height=\"24px\"viewBox=\"0 0 24 24\"\n",
              "     width=\"24px\">\n",
              "    <g>\n",
              "        <path d=\"M19 3H5c-1.1 0-2 .9-2 2v14c0 1.1.9 2 2 2h14c1.1 0 2-.9 2-2V5c0-1.1-.9-2-2-2zM9 17H7v-7h2v7zm4 0h-2V7h2v10zm4 0h-2v-4h2v4z\"/>\n",
              "    </g>\n",
              "</svg>\n",
              "  </button>\n",
              "\n",
              "<style>\n",
              "  .colab-df-quickchart {\n",
              "      --bg-color: #E8F0FE;\n",
              "      --fill-color: #1967D2;\n",
              "      --hover-bg-color: #E2EBFA;\n",
              "      --hover-fill-color: #174EA6;\n",
              "      --disabled-fill-color: #AAA;\n",
              "      --disabled-bg-color: #DDD;\n",
              "  }\n",
              "\n",
              "  [theme=dark] .colab-df-quickchart {\n",
              "      --bg-color: #3B4455;\n",
              "      --fill-color: #D2E3FC;\n",
              "      --hover-bg-color: #434B5C;\n",
              "      --hover-fill-color: #FFFFFF;\n",
              "      --disabled-bg-color: #3B4455;\n",
              "      --disabled-fill-color: #666;\n",
              "  }\n",
              "\n",
              "  .colab-df-quickchart {\n",
              "    background-color: var(--bg-color);\n",
              "    border: none;\n",
              "    border-radius: 50%;\n",
              "    cursor: pointer;\n",
              "    display: none;\n",
              "    fill: var(--fill-color);\n",
              "    height: 32px;\n",
              "    padding: 0;\n",
              "    width: 32px;\n",
              "  }\n",
              "\n",
              "  .colab-df-quickchart:hover {\n",
              "    background-color: var(--hover-bg-color);\n",
              "    box-shadow: 0 1px 2px rgba(60, 64, 67, 0.3), 0 1px 3px 1px rgba(60, 64, 67, 0.15);\n",
              "    fill: var(--button-hover-fill-color);\n",
              "  }\n",
              "\n",
              "  .colab-df-quickchart-complete:disabled,\n",
              "  .colab-df-quickchart-complete:disabled:hover {\n",
              "    background-color: var(--disabled-bg-color);\n",
              "    fill: var(--disabled-fill-color);\n",
              "    box-shadow: none;\n",
              "  }\n",
              "\n",
              "  .colab-df-spinner {\n",
              "    border: 2px solid var(--fill-color);\n",
              "    border-color: transparent;\n",
              "    border-bottom-color: var(--fill-color);\n",
              "    animation:\n",
              "      spin 1s steps(1) infinite;\n",
              "  }\n",
              "\n",
              "  @keyframes spin {\n",
              "    0% {\n",
              "      border-color: transparent;\n",
              "      border-bottom-color: var(--fill-color);\n",
              "      border-left-color: var(--fill-color);\n",
              "    }\n",
              "    20% {\n",
              "      border-color: transparent;\n",
              "      border-left-color: var(--fill-color);\n",
              "      border-top-color: var(--fill-color);\n",
              "    }\n",
              "    30% {\n",
              "      border-color: transparent;\n",
              "      border-left-color: var(--fill-color);\n",
              "      border-top-color: var(--fill-color);\n",
              "      border-right-color: var(--fill-color);\n",
              "    }\n",
              "    40% {\n",
              "      border-color: transparent;\n",
              "      border-right-color: var(--fill-color);\n",
              "      border-top-color: var(--fill-color);\n",
              "    }\n",
              "    60% {\n",
              "      border-color: transparent;\n",
              "      border-right-color: var(--fill-color);\n",
              "    }\n",
              "    80% {\n",
              "      border-color: transparent;\n",
              "      border-right-color: var(--fill-color);\n",
              "      border-bottom-color: var(--fill-color);\n",
              "    }\n",
              "    90% {\n",
              "      border-color: transparent;\n",
              "      border-bottom-color: var(--fill-color);\n",
              "    }\n",
              "  }\n",
              "</style>\n",
              "\n",
              "  <script>\n",
              "    async function quickchart(key) {\n",
              "      const quickchartButtonEl =\n",
              "        document.querySelector('#' + key + ' button');\n",
              "      quickchartButtonEl.disabled = true;  // To prevent multiple clicks.\n",
              "      quickchartButtonEl.classList.add('colab-df-spinner');\n",
              "      try {\n",
              "        const charts = await google.colab.kernel.invokeFunction(\n",
              "            'suggestCharts', [key], {});\n",
              "      } catch (error) {\n",
              "        console.error('Error during call to suggestCharts:', error);\n",
              "      }\n",
              "      quickchartButtonEl.classList.remove('colab-df-spinner');\n",
              "      quickchartButtonEl.classList.add('colab-df-quickchart-complete');\n",
              "    }\n",
              "    (() => {\n",
              "      let quickchartButtonEl =\n",
              "        document.querySelector('#df-96124e48-83bd-4750-bd30-6c4f75fc5a56 button');\n",
              "      quickchartButtonEl.style.display =\n",
              "        google.colab.kernel.accessAllowed ? 'block' : 'none';\n",
              "    })();\n",
              "  </script>\n",
              "</div>\n",
              "    </div>\n",
              "  </div>\n"
            ]
          },
          "metadata": {},
          "execution_count": 22
        }
      ],
      "source": [
        "stopword_list = pd.read_excel('/content/drive/MyDrive/dongguk/stopword_list.xlsx') #본인 경로로 수정\n",
        "stopword_list.head()"
      ]
    },
    {
      "cell_type": "markdown",
      "metadata": {
        "id": "iiU7YQUVb8BM"
      },
      "source": [
        "**요약**\n",
        "\n",
        "전처리를 위해 미리 만들어 둔 불용어 리스트,  한 글자 키워드 리스트를 불러왔습니다."
      ]
    },
    {
      "cell_type": "markdown",
      "metadata": {
        "id": "oypdGieLN-Zq"
      },
      "source": [
        "## 5) 단어 치환"
      ]
    },
    {
      "cell_type": "markdown",
      "metadata": {
        "id": "DNFmB9lQb-2j"
      },
      "source": [
        "같은 의미의 단어를 하나의 단어로 통일하는 작업입니다. LDA 토픽 모델링은 빈출 어휘를 중심으로 결과를 제공하기 때문에 단어를 통일할 필요가 있습니다. 아래와 같이 단어 치환을 위한 함수(replace_word)를 작성하였습니다."
      ]
    },
    {
      "cell_type": "markdown",
      "metadata": {
        "id": "f--0eaHvcAmL"
      },
      "source": [
        "**코드 분석**\n",
        "\n",
        "1. `for i in range(len(replace_list['before_replacement'])):` : before_replacement의 길이만큼 for문을 실행합니다.\n",
        "2. `try ~ except 전까지` : 치환할 단어가 있는 경우에만 텍스트에서 해당 단어를 치환합니다. **`replace_list`**의 'after_replacement' 열에 있는 값으로 해당 단어를 치환합니다.\n",
        "3. `except Exception as e:` : 예외가 발생하면 해당 예외에 대한 정보를 출력합니다.\n",
        "4. `return review` : 치환 작업이 완료된 텍스트를 반환합니다."
      ]
    },
    {
      "cell_type": "markdown",
      "metadata": {
        "id": "V_wo1yg8OWli"
      },
      "source": [
        "치환할 단어를 포함한 문장을 찾아 해당되는 모든 단어를 치환하고, 데이터셋 데이터프레임 내 새로운 칼럼(review_prep)에 저장합니다."
      ]
    },
    {
      "cell_type": "code",
      "execution_count": 23,
      "metadata": {
        "id": "HC_Lp_0JMNof",
        "outputId": "6fe9cd7c-83d8-40d2-f522-e0a35ae81963",
        "colab": {
          "base_uri": "https://localhost:8080/"
        }
      },
      "outputs": [
        {
          "output_type": "stream",
          "name": "stderr",
          "text": [
            "/usr/local/lib/python3.10/dist-packages/ipykernel/ipkernel.py:283: DeprecationWarning: `should_run_async` will not call `transform_cell` automatically in the future. Please pass the result to `transformed_cell` argument and any exception that happen during thetransform in `preprocessing_exc_tuple` in IPython 7.17 and above.\n",
            "  and should_run_async(code)\n"
          ]
        }
      ],
      "source": [
        "from konlpy.tag import Komoran\n",
        "\n",
        "# dataset의 'content' 열을 기반으로 review_prep 열 생성\n",
        "dataset['review_prep'] = dataset['content']\n",
        "\n",
        "# stopword_list에 해당하는 단어 제거\n",
        "for stopword in stopword_list['stopword']:\n",
        "    dataset['review_prep'] = dataset['review_prep'].str.replace(rf'\\b{stopword}\\b', '')"
      ]
    },
    {
      "cell_type": "markdown",
      "metadata": {
        "id": "bxR1qpfmcMLi"
      },
      "source": [
        "**요약**\n",
        "\n",
        "같은 의미의 단어를 하나의 단어로 통일하는 작업을 진행했습니다.\n",
        "\n",
        "LDA 토픽 모델링은 빈출 어휘를 중심으로 결과를 제공하기 때문에 단어를 통일할 필요가 있어 치환할 단어를 포함한 문장을 찾아 해당되는 모든 단어를 치환하고 review_prep라는 새로운 칼럼에 저장했습니다."
      ]
    },
    {
      "cell_type": "markdown",
      "metadata": {
        "id": "fmFmzUxTOCr2"
      },
      "source": [
        "## 6) 한글 외 텍스트 제거"
      ]
    },
    {
      "cell_type": "markdown",
      "metadata": {
        "id": "ppEU8nFg9LcQ"
      },
      "source": [
        "숫자, 특수문자, 영문 등 서비스 경험과 관련된 의미를 추출해 내기 어려운 모든 문자열을 제거합니다."
      ]
    },
    {
      "cell_type": "code",
      "execution_count": 24,
      "metadata": {
        "id": "r2GqyaJZMkzg",
        "outputId": "193f1ee5-29a8-4464-e005-6573edb4a576",
        "colab": {
          "base_uri": "https://localhost:8080/"
        }
      },
      "outputs": [
        {
          "output_type": "stream",
          "name": "stderr",
          "text": [
            "/usr/local/lib/python3.10/dist-packages/ipykernel/ipkernel.py:283: DeprecationWarning: `should_run_async` will not call `transform_cell` automatically in the future. Please pass the result to `transformed_cell` argument and any exception that happen during thetransform in `preprocessing_exc_tuple` in IPython 7.17 and above.\n",
            "  and should_run_async(code)\n"
          ]
        }
      ],
      "source": [
        "review_removed = list(map(lambda review: re.sub('[^가-힣 ]', '', review), dataset['review_prep']))\n",
        "dataset['review_prep'] = review_removed"
      ]
    },
    {
      "cell_type": "markdown",
      "metadata": {
        "id": "6pM9Hi3pcUh9"
      },
      "source": [
        "\n",
        "* re.sub() : 정규 표현식에 매치되는 부분을 공백으로 치환하여 해당 리뷰의 문자열을 반환\n",
        "\n",
        "* lambda : 함수를 사용하여 각 리뷰에 대해 정규 표현식을 적용한다. 위의 코드에서는 정규 표현식 **`'[^가-힣 ]'`**은 한글 및 공백을 제외한 모든 문자를 나타낸다.\n",
        "\n",
        "* map() : 주어진 시퀀스(리스트, 튜플 등)의 각 요소에 대해 지정된 함수를 적용하여 결과를 반환하는 역할. 주로 리스트의 각 요소에 대해 동일한 작업을 적용하고자 할 때 사용합니다.\n",
        "\n",
        "* list() : 리스트로 변환하여 저장. 위의 코드에서는 map()의 결과를 리스트로 변환하여 리스트에 저장"
      ]
    },
    {
      "cell_type": "code",
      "source": [
        "# 결과 확인\n",
        "dataset[['content', 'review_prep']].head()"
      ],
      "metadata": {
        "colab": {
          "base_uri": "https://localhost:8080/",
          "height": 331
        },
        "id": "gNCI-yp9Pemf",
        "outputId": "f96d0961-9ff0-488d-f88c-968f35abae42"
      },
      "execution_count": 25,
      "outputs": [
        {
          "output_type": "stream",
          "name": "stderr",
          "text": [
            "/usr/local/lib/python3.10/dist-packages/ipykernel/ipkernel.py:283: DeprecationWarning: `should_run_async` will not call `transform_cell` automatically in the future. Please pass the result to `transformed_cell` argument and any exception that happen during thetransform in `preprocessing_exc_tuple` in IPython 7.17 and above.\n",
            "  and should_run_async(code)\n"
          ]
        },
        {
          "output_type": "execute_result",
          "data": {
            "text/plain": [
              "                                             content  \\\n",
              "0  사진 올릴때 특히 세로가 긴 사진은 짤리는 경우가 많습니다. 근데 또 지금은 안짤리...   \n",
              "1  인스타 중독이 걱정될 정도로 재밌게 쓰고 있었는데 최근들어 버그도 너무 많고 수정은...   \n",
              "2  문의를 남겨도 전-혀 피드백이없어서 속터지는 마음에 남기는 리뷰. 1. 릴스 영상 ...   \n",
              "3  최근게시물을 왜 볼 수 없게 해놓은건지 알것같지만 정말 답답하네요..ㅋㅋ 인기게시물...   \n",
              "4  원래 컴퓨터와 전화기에서 동시에 로그인으로 사용할수 있었는데, 왜 갑자기 전화기에서...   \n",
              "\n",
              "                                         review_prep  \n",
              "0  사진 올릴때 특히 세로가 긴 사진은 짤리는 경우가 많습니다 근데  지금은 안짤리고 ...  \n",
              "1  인스타 중독이 걱정될 정도로 재밌게 쓰고  최근들어 버그도  많고 수정은 전혀 안되...  \n",
              "2  문의를 남겨도 전혀 피드백이없어서 속터지는 마음에 남기는 리뷰  릴스 영상 색감과 ...  \n",
              "3  최근게시물을  볼 수 없게 해놓은건지 알것같지만 정말 답답하네요 인기게시물을 먼저 ...  \n",
              "4   컴퓨터와 전화기에서  로그인으로 사용할수   갑자기 전화기에서 로그인을  컴퓨터에...  "
            ],
            "text/html": [
              "\n",
              "  <div id=\"df-04c94d0d-3b9f-4fca-9d59-326d1d443af2\" class=\"colab-df-container\">\n",
              "    <div>\n",
              "<style scoped>\n",
              "    .dataframe tbody tr th:only-of-type {\n",
              "        vertical-align: middle;\n",
              "    }\n",
              "\n",
              "    .dataframe tbody tr th {\n",
              "        vertical-align: top;\n",
              "    }\n",
              "\n",
              "    .dataframe thead th {\n",
              "        text-align: right;\n",
              "    }\n",
              "</style>\n",
              "<table border=\"1\" class=\"dataframe\">\n",
              "  <thead>\n",
              "    <tr style=\"text-align: right;\">\n",
              "      <th></th>\n",
              "      <th>content</th>\n",
              "      <th>review_prep</th>\n",
              "    </tr>\n",
              "  </thead>\n",
              "  <tbody>\n",
              "    <tr>\n",
              "      <th>0</th>\n",
              "      <td>사진 올릴때 특히 세로가 긴 사진은 짤리는 경우가 많습니다. 근데 또 지금은 안짤리...</td>\n",
              "      <td>사진 올릴때 특히 세로가 긴 사진은 짤리는 경우가 많습니다 근데  지금은 안짤리고 ...</td>\n",
              "    </tr>\n",
              "    <tr>\n",
              "      <th>1</th>\n",
              "      <td>인스타 중독이 걱정될 정도로 재밌게 쓰고 있었는데 최근들어 버그도 너무 많고 수정은...</td>\n",
              "      <td>인스타 중독이 걱정될 정도로 재밌게 쓰고  최근들어 버그도  많고 수정은 전혀 안되...</td>\n",
              "    </tr>\n",
              "    <tr>\n",
              "      <th>2</th>\n",
              "      <td>문의를 남겨도 전-혀 피드백이없어서 속터지는 마음에 남기는 리뷰. 1. 릴스 영상 ...</td>\n",
              "      <td>문의를 남겨도 전혀 피드백이없어서 속터지는 마음에 남기는 리뷰  릴스 영상 색감과 ...</td>\n",
              "    </tr>\n",
              "    <tr>\n",
              "      <th>3</th>\n",
              "      <td>최근게시물을 왜 볼 수 없게 해놓은건지 알것같지만 정말 답답하네요..ㅋㅋ 인기게시물...</td>\n",
              "      <td>최근게시물을  볼 수 없게 해놓은건지 알것같지만 정말 답답하네요 인기게시물을 먼저 ...</td>\n",
              "    </tr>\n",
              "    <tr>\n",
              "      <th>4</th>\n",
              "      <td>원래 컴퓨터와 전화기에서 동시에 로그인으로 사용할수 있었는데, 왜 갑자기 전화기에서...</td>\n",
              "      <td>컴퓨터와 전화기에서  로그인으로 사용할수   갑자기 전화기에서 로그인을  컴퓨터에...</td>\n",
              "    </tr>\n",
              "  </tbody>\n",
              "</table>\n",
              "</div>\n",
              "    <div class=\"colab-df-buttons\">\n",
              "\n",
              "  <div class=\"colab-df-container\">\n",
              "    <button class=\"colab-df-convert\" onclick=\"convertToInteractive('df-04c94d0d-3b9f-4fca-9d59-326d1d443af2')\"\n",
              "            title=\"Convert this dataframe to an interactive table.\"\n",
              "            style=\"display:none;\">\n",
              "\n",
              "  <svg xmlns=\"http://www.w3.org/2000/svg\" height=\"24px\" viewBox=\"0 -960 960 960\">\n",
              "    <path d=\"M120-120v-720h720v720H120Zm60-500h600v-160H180v160Zm220 220h160v-160H400v160Zm0 220h160v-160H400v160ZM180-400h160v-160H180v160Zm440 0h160v-160H620v160ZM180-180h160v-160H180v160Zm440 0h160v-160H620v160Z\"/>\n",
              "  </svg>\n",
              "    </button>\n",
              "\n",
              "  <style>\n",
              "    .colab-df-container {\n",
              "      display:flex;\n",
              "      gap: 12px;\n",
              "    }\n",
              "\n",
              "    .colab-df-convert {\n",
              "      background-color: #E8F0FE;\n",
              "      border: none;\n",
              "      border-radius: 50%;\n",
              "      cursor: pointer;\n",
              "      display: none;\n",
              "      fill: #1967D2;\n",
              "      height: 32px;\n",
              "      padding: 0 0 0 0;\n",
              "      width: 32px;\n",
              "    }\n",
              "\n",
              "    .colab-df-convert:hover {\n",
              "      background-color: #E2EBFA;\n",
              "      box-shadow: 0px 1px 2px rgba(60, 64, 67, 0.3), 0px 1px 3px 1px rgba(60, 64, 67, 0.15);\n",
              "      fill: #174EA6;\n",
              "    }\n",
              "\n",
              "    .colab-df-buttons div {\n",
              "      margin-bottom: 4px;\n",
              "    }\n",
              "\n",
              "    [theme=dark] .colab-df-convert {\n",
              "      background-color: #3B4455;\n",
              "      fill: #D2E3FC;\n",
              "    }\n",
              "\n",
              "    [theme=dark] .colab-df-convert:hover {\n",
              "      background-color: #434B5C;\n",
              "      box-shadow: 0px 1px 3px 1px rgba(0, 0, 0, 0.15);\n",
              "      filter: drop-shadow(0px 1px 2px rgba(0, 0, 0, 0.3));\n",
              "      fill: #FFFFFF;\n",
              "    }\n",
              "  </style>\n",
              "\n",
              "    <script>\n",
              "      const buttonEl =\n",
              "        document.querySelector('#df-04c94d0d-3b9f-4fca-9d59-326d1d443af2 button.colab-df-convert');\n",
              "      buttonEl.style.display =\n",
              "        google.colab.kernel.accessAllowed ? 'block' : 'none';\n",
              "\n",
              "      async function convertToInteractive(key) {\n",
              "        const element = document.querySelector('#df-04c94d0d-3b9f-4fca-9d59-326d1d443af2');\n",
              "        const dataTable =\n",
              "          await google.colab.kernel.invokeFunction('convertToInteractive',\n",
              "                                                    [key], {});\n",
              "        if (!dataTable) return;\n",
              "\n",
              "        const docLinkHtml = 'Like what you see? Visit the ' +\n",
              "          '<a target=\"_blank\" href=https://colab.research.google.com/notebooks/data_table.ipynb>data table notebook</a>'\n",
              "          + ' to learn more about interactive tables.';\n",
              "        element.innerHTML = '';\n",
              "        dataTable['output_type'] = 'display_data';\n",
              "        await google.colab.output.renderOutput(dataTable, element);\n",
              "        const docLink = document.createElement('div');\n",
              "        docLink.innerHTML = docLinkHtml;\n",
              "        element.appendChild(docLink);\n",
              "      }\n",
              "    </script>\n",
              "  </div>\n",
              "\n",
              "\n",
              "<div id=\"df-73f3a0cc-0407-46a0-820b-06831011fb8e\">\n",
              "  <button class=\"colab-df-quickchart\" onclick=\"quickchart('df-73f3a0cc-0407-46a0-820b-06831011fb8e')\"\n",
              "            title=\"Suggest charts\"\n",
              "            style=\"display:none;\">\n",
              "\n",
              "<svg xmlns=\"http://www.w3.org/2000/svg\" height=\"24px\"viewBox=\"0 0 24 24\"\n",
              "     width=\"24px\">\n",
              "    <g>\n",
              "        <path d=\"M19 3H5c-1.1 0-2 .9-2 2v14c0 1.1.9 2 2 2h14c1.1 0 2-.9 2-2V5c0-1.1-.9-2-2-2zM9 17H7v-7h2v7zm4 0h-2V7h2v10zm4 0h-2v-4h2v4z\"/>\n",
              "    </g>\n",
              "</svg>\n",
              "  </button>\n",
              "\n",
              "<style>\n",
              "  .colab-df-quickchart {\n",
              "      --bg-color: #E8F0FE;\n",
              "      --fill-color: #1967D2;\n",
              "      --hover-bg-color: #E2EBFA;\n",
              "      --hover-fill-color: #174EA6;\n",
              "      --disabled-fill-color: #AAA;\n",
              "      --disabled-bg-color: #DDD;\n",
              "  }\n",
              "\n",
              "  [theme=dark] .colab-df-quickchart {\n",
              "      --bg-color: #3B4455;\n",
              "      --fill-color: #D2E3FC;\n",
              "      --hover-bg-color: #434B5C;\n",
              "      --hover-fill-color: #FFFFFF;\n",
              "      --disabled-bg-color: #3B4455;\n",
              "      --disabled-fill-color: #666;\n",
              "  }\n",
              "\n",
              "  .colab-df-quickchart {\n",
              "    background-color: var(--bg-color);\n",
              "    border: none;\n",
              "    border-radius: 50%;\n",
              "    cursor: pointer;\n",
              "    display: none;\n",
              "    fill: var(--fill-color);\n",
              "    height: 32px;\n",
              "    padding: 0;\n",
              "    width: 32px;\n",
              "  }\n",
              "\n",
              "  .colab-df-quickchart:hover {\n",
              "    background-color: var(--hover-bg-color);\n",
              "    box-shadow: 0 1px 2px rgba(60, 64, 67, 0.3), 0 1px 3px 1px rgba(60, 64, 67, 0.15);\n",
              "    fill: var(--button-hover-fill-color);\n",
              "  }\n",
              "\n",
              "  .colab-df-quickchart-complete:disabled,\n",
              "  .colab-df-quickchart-complete:disabled:hover {\n",
              "    background-color: var(--disabled-bg-color);\n",
              "    fill: var(--disabled-fill-color);\n",
              "    box-shadow: none;\n",
              "  }\n",
              "\n",
              "  .colab-df-spinner {\n",
              "    border: 2px solid var(--fill-color);\n",
              "    border-color: transparent;\n",
              "    border-bottom-color: var(--fill-color);\n",
              "    animation:\n",
              "      spin 1s steps(1) infinite;\n",
              "  }\n",
              "\n",
              "  @keyframes spin {\n",
              "    0% {\n",
              "      border-color: transparent;\n",
              "      border-bottom-color: var(--fill-color);\n",
              "      border-left-color: var(--fill-color);\n",
              "    }\n",
              "    20% {\n",
              "      border-color: transparent;\n",
              "      border-left-color: var(--fill-color);\n",
              "      border-top-color: var(--fill-color);\n",
              "    }\n",
              "    30% {\n",
              "      border-color: transparent;\n",
              "      border-left-color: var(--fill-color);\n",
              "      border-top-color: var(--fill-color);\n",
              "      border-right-color: var(--fill-color);\n",
              "    }\n",
              "    40% {\n",
              "      border-color: transparent;\n",
              "      border-right-color: var(--fill-color);\n",
              "      border-top-color: var(--fill-color);\n",
              "    }\n",
              "    60% {\n",
              "      border-color: transparent;\n",
              "      border-right-color: var(--fill-color);\n",
              "    }\n",
              "    80% {\n",
              "      border-color: transparent;\n",
              "      border-right-color: var(--fill-color);\n",
              "      border-bottom-color: var(--fill-color);\n",
              "    }\n",
              "    90% {\n",
              "      border-color: transparent;\n",
              "      border-bottom-color: var(--fill-color);\n",
              "    }\n",
              "  }\n",
              "</style>\n",
              "\n",
              "  <script>\n",
              "    async function quickchart(key) {\n",
              "      const quickchartButtonEl =\n",
              "        document.querySelector('#' + key + ' button');\n",
              "      quickchartButtonEl.disabled = true;  // To prevent multiple clicks.\n",
              "      quickchartButtonEl.classList.add('colab-df-spinner');\n",
              "      try {\n",
              "        const charts = await google.colab.kernel.invokeFunction(\n",
              "            'suggestCharts', [key], {});\n",
              "      } catch (error) {\n",
              "        console.error('Error during call to suggestCharts:', error);\n",
              "      }\n",
              "      quickchartButtonEl.classList.remove('colab-df-spinner');\n",
              "      quickchartButtonEl.classList.add('colab-df-quickchart-complete');\n",
              "    }\n",
              "    (() => {\n",
              "      let quickchartButtonEl =\n",
              "        document.querySelector('#df-73f3a0cc-0407-46a0-820b-06831011fb8e button');\n",
              "      quickchartButtonEl.style.display =\n",
              "        google.colab.kernel.accessAllowed ? 'block' : 'none';\n",
              "    })();\n",
              "  </script>\n",
              "</div>\n",
              "    </div>\n",
              "  </div>\n"
            ]
          },
          "metadata": {},
          "execution_count": 25
        }
      ]
    },
    {
      "cell_type": "markdown",
      "metadata": {
        "id": "Tu-oUS1xcWmN"
      },
      "source": [
        "**요약**\n",
        "\n",
        "한글 외 특수문자, 숫자, 영문 등은 서비스 경험과 관련된 의미를 추출하기 어려워 lambda를 활용해 각 리뷰에 대해 정규 표현식을 적용하여 한글 외의 텍스트를 제거했습니다."
      ]
    },
    {
      "cell_type": "markdown",
      "metadata": {
        "id": "xsYxXKdbOIVn"
      },
      "source": [
        "## 7) 평점 기준 데이터 분리"
      ]
    },
    {
      "cell_type": "markdown",
      "metadata": {
        "id": "27ZCK7ULcYcc"
      },
      "source": [
        "구글 플레이 스토어는 평점이 5점 만점입니다. 따라서 본 프로젝트에서는 4~5점을 긍정적인 평가를 받은 리뷰로, 1~2점을 부정적인 평가를 받은 리뷰로 분류하였습니다. 이는 서비스 이용 경험과 관련한 리뷰 내용이 긍정적인지, 부정적인지를 구분하기 위한 목적입니다."
      ]
    },
    {
      "cell_type": "code",
      "execution_count": 26,
      "metadata": {
        "id": "JCbIYBmMMmel",
        "outputId": "b5999d91-ea46-446c-eaae-c0f166299587",
        "colab": {
          "base_uri": "https://localhost:8080/"
        }
      },
      "outputs": [
        {
          "output_type": "stream",
          "name": "stderr",
          "text": [
            "/usr/local/lib/python3.10/dist-packages/ipykernel/ipkernel.py:283: DeprecationWarning: `should_run_async` will not call `transform_cell` automatically in the future. Please pass the result to `transformed_cell` argument and any exception that happen during thetransform in `preprocessing_exc_tuple` in IPython 7.17 and above.\n",
            "  and should_run_async(code)\n"
          ]
        }
      ],
      "source": [
        "# 긍정적 리뷰(평점 5점 만점 기준 4, 5점)\n",
        "review_pos = dataset[(4 == dataset['score']) | (dataset['score'] == 5)]['review_prep']\n",
        "# 부정적 리뷰(평점 5점 만점 기준 1, 2점)\n",
        "review_neg = dataset[(1 == dataset['score']) | (dataset['score'] == 2)]['review_prep']"
      ]
    },
    {
      "cell_type": "markdown",
      "metadata": {
        "id": "GzQ5Bobkca23"
      },
      "source": [
        "**요약**\n",
        "\n",
        "review_pos에는 4,5점을 받은 리뷰로 분류하고,\n",
        "\n",
        "review_neg에는 1,2점을 받은 리뷰로 데이터를 분류했습니다."
      ]
    },
    {
      "cell_type": "markdown",
      "metadata": {
        "id": "BG5j7bODOKHH"
      },
      "source": [
        "## 8) 토큰화"
      ]
    },
    {
      "cell_type": "markdown",
      "metadata": {
        "id": "fmjeSzalcg2E"
      },
      "source": [
        "원본 프로젝트에서는 KoNLPy에서 속도 및 토큰화 측면에서 성능이 가장 우수한 Mecab 형태소 분석기를 활용했습니다. 하지만 코랩 환경에서는 동작하기 어렵기 때문에 okt 형태소 분석기를 활용했습니다.<br>\n",
        "특히, 명사가 문장 내 맥락을 파악하는 데 핵심 형태소이며 빈출 어휘를 쉽게 파악할 수 있다는 장점이 있기 때문에, 리뷰에서 명사만 추출하였습니다."
      ]
    },
    {
      "cell_type": "code",
      "execution_count": 27,
      "metadata": {
        "id": "pKm9ee0HMoOD",
        "outputId": "2d881f7a-3442-448d-9aa7-5fd790b8eb97",
        "colab": {
          "base_uri": "https://localhost:8080/"
        }
      },
      "outputs": [
        {
          "output_type": "stream",
          "name": "stderr",
          "text": [
            "/usr/local/lib/python3.10/dist-packages/ipykernel/ipkernel.py:283: DeprecationWarning: `should_run_async` will not call `transform_cell` automatically in the future. Please pass the result to `transformed_cell` argument and any exception that happen during thetransform in `preprocessing_exc_tuple` in IPython 7.17 and above.\n",
            "  and should_run_async(code)\n"
          ]
        }
      ],
      "source": [
        "review_tokenized_pos = list(map(lambda review: okt.nouns(review), review_pos))\n",
        "review_tokenized_neg = list(map(lambda review: okt.nouns(review), review_neg))"
      ]
    },
    {
      "cell_type": "markdown",
      "metadata": {
        "id": "6xhObrPOcy8j"
      },
      "source": [
        "**코드 분석**\n",
        "\n",
        "1. `review_tokenized_pos = list(map(lambda review: mecab.nouns(review), review_pos))`:\n",
        "    - `review_pos`라는 리스트(또는 시퀀스)에 있는 각 리뷰에 대해 `mecab.nouns()` 함수를 적용합니다.\n",
        "    - `lambda` 함수를 사용하여 각 리뷰에 대해 `mecab.nouns()` 함수를 호출합니다. `mecab.nouns()` 함수는 해당 리뷰에서 명사만 추출합니다.\n",
        "    - `map()` 함수를 사용하여 각 리뷰에 대해 `mecab.nouns()` 함수를 적용하고, 그 결과를 새로운 리스트인 `review_tokenized_pos`에 저장합니다.\n",
        "2. `review_tokenized_neg = list(map(lambda review: mecab.nouns(review), review_neg))`:\n",
        "    - `review_neg`라는 리스트(또는 시퀀스)에 있는 각 리뷰에 대해 `mecab.nouns()` 함수를 적용합니다. 마찬가지로 `lambda` 함수를 사용하여 각 리뷰에 대해 `mecab.nouns()` 함수를 호출하여 명사만 추출합니다.\n",
        "    - `map()` 함수를 사용하여 각 리뷰에 대해 `mecab.nouns()` 함수를 적용하고, 그 결과를 새로운 리스트인 `review_tokenized_neg`에 저장합니다."
      ]
    },
    {
      "cell_type": "markdown",
      "metadata": {
        "id": "PFtqCMkyc1HW"
      },
      "source": [
        "**요약**\n",
        "\n",
        "긍정적인 리뷰와 부정적인 리뷰에서 명사만 추출하여 각각 review_tokenized_pos와 review_tokenized_neg에 저장했습니다."
      ]
    },
    {
      "cell_type": "markdown",
      "metadata": {
        "id": "rURv8QpROMF7"
      },
      "source": [
        "## 9) 불용어 제거"
      ]
    },
    {
      "cell_type": "markdown",
      "metadata": {
        "id": "Eo6G4HIhc3Z_"
      },
      "source": [
        "토큰화 후 토큰이 2글자인 경우 불용어에 해당되지 않는 토큰만 분석에 활용합니다. 토큰이 1글자인 경우에는 1글자 키워드 리스트에 포함되는 토큰만 분석에 활용합니다."
      ]
    },
    {
      "cell_type": "code",
      "execution_count": 28,
      "metadata": {
        "id": "WB7QqsjTMp6v",
        "outputId": "77806586-1717-415a-b0e0-07bf45735458",
        "colab": {
          "base_uri": "https://localhost:8080/"
        }
      },
      "outputs": [
        {
          "output_type": "stream",
          "name": "stderr",
          "text": [
            "/usr/local/lib/python3.10/dist-packages/ipykernel/ipkernel.py:283: DeprecationWarning: `should_run_async` will not call `transform_cell` automatically in the future. Please pass the result to `transformed_cell` argument and any exception that happen during thetransform in `preprocessing_exc_tuple` in IPython 7.17 and above.\n",
            "  and should_run_async(code)\n"
          ]
        }
      ],
      "source": [
        "def remove_stopword(tokens):\n",
        "    review_removed_stopword = []\n",
        "    for token in tokens:\n",
        "        # 토큰의 글자 수가 2글자 이상이고, 불용어가 아닌 경우를 분석용 리뷰 데이터로 포함\n",
        "        if len(token) > 1 and token not in list(stopword_list['stopword']):\n",
        "            review_removed_stopword.append(token)\n",
        "    return review_removed_stopword"
      ]
    },
    {
      "cell_type": "markdown",
      "metadata": {
        "id": "K20gKZxBdAui"
      },
      "source": [
        "**코드 분석**\n",
        "\n",
        "토큰의 글자 수가 2글자 이상이고, 불용어가 아닌 경우를 분석용 리뷰 데이터로 포함합니다."
      ]
    },
    {
      "cell_type": "code",
      "execution_count": 29,
      "metadata": {
        "id": "2Tbm67o3MqEe",
        "outputId": "2cabd2d2-8ab5-4d53-c14a-dc437afa2561",
        "colab": {
          "base_uri": "https://localhost:8080/"
        }
      },
      "outputs": [
        {
          "output_type": "stream",
          "name": "stderr",
          "text": [
            "/usr/local/lib/python3.10/dist-packages/ipykernel/ipkernel.py:283: DeprecationWarning: `should_run_async` will not call `transform_cell` automatically in the future. Please pass the result to `transformed_cell` argument and any exception that happen during thetransform in `preprocessing_exc_tuple` in IPython 7.17 and above.\n",
            "  and should_run_async(code)\n"
          ]
        }
      ],
      "source": [
        "review_removed_stopword_pos = list(map(lambda tokens : remove_stopword(tokens), review_tokenized_pos))\n",
        "review_removed_stopword_neg = list(map(lambda tokens : remove_stopword(tokens), review_tokenized_neg))"
      ]
    },
    {
      "cell_type": "markdown",
      "metadata": {
        "id": "3qLbBG1PdFUQ"
      },
      "source": [
        "`review_tokenized_pos` 리스트에 있는 각 토큰 리스트에 대해 `remove_stopword` 함수를 적용합니다.\n",
        "\n",
        "`lambda` 함수를 사용하여 각 토큰 리스트에 대해 `remove_stopword` 함수를 호출합니다. 이렇게 하면 각 토큰 리스트에서 불용어가 제거된 토큰들의 리스트가 반환됩니다.\n",
        "\n",
        "`review_tokenized_neg` 리스트에 있는 각 토큰 리스트에 대해도 마찬가지로 `remove_stopword` 함수를 적용하여 불용어를 제거합니다."
      ]
    },
    {
      "cell_type": "markdown",
      "metadata": {
        "id": "K6cLtcyudIBg"
      },
      "source": [
        "**요약**\n",
        "\n",
        "토큰화 후 토큰이 2글자인 경우 불용어에 해당되지 않는 토큰만 분석에 활용합니다. 토큰이 1글자인 경우에는 1글자 키워드 리스트에 포함되는 토큰만 분석에 활용합니다. (아닌 경우 모두 제거했음)\n",
        "\n",
        "이후, 긍정적인 리뷰review_tokenized_pos와 부정적인 리뷰 review_tokenized_neg에서 불용어를 제거하여 각각 review_removed_stopword_pos와 review_removed_stopword_neg에 저장했습니다."
      ]
    },
    {
      "cell_type": "markdown",
      "metadata": {
        "id": "a5xpLWQcOOmm"
      },
      "source": [
        "## 10) 특정 토큰 개수의 리뷰 선별"
      ]
    },
    {
      "cell_type": "code",
      "execution_count": 30,
      "metadata": {
        "id": "1KTISXnrMtCG",
        "outputId": "01e2c920-67f4-4dee-ac42-0faed27afaa1",
        "colab": {
          "base_uri": "https://localhost:8080/"
        }
      },
      "outputs": [
        {
          "output_type": "stream",
          "name": "stderr",
          "text": [
            "/usr/local/lib/python3.10/dist-packages/ipykernel/ipkernel.py:283: DeprecationWarning: `should_run_async` will not call `transform_cell` automatically in the future. Please pass the result to `transformed_cell` argument and any exception that happen during thetransform in `preprocessing_exc_tuple` in IPython 7.17 and above.\n",
            "  and should_run_async(code)\n"
          ]
        }
      ],
      "source": [
        "MIN_TOKEN_NUMBER = 3 # 최소 토큰 개수\n",
        "MAX_TOKEN_NUMBER = 15 # 최대 토큰 개수"
      ]
    },
    {
      "cell_type": "markdown",
      "metadata": {
        "id": "L7BZ__mfdKI2"
      },
      "source": [
        "일반적으로, 리뷰의 길이가 길수록 사용자 경험이나 기술적 문제 등 사용자 의견이 많이 내포되어 있을 가능성이 높습니다. 하지만, 오히려 지나치게 길이가 긴 리뷰는 주제 파악이나 리뷰 내 단어 간의 조합을 활용하여 특징을 추출하는 데 어려움이 있을 수 있습니다[(Vasa et al., 2012)](https://dl.acm.org/doi/abs/10.1145/2414536.2414577?casa_token=OQqZbuik4RwAAAAA:_FOT4Fl0bj1reHDV7BNObsGIM1XR6Z7o3TZyBQeIoIX6aEGcUMKhUSMOQv0ytkc9lu3_x7ZI6jDbTVc).\n",
        "\n",
        "따라서 본 프로젝트에서는 각 리뷰에서 추출된 명사의 개수가 `3개 이상 15개 이하`인 리뷰만을 분석에 활용하였습니다."
      ]
    },
    {
      "cell_type": "code",
      "execution_count": 31,
      "metadata": {
        "id": "HKXHFVO5Mt15",
        "outputId": "dacc2f84-aa53-4bc1-f72a-fe3532e7fbb3",
        "colab": {
          "base_uri": "https://localhost:8080/"
        }
      },
      "outputs": [
        {
          "output_type": "stream",
          "name": "stderr",
          "text": [
            "/usr/local/lib/python3.10/dist-packages/ipykernel/ipkernel.py:283: DeprecationWarning: `should_run_async` will not call `transform_cell` automatically in the future. Please pass the result to `transformed_cell` argument and any exception that happen during thetransform in `preprocessing_exc_tuple` in IPython 7.17 and above.\n",
            "  and should_run_async(code)\n"
          ]
        }
      ],
      "source": [
        "def select_review(review_removed_stopword):\n",
        "    review_prep = []\n",
        "    for tokens in review_removed_stopword:\n",
        "        if MIN_TOKEN_NUMBER <= len(tokens) <= MAX_TOKEN_NUMBER:\n",
        "            review_prep.append(tokens)\n",
        "    return review_prep"
      ]
    },
    {
      "cell_type": "markdown",
      "metadata": {
        "id": "hX22WwYgdPNc"
      },
      "source": [
        "**코드 분석**\n",
        "\n",
        "1. `def select_review(review_removed_stopword):`: `select_review`라는 함수를 정의합니다. 이 함수는 `review_removed_stopword`라는 매개변수를 받습니다. `review_removed_stopword`는 불용어가 제거된 토큰들로 이루어진 리스트입니다.\n",
        "2. `review_prep = []`: 빈 리스트 `review_prep`를 생성합니다. 이 리스트에는 선택된 리뷰가 저장됩니다.\n",
        "3. `for tokens in review_removed_stopword:`: `review_removed_stopword` 리스트에 있는 각 토큰 리스트에 대해 반복문을 실행합니다. 각 토큰 리스트는 불용어가 제거된 토큰들을 포함합니다.\n",
        "4. `if MIN_TOKEN_NUMBER <= len(tokens) <= MAX_TOKEN_NUMBER:`: 토큰 리스트의 길이가 `MIN_TOKEN_NUMBER`보다 크고 `MAX_TOKEN_NUMBER`보다 작거나 같은지 확인합니다. 이는 토큰의 길이가 특정 범위에 있는지 검사하는 조건입니다.\n",
        "5. `review_prep.append(tokens)`: 만약 토큰의 길이가 조건에 맞으면 해당 토큰 리스트를 `review_prep`에 추가합니다.\n",
        "6. `return review_prep`: 선택된 리뷰들이 저장된 `review_prep` 리스트를 반환합니다."
      ]
    },
    {
      "cell_type": "code",
      "execution_count": 32,
      "metadata": {
        "id": "CX0l_PC2Mu_J",
        "outputId": "bebf364c-3714-4858-be4d-3af38c5b893d",
        "colab": {
          "base_uri": "https://localhost:8080/"
        }
      },
      "outputs": [
        {
          "output_type": "stream",
          "name": "stderr",
          "text": [
            "/usr/local/lib/python3.10/dist-packages/ipykernel/ipkernel.py:283: DeprecationWarning: `should_run_async` will not call `transform_cell` automatically in the future. Please pass the result to `transformed_cell` argument and any exception that happen during thetransform in `preprocessing_exc_tuple` in IPython 7.17 and above.\n",
            "  and should_run_async(code)\n"
          ]
        }
      ],
      "source": [
        "review_prep_pos = select_review(review_removed_stopword_pos)\n",
        "review_prep_neg = select_review(review_removed_stopword_neg)"
      ]
    },
    {
      "cell_type": "markdown",
      "metadata": {
        "id": "cr3bnbeNdRGt"
      },
      "source": [
        "* select_review() : 함수에서 정의된 조건에 따라 길이가 일정 범위 내에 있는 토큰들이 선택"
      ]
    },
    {
      "cell_type": "markdown",
      "metadata": {
        "id": "O3Y-4mb_dSly"
      },
      "source": [
        "**요약**\n",
        "\n",
        "리뷰의 길이가 길수록 사용자 경험이나 기술적 문제 등 사용자 의견이 많이 내포되어 있을 가능성이 높습니다. 하지만, 오히려 지나치게 길이가 긴 리뷰는 주제 파악이나 리뷰 내 단어 간의 조합을 활용하여 특징을 추출하는 데 어려움이 있을 수 있습니다.\n",
        "\n",
        "그래서 각 리뷰에서 추출된 명사가 3개 이상 15개 이하인 리뷰만 추출하여 review_prep에 추가했습니다.\n",
        "\n",
        "이후, review_prep에서 긍정적 리뷰는 review_prep_pos에 추가하고, 부정적 리뷰는 review_prep_neg에 추가했습니다."
      ]
    },
    {
      "cell_type": "markdown",
      "metadata": {
        "id": "wloeZhwcOSej"
      },
      "source": [
        "## 11) 전처리 결과 확인"
      ]
    },
    {
      "cell_type": "code",
      "execution_count": 33,
      "metadata": {
        "colab": {
          "base_uri": "https://localhost:8080/"
        },
        "id": "40a1GPukMwCg",
        "outputId": "f6c345a8-dc83-4932-c452-916036e30148"
      },
      "outputs": [
        {
          "output_type": "stream",
          "name": "stdout",
          "text": [
            "분석한 리뷰 총 개수: 324\n",
            "긍정적 리뷰: 148개(45.68%)\n",
            "부정적 리뷰: 176개(54.32%)\n"
          ]
        },
        {
          "output_type": "stream",
          "name": "stderr",
          "text": [
            "/usr/local/lib/python3.10/dist-packages/ipykernel/ipkernel.py:283: DeprecationWarning: `should_run_async` will not call `transform_cell` automatically in the future. Please pass the result to `transformed_cell` argument and any exception that happen during thetransform in `preprocessing_exc_tuple` in IPython 7.17 and above.\n",
            "  and should_run_async(code)\n"
          ]
        }
      ],
      "source": [
        "review_num_pos = len(review_prep_pos)\n",
        "review_num_neg = len(review_prep_neg)\n",
        "review_num_tot = review_num_pos + review_num_neg\n",
        "\n",
        "print(f\"분석한 리뷰 총 개수: {review_num_tot}\")\n",
        "print(f\"긍정적 리뷰: {review_num_pos}개({(review_num_pos/review_num_tot)*100:.2f}%)\")\n",
        "print(f\"부정적 리뷰: {review_num_neg}개({(review_num_neg/review_num_tot)*100:.2f}%)\")"
      ]
    },
    {
      "cell_type": "markdown",
      "metadata": {
        "id": "v4d-qjE_dVVx"
      },
      "source": [
        "분석한 리뷰의 개수를 len함수를 통해 알아보겠습니다.\n",
        "\n",
        "review_num_pos와 review_num_neg를 더하면 총 리뷰가 되기 때문에 review_num_tot를 생성하고 print 함수를 통해 총 리뷰 개수와 긍정적 리뷰, 부정적 리뷰의 개수를 알아 보겠습니다."
      ]
    },
    {
      "cell_type": "markdown",
      "metadata": {
        "id": "rbeV7frTdYB_"
      },
      "source": [
        "그 결과, 최초에 수집한 54만 개의 리뷰 데이터 중 전처리 후 남은 데이터는 8.4만 개입니다.\n",
        "\n",
        "**요약**\n",
        "\n",
        "len함수와 print 함수를 통해 분석한 리뷰의 총 개수는 84012개이고 긍정적 리뷰의 개수와 비율, 부정적 리뷰의 개수와 비율을 알 수 있었습니다."
      ]
    },
    {
      "cell_type": "markdown",
      "metadata": {
        "id": "dTNLOygFMyrp"
      },
      "source": [
        "# 3. LDA 토픽 모델링"
      ]
    },
    {
      "cell_type": "markdown",
      "metadata": {
        "id": "LCo-UIjsOh98"
      },
      "source": [
        "## 1) 하이퍼파라미터 튜닝"
      ]
    },
    {
      "cell_type": "markdown",
      "metadata": {
        "id": "RN_5OMSndlhM"
      },
      "source": [
        "토픽의 개수와 학습 횟수는 하이퍼파라미터입니다. 본 프로젝트에서는 긍정적 리뷰와 부정적 리뷰 각각에서 토픽 10개씩을 추출합니다. 학습 횟수는 PASSES 옵션으로 변경하며 전체 문서 데이터를 몇 번 학습할지 결정합니다.\n",
        "\n",
        "* 하이퍼파라미터 : 모델을 학습시키기 위해 사전에 사용자가 설정해야 하는 매개변수들\n",
        "\n",
        "* PASSES : 모델을 토픽 모델에 반복하여 입력하고 학습하는 단계의 수"
      ]
    },
    {
      "cell_type": "code",
      "execution_count": 38,
      "metadata": {
        "id": "Mybiy3RFM0yK",
        "outputId": "1a40d485-320e-4809-969b-2da7397dc0ea",
        "colab": {
          "base_uri": "https://localhost:8080/"
        }
      },
      "outputs": [
        {
          "output_type": "stream",
          "name": "stderr",
          "text": [
            "/usr/local/lib/python3.10/dist-packages/ipykernel/ipkernel.py:283: DeprecationWarning: `should_run_async` will not call `transform_cell` automatically in the future. Please pass the result to `transformed_cell` argument and any exception that happen during thetransform in `preprocessing_exc_tuple` in IPython 7.17 and above.\n",
            "  and should_run_async(code)\n"
          ]
        }
      ],
      "source": [
        "NUM_TOPICS = 10 # 토픽 개수는 하이퍼파라미터\n",
        "# passes: 딥러닝에서 Epoch와 같은 개념으로, 전체 corpus로 모델 학습 횟수 결정\n",
        "PASSES = 15"
      ]
    },
    {
      "cell_type": "code",
      "source": [
        "print(pd.__version__)"
      ],
      "metadata": {
        "colab": {
          "base_uri": "https://localhost:8080/"
        },
        "id": "5etwqvA4VEaU",
        "outputId": "e0ff34a0-5454-4fd8-8163-0907c9c19b42"
      },
      "execution_count": 46,
      "outputs": [
        {
          "output_type": "stream",
          "name": "stdout",
          "text": [
            "1.5.3\n"
          ]
        },
        {
          "output_type": "stream",
          "name": "stderr",
          "text": [
            "/usr/local/lib/python3.10/dist-packages/ipykernel/ipkernel.py:283: DeprecationWarning: `should_run_async` will not call `transform_cell` automatically in the future. Please pass the result to `transformed_cell` argument and any exception that happen during thetransform in `preprocessing_exc_tuple` in IPython 7.17 and above.\n",
            "  and should_run_async(code)\n"
          ]
        }
      ]
    },
    {
      "cell_type": "markdown",
      "metadata": {
        "id": "Xd84etO0OkWQ"
      },
      "source": [
        "## 2) 모델 학습 함수"
      ]
    },
    {
      "cell_type": "markdown",
      "metadata": {
        "id": "QiE_z5BVdngD"
      },
      "source": [
        "lda_modeling은 우리가 만들 토픽 모델링을 수행하는 함수입니다."
      ]
    },
    {
      "cell_type": "code",
      "execution_count": 39,
      "metadata": {
        "id": "JITIS2TZM2yT",
        "outputId": "b2a9ea2a-27ea-4015-cbd1-6ca3bacb8790",
        "colab": {
          "base_uri": "https://localhost:8080/"
        }
      },
      "outputs": [
        {
          "output_type": "stream",
          "name": "stderr",
          "text": [
            "/usr/local/lib/python3.10/dist-packages/ipykernel/ipkernel.py:283: DeprecationWarning: `should_run_async` will not call `transform_cell` automatically in the future. Please pass the result to `transformed_cell` argument and any exception that happen during thetransform in `preprocessing_exc_tuple` in IPython 7.17 and above.\n",
            "  and should_run_async(code)\n"
          ]
        }
      ],
      "source": [
        "def lda_modeling(review_prep):\n",
        "    # 단어 인코딩 및 빈도수 계산\n",
        "    dictionary = corpora.Dictionary(review_prep)\n",
        "    corpus = [dictionary.doc2bow(review) for review in review_prep]\n",
        "    # LDA 모델 학습\n",
        "    model = gensim.models.ldamodel.LdaModel(corpus,\n",
        "                                            num_topics = NUM_TOPICS,\n",
        "                                            id2word = dictionary,\n",
        "                                            passes = PASSES)\n",
        "    return model, corpus, dictionary"
      ]
    },
    {
      "cell_type": "markdown",
      "metadata": {
        "id": "vTU7xsBadp-Y"
      },
      "source": [
        "**코드 분석**\n",
        "\n",
        "1. `def lda_modeling(review_prep):`: `lda_modeling`이라는 함수를 정의하며, `review_prep`라는 매개변수를 받습니다. 이 매개변수는 토픽 모델링을 수행할 대상인 전처리된 리뷰 데이터입니다.\n",
        "2. `dictionary = corpora.Dictionary(review_prep)`: `corpora.Dictionary`를 사용하여 단어 사전(dictionary)을 생성합니다. 이 사전은 전처리된 리뷰 데이터에 있는 단어들을 고유한 정수로 매핑합니다.\n",
        "    \n",
        "    * corpora.Dictionary : Gensim 라이브러리에서 제공하는 도구로, 텍스트 문서를 표현하는 딕셔너리를 생성하는 역할\n",
        "    \n",
        "    - corpora 사용 예시\n",
        "        \n",
        "        ```python\n",
        "        from gensim import corpora\n",
        "        \n",
        "        # 간단한 텍스트 문서들\n",
        "        documents = [\n",
        "            ['apple', 'banana', 'cherry'],\n",
        "            ['banana', 'orange', 'kiwi'],\n",
        "            ['apple', 'cherry', 'orange', 'banana']\n",
        "        ]\n",
        "        \n",
        "        # Dictionary 생성\n",
        "        dictionary = corpora.Dictionary(documents)\n",
        "        \n",
        "        # 각 단어의 고유 ID 확인\n",
        "        print(dictionary.token2id)  # 단어에 대한 ID 매핑\n",
        "        \n",
        "        # 특정 단어의 ID 얻기\n",
        "        print(dictionary.token2id.get('banana'))  # banana에 대한 ID\n",
        "        ```\n",
        "        \n",
        "        이렇게 생성된 딕셔너리를 사용하여 텍스트 데이터를 수치화하여 다양한 자연어 처리 작업에 활용할 수 있습니다.\n",
        "        \n",
        "3. `corpus = [dictionary.doc2bow(review) for review in review_prep]`: 단어 빈도수 계산을 위해 `doc2bow`를 사용하여 각 리뷰를 단어 빈도수 형태(corpus)로 변환합니다. 이 형태는 단어의 인덱스와 해당 단어의 빈도수를 포함합니다.\n",
        "    \n",
        "    * doc2bow : Gensim 라이브러리에서 제공하는 메서드로, 문서를 Bag-of-Words 형태로 변환하는 역할을 합니다. Bag-of-Words는 텍스트 데이터를 단어의 등장 빈도로 표현한 것으로, 단어의 등장 순서는 고려하지 않습니다.\n",
        "    \n",
        "    - doc2bow 사용 예시\n",
        "        \n",
        "        ```python\n",
        "        from gensim import corpora\n",
        "        \n",
        "        # Dictionary 생성 (단어에 ID 부여)\n",
        "        dictionary = corpora.Dictionary([\n",
        "            ['apple', 'banana', 'cherry'],\n",
        "            ['banana', 'orange', 'kiwi'],\n",
        "            ['apple', 'cherry', 'orange', 'banana']\n",
        "        ])\n",
        "        \n",
        "        # 문서 예시\n",
        "        document = ['apple', 'banana', 'banana', 'cherry']\n",
        "        \n",
        "        # 문서를 Bag-of-Words로 변환\n",
        "        bow_document = dictionary.doc2bow(document)\n",
        "        print(bow_document)\n",
        "        ```\n",
        "        \n",
        "        출력\n",
        "        \n",
        "        ```python\n",
        "        [(0, 1), (1, 2), (2, 1)]\n",
        "        ```\n",
        "        \n",
        "4. LDA 모델 학습:\n",
        "    - `model = gensim.models.ldamodel.LdaModel(...)`: `gensim` 라이브러리를 사용하여 LDA 모델을 생성합니다.\n",
        "    - `corpus`: 앞서 변환한 단어 빈도수 형태(corpus)를 입력 데이터로 사용합니다.\n",
        "    - `num_topics = NUM_TOPICS`: 토픽의 개수를 설정합니다. `NUM_TOPICS`는 미리 정의된 상수(10 하이퍼파라미터 튜닝에서 정의함)로, 토픽의 개수를 나타냅니다.\n",
        "    - `id2word = dictionary`: 앞서 생성한 단어 사전을 사용하여 단어와 단어의 인덱스를 연결합니다.\n",
        "    - `passes = PASSES`: LDA 모델 학습을 위해 데이터를 반복적으로 사용하는 횟수를 나타냅니다. `PASSES`는 미리 정의된 상수(15 하이퍼파라미터 튜닝에서 정의함)로, 학습 반복 횟수를 나타냅니다.\n",
        "5. `return model, corpus, dictionary`: 학습된 LDA 모델(`model`), 단어 빈도수 형태(`corpus`), 그리고 단어 사전(`dictionary`)을 반환합니다."
      ]
    },
    {
      "cell_type": "markdown",
      "metadata": {
        "id": "guRCigmCOlzj"
      },
      "source": [
        "## 3) 토픽별 단어 구성 출력 함수"
      ]
    },
    {
      "cell_type": "code",
      "execution_count": 40,
      "metadata": {
        "id": "_888d2z6M4JV",
        "outputId": "d140aa9b-275f-4a7a-a967-8f00935882a5",
        "colab": {
          "base_uri": "https://localhost:8080/"
        }
      },
      "outputs": [
        {
          "output_type": "stream",
          "name": "stderr",
          "text": [
            "/usr/local/lib/python3.10/dist-packages/ipykernel/ipkernel.py:283: DeprecationWarning: `should_run_async` will not call `transform_cell` automatically in the future. Please pass the result to `transformed_cell` argument and any exception that happen during thetransform in `preprocessing_exc_tuple` in IPython 7.17 and above.\n",
            "  and should_run_async(code)\n"
          ]
        }
      ],
      "source": [
        "import pandas as pd\n",
        "from google.colab import files\n",
        "\n",
        "def print_topic_prop(topics, RATING):\n",
        "    topic_values = [topic[1] for topic in topics]\n",
        "    topic_prop = pd.DataFrame({\"topic_num\": list(range(1, NUM_TOPICS + 1)), \"word_prop\": topic_values})\n",
        "\n",
        "    # Excel 파일로 저장, 본인 경로로 수정 필요\n",
        "    file_path = f'/content/drive/MyDrive/dongguk/topic_prop_{RATING}.xlsx'\n",
        "    topic_prop.to_excel(file_path)\n",
        "\n",
        "    # 파일을 다운로드\n",
        "    files.download(file_path)\n"
      ]
    },
    {
      "cell_type": "markdown",
      "metadata": {
        "id": "8zQWIZj7dx2A"
      },
      "source": [
        "토픽별로 구성된 단어의 비율을 출력하는 함수입니다."
      ]
    },
    {
      "cell_type": "markdown",
      "metadata": {
        "id": "Iz-oIBxad0ew"
      },
      "source": [
        "**코드 분석**\n",
        "\n",
        "1. `def print_topic_prop(topics, RATING):`: `print_topic_prop`이라는 함수를 정의하며, `topics`와 `RATING`이라는 두 개의 매개변수를 받습니다. `topics`는 각 토픽의 단어 분포를 나타내는 정보를 담고 있는 리스트이고, `RATING`은 토픽 분석을 수행한 리뷰의 평가 등급을 나타냅니다.\n",
        "2. `topic_values = []`: 각 토픽의 단어 분포 값을 저장할 빈 리스트 `topic_values`를 생성합니다.\n",
        "3. 토픽별로 단어 분포 값을 `topic_values`에 저장:\n",
        "    - `for topic in topics:`: `topics` 리스트에 있는 각 토픽에 대해 반복합니다.\n",
        "    - `topic_value = topic[1]`: 각 토픽에서 단어 분포 값을 가져와 `topic_value`에 저장합니다.\n",
        "    - `topic_values.append(topic_value)`: `topic_value`를 `topic_values` 리스트에 추가합니다.\n",
        "4. 토픽별 단어 분포를 데이터프레임으로 정리하고 엑셀 파일로 출력:\n",
        "    - `topic_prop = pd.DataFrame(...)`: 토픽 번호와 해당 토픽의 단어 분포 값을 데이터프레임으로 정리합니다.\n",
        "    - `topic_prop.to_excel('./result/topic_prop_' + RATING + '.xlsx')`: 정리한 데이터프레임을 엑셀 파일로 저장합니다. 파일명은 `topic_prop_RATING.xlsx` 형식으로 지정됩니다. `RATING`은 평가 등급을 나타내는 변수입니다.\n",
        "    - `display(topic_prop)`: 정리한 데이터프레임을 화면에 출력합니다."
      ]
    },
    {
      "cell_type": "markdown",
      "metadata": {
        "id": "SA1XQAsIOos6"
      },
      "source": [
        "## 4) 시각화 함수"
      ]
    },
    {
      "cell_type": "code",
      "source": [
        "!pip install pandas==1.5.3"
      ],
      "metadata": {
        "colab": {
          "base_uri": "https://localhost:8080/",
          "height": 460
        },
        "id": "zSpkyv54Xj40",
        "outputId": "b2012bfd-348d-4c9c-ae10-6e31eb429034"
      },
      "execution_count": 53,
      "outputs": [
        {
          "output_type": "stream",
          "name": "stderr",
          "text": [
            "/usr/local/lib/python3.10/dist-packages/ipykernel/ipkernel.py:283: DeprecationWarning: `should_run_async` will not call `transform_cell` automatically in the future. Please pass the result to `transformed_cell` argument and any exception that happen during thetransform in `preprocessing_exc_tuple` in IPython 7.17 and above.\n",
            "  and should_run_async(code)\n"
          ]
        },
        {
          "output_type": "stream",
          "name": "stdout",
          "text": [
            "Collecting pandas==1.5.3\n",
            "  Downloading pandas-1.5.3-cp310-cp310-manylinux_2_17_x86_64.manylinux2014_x86_64.whl (12.1 MB)\n",
            "\u001b[2K     \u001b[90m━━━━━━━━━━━━━━━━━━━━━━━━━━━━━━━━━━━━━━━━\u001b[0m \u001b[32m12.1/12.1 MB\u001b[0m \u001b[31m53.6 MB/s\u001b[0m eta \u001b[36m0:00:00\u001b[0m\n",
            "\u001b[?25hRequirement already satisfied: pytz>=2020.1 in /usr/local/lib/python3.10/site-packages (from pandas==1.5.3) (2023.3.post1)\n",
            "Requirement already satisfied: numpy>=1.21.0 in /usr/local/lib/python3.10/site-packages (from pandas==1.5.3) (1.26.2)\n",
            "Requirement already satisfied: python-dateutil>=2.8.1 in /usr/local/lib/python3.10/site-packages (from pandas==1.5.3) (2.8.2)\n",
            "Requirement already satisfied: six>=1.5 in /usr/local/lib/python3.10/site-packages (from python-dateutil>=2.8.1->pandas==1.5.3) (1.16.0)\n",
            "Installing collected packages: pandas\n",
            "  Attempting uninstall: pandas\n",
            "    Found existing installation: pandas 2.1.3\n",
            "    Uninstalling pandas-2.1.3:\n",
            "      Successfully uninstalled pandas-2.1.3\n",
            "\u001b[31mERROR: pip's dependency resolver does not currently take into account all the packages that are installed. This behaviour is the source of the following dependency conflicts.\n",
            "pyldavis 3.4.1 requires pandas>=2.0.0, but you have pandas 1.5.3 which is incompatible.\u001b[0m\u001b[31m\n",
            "\u001b[0mSuccessfully installed pandas-1.5.3\n",
            "\u001b[33mWARNING: Running pip as the 'root' user can result in broken permissions and conflicting behaviour with the system package manager. It is recommended to use a virtual environment instead: https://pip.pypa.io/warnings/venv\u001b[0m\u001b[33m\n",
            "\u001b[0m"
          ]
        },
        {
          "output_type": "display_data",
          "data": {
            "application/vnd.colab-display-data+json": {
              "pip_warning": {
                "packages": [
                  "pandas"
                ]
              }
            }
          },
          "metadata": {}
        }
      ]
    },
    {
      "cell_type": "code",
      "execution_count": 54,
      "metadata": {
        "id": "UGTRnY8oM5n4",
        "outputId": "7d1257fe-6731-49bb-e2e4-0967d3b48e13",
        "colab": {
          "base_uri": "https://localhost:8080/"
        }
      },
      "outputs": [
        {
          "output_type": "stream",
          "name": "stderr",
          "text": [
            "/usr/local/lib/python3.10/dist-packages/ipykernel/ipkernel.py:283: DeprecationWarning: `should_run_async` will not call `transform_cell` automatically in the future. Please pass the result to `transformed_cell` argument and any exception that happen during thetransform in `preprocessing_exc_tuple` in IPython 7.17 and above.\n",
            "  and should_run_async(code)\n"
          ]
        }
      ],
      "source": [
        "import os\n",
        "import pyLDAvis\n",
        "import pyLDAvis.gensim_models\n",
        "\n",
        "def lda_visualize(model, corpus, dictionary, RATING, result_dir):\n",
        "    pyLDAvis.enable_notebook()\n",
        "    result_visualized = pyLDAvis.gensim_models.prepare(model, corpus, dictionary)\n",
        "    pyLDAvis.display(result_visualized)\n",
        "\n",
        "    # 시각화 결과 저장\n",
        "    RESULT_FILE = os.path.join(result_dir, f'lda_result_{RATING}.html')\n",
        "    pyLDAvis.save_html(result_visualized, RESULT_FILE)\n",
        "\n",
        "    # HTML 파일을 dongguk 폴더로 이동\n",
        "    NEW_RESULT_FILE = os.path.join('/content/drive/MyDrive/dongguk/', f'lda_result_{RATING}.html')\n",
        "    os.rename(RESULT_FILE, NEW_RESULT_FILE)"
      ]
    },
    {
      "cell_type": "markdown",
      "metadata": {
        "id": "OEfwUIhVOqqs"
      },
      "source": [
        "## 5) 긍정적 리뷰 토픽 모델링"
      ]
    },
    {
      "cell_type": "code",
      "execution_count": 55,
      "metadata": {
        "id": "f9eCpd2XM6rw",
        "outputId": "bc6dafc1-8cc5-4a61-cb91-516367dca7aa",
        "colab": {
          "base_uri": "https://localhost:8080/"
        }
      },
      "outputs": [
        {
          "output_type": "stream",
          "name": "stderr",
          "text": [
            "/usr/local/lib/python3.10/dist-packages/ipykernel/ipkernel.py:283: DeprecationWarning: `should_run_async` will not call `transform_cell` automatically in the future. Please pass the result to `transformed_cell` argument and any exception that happen during thetransform in `preprocessing_exc_tuple` in IPython 7.17 and above.\n",
            "  and should_run_async(code)\n"
          ]
        }
      ],
      "source": [
        "model, corpus, dictionary = lda_modeling(review_prep_pos)\n",
        "NUM_WORDS = 10"
      ]
    },
    {
      "cell_type": "code",
      "execution_count": 56,
      "metadata": {
        "colab": {
          "base_uri": "https://localhost:8080/",
          "height": 73
        },
        "id": "XgReMBwYNAc0",
        "outputId": "571da65e-147c-4e01-8ab4-d5e2c80f0709"
      },
      "outputs": [
        {
          "output_type": "stream",
          "name": "stderr",
          "text": [
            "/usr/local/lib/python3.10/dist-packages/ipykernel/ipkernel.py:283: DeprecationWarning: `should_run_async` will not call `transform_cell` automatically in the future. Please pass the result to `transformed_cell` argument and any exception that happen during thetransform in `preprocessing_exc_tuple` in IPython 7.17 and above.\n",
            "  and should_run_async(code)\n"
          ]
        },
        {
          "output_type": "display_data",
          "data": {
            "text/plain": [
              "<IPython.core.display.Javascript object>"
            ],
            "application/javascript": [
              "\n",
              "    async function download(id, filename, size) {\n",
              "      if (!google.colab.kernel.accessAllowed) {\n",
              "        return;\n",
              "      }\n",
              "      const div = document.createElement('div');\n",
              "      const label = document.createElement('label');\n",
              "      label.textContent = `Downloading \"${filename}\": `;\n",
              "      div.appendChild(label);\n",
              "      const progress = document.createElement('progress');\n",
              "      progress.max = size;\n",
              "      div.appendChild(progress);\n",
              "      document.body.appendChild(div);\n",
              "\n",
              "      const buffers = [];\n",
              "      let downloaded = 0;\n",
              "\n",
              "      const channel = await google.colab.kernel.comms.open(id);\n",
              "      // Send a message to notify the kernel that we're ready.\n",
              "      channel.send({})\n",
              "\n",
              "      for await (const message of channel.messages) {\n",
              "        // Send a message to notify the kernel that we're ready.\n",
              "        channel.send({})\n",
              "        if (message.buffers) {\n",
              "          for (const buffer of message.buffers) {\n",
              "            buffers.push(buffer);\n",
              "            downloaded += buffer.byteLength;\n",
              "            progress.value = downloaded;\n",
              "          }\n",
              "        }\n",
              "      }\n",
              "      const blob = new Blob(buffers, {type: 'application/binary'});\n",
              "      const a = document.createElement('a');\n",
              "      a.href = window.URL.createObjectURL(blob);\n",
              "      a.download = filename;\n",
              "      div.appendChild(a);\n",
              "      a.click();\n",
              "      div.remove();\n",
              "    }\n",
              "  "
            ]
          },
          "metadata": {}
        },
        {
          "output_type": "display_data",
          "data": {
            "text/plain": [
              "<IPython.core.display.Javascript object>"
            ],
            "application/javascript": [
              "download(\"download_0fd474e8-8d6d-4f96-a335-f4f054dbbe0b\", \"topic_prop_pos.xlsx\", 5793)"
            ]
          },
          "metadata": {}
        }
      ],
      "source": [
        "RATING = 'pos'\n",
        "topics = model.print_topics(num_words = NUM_WORDS)\n",
        "print_topic_prop(topics, RATING)"
      ]
    },
    {
      "cell_type": "code",
      "execution_count": 57,
      "metadata": {
        "id": "6aDwr-Y_NCXt",
        "outputId": "e20412d1-ed2e-47ee-ba21-d2f0d2584220",
        "colab": {
          "base_uri": "https://localhost:8080/"
        }
      },
      "outputs": [
        {
          "output_type": "stream",
          "name": "stderr",
          "text": [
            "/usr/local/lib/python3.10/dist-packages/ipykernel/ipkernel.py:283: DeprecationWarning: `should_run_async` will not call `transform_cell` automatically in the future. Please pass the result to `transformed_cell` argument and any exception that happen during thetransform in `preprocessing_exc_tuple` in IPython 7.17 and above.\n",
            "  and should_run_async(code)\n"
          ]
        }
      ],
      "source": [
        "lda_visualize(model, corpus, dictionary, RATING, '/content/drive/MyDrive/dongguk/')\n",
        "# 마지막 요소 본인 경로로 수정 필요"
      ]
    },
    {
      "cell_type": "markdown",
      "metadata": {
        "id": "Zn8OgvgFOtq7"
      },
      "source": [
        "## 6) 부정적 리뷰 토픽 모델링"
      ]
    },
    {
      "cell_type": "code",
      "execution_count": 58,
      "metadata": {
        "id": "ZwOQJ_zpND3h",
        "outputId": "dda84615-deb7-4a43-e3f4-565df98211f2",
        "colab": {
          "base_uri": "https://localhost:8080/"
        }
      },
      "outputs": [
        {
          "output_type": "stream",
          "name": "stderr",
          "text": [
            "/usr/local/lib/python3.10/dist-packages/ipykernel/ipkernel.py:283: DeprecationWarning: `should_run_async` will not call `transform_cell` automatically in the future. Please pass the result to `transformed_cell` argument and any exception that happen during thetransform in `preprocessing_exc_tuple` in IPython 7.17 and above.\n",
            "  and should_run_async(code)\n"
          ]
        }
      ],
      "source": [
        "model, corpus, dictionary = lda_modeling(review_prep_neg)\n",
        "NUM_WORDS = 10"
      ]
    },
    {
      "cell_type": "code",
      "execution_count": 59,
      "metadata": {
        "colab": {
          "base_uri": "https://localhost:8080/",
          "height": 73
        },
        "id": "nNc2bAPINFJT",
        "outputId": "e1ad24f7-a4af-4373-a8b0-609a9912f7fa"
      },
      "outputs": [
        {
          "output_type": "stream",
          "name": "stderr",
          "text": [
            "/usr/local/lib/python3.10/dist-packages/ipykernel/ipkernel.py:283: DeprecationWarning: `should_run_async` will not call `transform_cell` automatically in the future. Please pass the result to `transformed_cell` argument and any exception that happen during thetransform in `preprocessing_exc_tuple` in IPython 7.17 and above.\n",
            "  and should_run_async(code)\n"
          ]
        },
        {
          "output_type": "display_data",
          "data": {
            "text/plain": [
              "<IPython.core.display.Javascript object>"
            ],
            "application/javascript": [
              "\n",
              "    async function download(id, filename, size) {\n",
              "      if (!google.colab.kernel.accessAllowed) {\n",
              "        return;\n",
              "      }\n",
              "      const div = document.createElement('div');\n",
              "      const label = document.createElement('label');\n",
              "      label.textContent = `Downloading \"${filename}\": `;\n",
              "      div.appendChild(label);\n",
              "      const progress = document.createElement('progress');\n",
              "      progress.max = size;\n",
              "      div.appendChild(progress);\n",
              "      document.body.appendChild(div);\n",
              "\n",
              "      const buffers = [];\n",
              "      let downloaded = 0;\n",
              "\n",
              "      const channel = await google.colab.kernel.comms.open(id);\n",
              "      // Send a message to notify the kernel that we're ready.\n",
              "      channel.send({})\n",
              "\n",
              "      for await (const message of channel.messages) {\n",
              "        // Send a message to notify the kernel that we're ready.\n",
              "        channel.send({})\n",
              "        if (message.buffers) {\n",
              "          for (const buffer of message.buffers) {\n",
              "            buffers.push(buffer);\n",
              "            downloaded += buffer.byteLength;\n",
              "            progress.value = downloaded;\n",
              "          }\n",
              "        }\n",
              "      }\n",
              "      const blob = new Blob(buffers, {type: 'application/binary'});\n",
              "      const a = document.createElement('a');\n",
              "      a.href = window.URL.createObjectURL(blob);\n",
              "      a.download = filename;\n",
              "      div.appendChild(a);\n",
              "      a.click();\n",
              "      div.remove();\n",
              "    }\n",
              "  "
            ]
          },
          "metadata": {}
        },
        {
          "output_type": "display_data",
          "data": {
            "text/plain": [
              "<IPython.core.display.Javascript object>"
            ],
            "application/javascript": [
              "download(\"download_64511382-c3de-4c4e-a092-ec5aa53d1174\", \"topic_prop_neg.xlsx\", 5808)"
            ]
          },
          "metadata": {}
        }
      ],
      "source": [
        "RATING = 'neg'\n",
        "topics = model.print_topics(num_words = NUM_WORDS)\n",
        "print_topic_prop(topics, RATING)"
      ]
    },
    {
      "cell_type": "code",
      "execution_count": 60,
      "metadata": {
        "id": "ZVL6H-cgNGT3",
        "outputId": "0c2358e6-93f2-4598-9f40-8be13ca30ddc",
        "colab": {
          "base_uri": "https://localhost:8080/"
        }
      },
      "outputs": [
        {
          "output_type": "stream",
          "name": "stderr",
          "text": [
            "/usr/local/lib/python3.10/dist-packages/ipykernel/ipkernel.py:283: DeprecationWarning: `should_run_async` will not call `transform_cell` automatically in the future. Please pass the result to `transformed_cell` argument and any exception that happen during thetransform in `preprocessing_exc_tuple` in IPython 7.17 and above.\n",
            "  and should_run_async(code)\n"
          ]
        }
      ],
      "source": [
        "lda_visualize(model, corpus, dictionary, RATING,'/content/drive/MyDrive/dongguk/')\n",
        "# 마지막 요소 본인 경로로 수정 필요"
      ]
    }
  ],
  "metadata": {
    "colab": {
      "provenance": [],
      "mount_file_id": "https://gist.github.com/hooooooni/ff66e5a23f7b2ca1a33c97ef92258767#file-okt_colab_crawling-ipynb",
      "authorship_tag": "ABX9TyOpyegp7ql8EuwwRbmuhMZV",
      "include_colab_link": true
    },
    "kernelspec": {
      "display_name": "Python 3",
      "name": "python3"
    },
    "language_info": {
      "name": "python"
    }
  },
  "nbformat": 4,
  "nbformat_minor": 0
}