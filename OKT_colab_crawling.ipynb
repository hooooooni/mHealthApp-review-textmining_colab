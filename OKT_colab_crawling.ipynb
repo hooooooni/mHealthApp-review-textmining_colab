{
  "nbformat": 4,
  "nbformat_minor": 0,
  "metadata": {
    "colab": {
      "provenance": [],
      "toc_visible": true,
      "mount_file_id": "1ZBdoCsiro2RJECxaEYpez5N5G1AOig07",
      "authorship_tag": "ABX9TyPfFtIGlkFzrPwAw/Uk2A4I",
      "include_colab_link": true
    },
    "kernelspec": {
      "name": "python3",
      "display_name": "Python 3"
    },
    "language_info": {
      "name": "python"
    }
  },
  "cells": [
    {
      "cell_type": "markdown",
      "metadata": {
        "id": "view-in-github",
        "colab_type": "text"
      },
      "source": [
        "<a href=\"https://colab.research.google.com/github/hooooooni/mHealthApp-review-textmining_colab/blob/main/OKT_colab_crawling.ipynb\" target=\"_parent\"><img src=\"https://colab.research.google.com/assets/colab-badge.svg\" alt=\"Open In Colab\"/></a>"
      ]
    },
    {
      "cell_type": "markdown",
      "source": [
        "# 1. 가상환경 세팅 및 웹크롤링"
      ],
      "metadata": {
        "id": "5WrUbtiSNH42"
      }
    },
    {
      "cell_type": "markdown",
      "source": [
        "구글 코랩에서 기본적으로 제공하고 있는 패키지의 버전들은 해당 프로젝트를 import 하는 데에 있어 적합하지 않아 코랩에서 제공하는 Conda 가상환경을 구축해야 합니다."
      ],
      "metadata": {
        "id": "S517A_McfGd0"
      }
    },
    {
      "cell_type": "markdown",
      "source": [
        "## 1) Colab 가상환경 구축"
      ],
      "metadata": {
        "id": "CzzJ2wOmNduO"
      }
    },
    {
      "cell_type": "code",
      "source": [
        "!pip install -q condacolab\n",
        "import condacolab\n",
        "condacolab.install()"
      ],
      "metadata": {
        "colab": {
          "base_uri": "https://localhost:8080/"
        },
        "id": "zG47MFvGja7P",
        "outputId": "e4f70d09-eef6-43dd-d175-a5b9113650bc"
      },
      "execution_count": 85,
      "outputs": [
        {
          "output_type": "stream",
          "name": "stdout",
          "text": [
            "\u001b[33mWARNING: Running pip as the 'root' user can result in broken permissions and conflicting behaviour with the system package manager. It is recommended to use a virtual environment instead: https://pip.pypa.io/warnings/venv\u001b[0m\u001b[33m\n",
            "\u001b[0m✨🍰✨ Everything looks OK!\n"
          ]
        }
      ]
    },
    {
      "cell_type": "markdown",
      "source": [
        "## 2) 웹 크롤링"
      ],
      "metadata": {
        "id": "binQtmqRxgmG"
      }
    },
    {
      "cell_type": "code",
      "source": [
        "!pip install -qq google-play-scraper"
      ],
      "metadata": {
        "colab": {
          "base_uri": "https://localhost:8080/"
        },
        "id": "pDsnqW0CvKp6",
        "outputId": "65f191bf-b6fb-4103-f2b9-c941f5c81359"
      },
      "execution_count": 86,
      "outputs": [
        {
          "output_type": "stream",
          "name": "stdout",
          "text": [
            "\u001b[33mWARNING: Running pip as the 'root' user can result in broken permissions and conflicting behaviour with the system package manager. It is recommended to use a virtual environment instead: https://pip.pypa.io/warnings/venv\u001b[0m\u001b[33m\n",
            "\u001b[0m"
          ]
        }
      ]
    },
    {
      "cell_type": "markdown",
      "source": [
        "google-play-scraper는 구글 플레이 스토어 (Google Play Store)에서 앱 정보를 스크래핑하고\n",
        "\n",
        "수집하기 위한 도구를 제공하는 Python 패키지입니다."
      ],
      "metadata": {
        "id": "I8OvjeEixlCL"
      }
    },
    {
      "cell_type": "code",
      "source": [
        "!pip install -qq -U watermark"
      ],
      "metadata": {
        "colab": {
          "base_uri": "https://localhost:8080/"
        },
        "id": "alQOJKEzuwqH",
        "outputId": "52ad2a24-cf76-4a9c-83d6-f91aed82088d"
      },
      "execution_count": 87,
      "outputs": [
        {
          "output_type": "stream",
          "name": "stdout",
          "text": [
            "\u001b[33mWARNING: Running pip as the 'root' user can result in broken permissions and conflicting behaviour with the system package manager. It is recommended to use a virtual environment instead: https://pip.pypa.io/warnings/venv\u001b[0m\u001b[33m\n",
            "\u001b[0m"
          ]
        }
      ]
    },
    {
      "cell_type": "code",
      "source": [
        "%reload_ext watermark\n",
        "%watermark -v -p pandas,matplotlib,seaborn,google_play_scraper"
      ],
      "metadata": {
        "colab": {
          "base_uri": "https://localhost:8080/"
        },
        "id": "UDjVRQ5_uxuV",
        "outputId": "33d53b8f-82a5-4abb-ed46-6ff9fa37cc83"
      },
      "execution_count": 88,
      "outputs": [
        {
          "output_type": "stream",
          "name": "stdout",
          "text": [
            "Python implementation: CPython\n",
            "Python version       : 3.10.12\n",
            "IPython version      : 7.34.0\n",
            "\n",
            "pandas             : 2.1.3\n",
            "matplotlib         : 3.7.1\n",
            "seaborn            : 0.12.2\n",
            "google_play_scraper: 1.2.4\n",
            "\n"
          ]
        }
      ]
    },
    {
      "cell_type": "code",
      "source": [
        "import json\n",
        "import pandas as pd\n",
        "from tqdm import tqdm\n",
        "\n",
        "import seaborn as sns\n",
        "import matplotlib.pyplot as plt\n",
        "\n",
        "from pygments import highlight\n",
        "from pygments.lexers import JsonLexer\n",
        "from pygments.formatters import TerminalFormatter\n",
        "\n",
        "from google_play_scraper import Sort, reviews, app\n",
        "\n",
        "%matplotlib inline\n",
        "%config InlineBackend.figure_format='retina'\n",
        "\n",
        "sns.set(style='whitegrid', palette='muted', font_scale=1.2)"
      ],
      "metadata": {
        "id": "X3vCZNzbuyxi"
      },
      "execution_count": 89,
      "outputs": []
    },
    {
      "cell_type": "markdown",
      "source": [
        "- json: JSON 데이터 처리를 위한 파이썬 표준 라이브러리.\n",
        "- pandas: 데이터 프레임을 다루기 위한 라이브러리.\n",
        "- tqdm: 진행 상황을 시각적으로 표시해주는 라이브러리.\n",
        "- seaborn: Matplotlib을 기반으로한 통계용 그래픽 라이브러리로, 시각화를 보다 멋지게 표현할 수 있도록 도와줌.\n",
        "- matplotlib.pyplot: 데이터 시각화를 위한 라이브러리.\n",
        "- pygments: 코드 문법 강조를 위한 라이브러리.\n",
        "\n",
        "<br><br>\n",
        "\n",
        "- `google_play_scraper`: Google Play 스토어에서 앱 정보 및 리뷰를 가져오기 위한 라이브러리\n",
        "- `%matplotlib inline`: Jupyter Notebook에서 그래픽 출력을 활성화.\n",
        "- `%config InlineBackend.figure_format='retina'`: 그래픽 출력 설정을 'retina'로 지정하여 고해상도 그래픽 출력을 활성화.\n",
        "- `sns.set()`: Seaborn 라이브러리의 스타일, 팔레트, 글꼴 크기 등을 초기화하여 설정."
      ],
      "metadata": {
        "id": "FUiBJZvYxoJ_"
      }
    },
    {
      "cell_type": "code",
      "source": [
        "from google_play_scraper import app\n",
        "\n",
        "app_packages = ['com.instagram.android']\n",
        "\n",
        "app_infos = []\n",
        "\n",
        "for app_package in tqdm(app_packages):\n",
        "    info = app(\n",
        "        app_package,\n",
        "        lang='ko',  # 언어 코드를 'ko'로 설정\n",
        "        country='KR',  # 국가 코드를 'KR'로 설정\n",
        "    )\n",
        "    del info['comments']\n",
        "    app_infos.append(info)"
      ],
      "metadata": {
        "colab": {
          "base_uri": "https://localhost:8080/"
        },
        "id": "30AdP5abu0j4",
        "outputId": "44769b22-e9ba-4433-88f7-965059b5a2b3"
      },
      "execution_count": 90,
      "outputs": [
        {
          "output_type": "stream",
          "name": "stderr",
          "text": [
            "100%|██████████| 1/1 [00:00<00:00,  2.20it/s]\n"
          ]
        }
      ]
    },
    {
      "cell_type": "markdown",
      "source": [
        "-> 리뷰 정보를 제외한 앱 정보를 리스트에 추가합니다. (인스타그램을 크롤링 해보겠습니다.)<br>\n",
        "lang 매개변수는 언어를 나타내며, 여기서는 한국어로 설정되어 있습니다. country 매개변수는 국가를 나타내며, 여기서는 한국으로 설정되어 있습니다."
      ],
      "metadata": {
        "id": "QbD7y0-9xq6O"
      }
    },
    {
      "cell_type": "code",
      "source": [
        "def print_json(json_object):\n",
        "  json_str = json.dumps(\n",
        "    json_object,\n",
        "    indent=2,\n",
        "    sort_keys=True,\n",
        "    default=str\n",
        "  )\n",
        "  print(highlight(json_str, JsonLexer(), TerminalFormatter()))"
      ],
      "metadata": {
        "id": "WWOUN0yEu2AD"
      },
      "execution_count": 91,
      "outputs": []
    },
    {
      "cell_type": "markdown",
      "source": [
        "print_json이라는 이름의 함수를 정의합니다. 이 함수는 JSON 객체를 인자로 받아서 읽기 좋게 출력하는 역할을 합니다."
      ],
      "metadata": {
        "id": "78nVZgptxvfQ"
      }
    },
    {
      "cell_type": "markdown",
      "source": [
        "json.dumps 함수를 사용하여 JSON 객체를 문자열로 변환합니다. <br>\n",
        "\n",
        "- json_object: 변환할 JSON 객체를 나타냅니다.\n",
        "- indent=2: 들여쓰기를 2칸으로 설정하여 출력 형식을 보기 좋게 만듭니다.\n",
        "- sort_keys=True: 키를 알파벳 순서로 정렬하여 출력합니다.\n",
        "- default=str: 기본적으로는 JSON 인코딩 중에 발생하는 TypeError를 방지하기 위해 사용되며, str 함수를 사용하여 객체를 문자열로 변환합니다."
      ],
      "metadata": {
        "id": "C0PYkB7extJu"
      }
    },
    {
      "cell_type": "code",
      "source": [
        "print_json(app_infos[0])"
      ],
      "metadata": {
        "colab": {
          "base_uri": "https://localhost:8080/"
        },
        "id": "Fj5mehZau3cQ",
        "outputId": "062cda82-5ea0-4717-88ce-1a87ddb946ec"
      },
      "execution_count": 92,
      "outputs": [
        {
          "output_type": "stream",
          "name": "stdout",
          "text": [
            "{\u001b[37m\u001b[39;49;00m\n",
            "\u001b[37m  \u001b[39;49;00m\u001b[94m\"adSupported\"\u001b[39;49;00m:\u001b[37m \u001b[39;49;00m\u001b[34mtrue\u001b[39;49;00m,\u001b[37m\u001b[39;49;00m\n",
            "\u001b[37m  \u001b[39;49;00m\u001b[94m\"appId\"\u001b[39;49;00m:\u001b[37m \u001b[39;49;00m\u001b[33m\"com.instagram.android\"\u001b[39;49;00m,\u001b[37m\u001b[39;49;00m\n",
            "\u001b[37m  \u001b[39;49;00m\u001b[94m\"categories\"\u001b[39;49;00m:\u001b[37m \u001b[39;49;00m[\u001b[37m\u001b[39;49;00m\n",
            "\u001b[37m    \u001b[39;49;00m{\u001b[37m\u001b[39;49;00m\n",
            "\u001b[37m      \u001b[39;49;00m\u001b[94m\"id\"\u001b[39;49;00m:\u001b[37m \u001b[39;49;00m\u001b[33m\"SOCIAL\"\u001b[39;49;00m,\u001b[37m\u001b[39;49;00m\n",
            "\u001b[37m      \u001b[39;49;00m\u001b[94m\"name\"\u001b[39;49;00m:\u001b[37m \u001b[39;49;00m\u001b[33m\"\\uc18c\\uc15c\"\u001b[39;49;00m\u001b[37m\u001b[39;49;00m\n",
            "\u001b[37m    \u001b[39;49;00m}\u001b[37m\u001b[39;49;00m\n",
            "\u001b[37m  \u001b[39;49;00m],\u001b[37m\u001b[39;49;00m\n",
            "\u001b[37m  \u001b[39;49;00m\u001b[94m\"containsAds\"\u001b[39;49;00m:\u001b[37m \u001b[39;49;00m\u001b[34mtrue\u001b[39;49;00m,\u001b[37m\u001b[39;49;00m\n",
            "\u001b[37m  \u001b[39;49;00m\u001b[94m\"contentRating\"\u001b[39;49;00m:\u001b[37m \u001b[39;49;00m\u001b[33m\"12\\uc138 \\uc774\\uc0c1\"\u001b[39;49;00m,\u001b[37m\u001b[39;49;00m\n",
            "\u001b[37m  \u001b[39;49;00m\u001b[94m\"contentRatingDescription\"\u001b[39;49;00m:\u001b[37m \u001b[39;49;00m\u001b[33m\"\\ubcf4\\ud638\\uc790 \\ub3d9\\ubc18 \\uad8c\\uc7a5\"\u001b[39;49;00m,\u001b[37m\u001b[39;49;00m\n",
            "\u001b[37m  \u001b[39;49;00m\u001b[94m\"currency\"\u001b[39;49;00m:\u001b[37m \u001b[39;49;00m\u001b[33m\"KRW\"\u001b[39;49;00m,\u001b[37m\u001b[39;49;00m\n",
            "\u001b[37m  \u001b[39;49;00m\u001b[94m\"description\"\u001b[39;49;00m:\u001b[37m \u001b[39;49;00m\u001b[33m\"\\uc18c\\uc911\\ud55c \\uc0ac\\ub78c\\ub4e4\\uacfc \\ucf58\\ud150\\uce20\\uc5d0 \\ub354\\uc6b1 \\uac00\\uae4c\\uc774 \\ub2e4\\uac00\\uac08 \\uc218 \\uc788\\ub294 \\uacf5\\uac04 - Instagram from Facebook\\r\\n\\r\\n\\uce5c\\uad6c\\ub4e4\\uacfc \\uc18c\\ud1b5\\ud558\\uace0 \\uc18c\\uc2dd\\uc744 \\uacf5\\uc720\\ud558\\uac70\\ub098 \\uc804 \\uc138\\uacc4\\uc5d0 \\uc788\\ub294 \\ub2e4\\ub978 \\uc0ac\\ub78c\\ub4e4\\uc758 \\uc0c8\\ub85c\\uc6b4 \\ucf58\\ud150\\uce20\\ub97c \\ud655\\uc778\\ud558\\uc138\\uc694. \\uc790\\uc720\\ub86d\\uac8c \\uac1c\\uc131\\uc744 \\ub4dc\\ub7ec\\ub0b4\\uace0 \\uc77c\\uc0c1\\uc801\\uc778 \\uc21c\\uac04\\ubd80\\ud130 \\uc0b6\\uc758 \\ud2b9\\ubcc4\\ud55c \\uc21c\\uac04\\uae4c\\uc9c0 \\ubaa8\\ub4e0 \\uc18c\\uc2dd\\uc744 \\uacf5\\uc720\\ud560 \\uc218 \\uc788\\ub294 \\ucee4\\ubba4\\ub2c8\\ud2f0\\ub3c4 \\ub458\\ub7ec\\ubcf4\\uc138\\uc694.\\r\\n\\r\\n\\uc790\\uc720\\ub86d\\uac8c \\ud45c\\ud604\\ud558\\uace0 \\uce5c\\uad6c\\ub4e4\\uacfc \\uc18c\\ud1b5\\ud558\\uae30\\r\\n\\r\\n* 24\\uc2dc\\uac04 \\ud6c4\\uc5d0 \\uc0ac\\ub77c\\uc9c0\\ub294 \\uc2a4\\ud1a0\\ub9ac\\uc5d0 \\uc0ac\\uc9c4\\uacfc \\ub3d9\\uc601\\uc0c1\\uc744 \\ucd94\\uac00\\ud558\\uace0, \\uc7ac\\ubbf8\\uc788\\ub294 \\ud06c\\ub9ac\\uc5d0\\uc774\\ud2f0\\ube0c \\ub3c4\\uad6c\\ub85c \\uc2a4\\ud1a0\\ub9ac\\uc5d0 \\uc0dd\\ub3d9\\uac10\\uc744 \\ub354\\ud574\\ubcf4\\uc138\\uc694.\\r\\n* \\uce5c\\uad6c\\uc5d0\\uac8c Direct \\uba54\\uc2dc\\uc9c0\\ub97c \\ubcf4\\ub0b4\\ubcf4\\uc138\\uc694. \\ud53c\\ub4dc\\uc640 \\uc2a4\\ud1a0\\ub9ac\\uc5d0\\uc11c \\ubcf8 \\ucf58\\ud150\\uce20\\uc5d0 \\uad00\\ud574 \\uc990\\uac81\\uac8c \\ub300\\ud654\\ud560 \\uc218 \\uc788\\uc2b5\\ub2c8\\ub2e4.\\r\\n* \\ud504\\ub85c\\ud544\\uc5d0 \\ud45c\\uc2dc\\ud558\\uace0 \\uc2f6\\uc740 \\uc0ac\\uc9c4\\uacfc \\ub3d9\\uc601\\uc0c1\\uc744 \\ud53c\\ub4dc\\uc5d0 \\uac8c\\uc2dc\\ud574\\ubcf4\\uc138\\uc694.\\r\\n\\r\\n\\uad00\\uc2ec\\uc0ac\\uc5d0 \\ub300\\ud574 \\ub354 \\uc54c\\uc544\\ubcf4\\uae30\\r\\n\\r\\n* IGTV\\uc5d0\\uc11c \\uc88b\\uc544\\ud558\\ub294 \\ud06c\\ub9ac\\uc5d0\\uc774\\ud130\\uac00 \\uc62c\\ub9b0 \\ub354 \\uae34 \\ub3d9\\uc601\\uc0c1\\uc744 \\ud655\\uc778\\ud574\\ubcf4\\uc138\\uc694.\\r\\n* \\ub458\\ub7ec\\ubcf4\\uae30\\uc5d0\\uc11c \\uc0c8\\ub85c\\uc6b4 \\uacc4\\uc815\\uc758 \\uc0ac\\uc9c4\\uacfc \\ub3d9\\uc601\\uc0c1\\uc73c\\ub85c\\ubd80\\ud130 \\uc544\\uc774\\ub514\\uc5b4\\ub97c \\uc5bb\\uc5b4\\ubcf4\\uc138\\uc694.\\r\\n* \\ub2e4\\uc591\\ud55c \\ube0c\\ub79c\\ub4dc\\uc640 \\uc18c\\uaddc\\ubaa8 \\ube44\\uc988\\ub2c8\\uc2a4\\ub97c \\ubc1c\\uacac\\ud558\\uace0 \\uad00\\uc2ec \\uc788\\ub294 \\uc81c\\ud488\\uc744 \\uad6c\\ub9e4\\ud574\\ubcf4\\uc138\\uc694.\\r\\n\\r\\n**\\uae30\\uae30 \\uad8c\\ud55c**\\r\\nAndroid \\uc6b4\\uc601 \\uccb4\\uc81c\\ub294 \\uc571\\uc5d0\\uc11c \\ud2b9\\uc815 \\uae30\\ub2a5\\uc774\\ub098 \\ub370\\uc774\\ud130\\uc5d0 \\uc5d1\\uc138\\uc2a4\\ud558\\uae30 \\uc704\\ud574 \\uad8c\\ud55c \\uc2dc\\uc2a4\\ud15c\\uc744 \\uc774\\uc6a9\\ud569\\ub2c8\\ub2e4. \\ucc98\\uc74c\\uc73c\\ub85c \\uc571\\uc5d0 \\ub2e4\\uc74c \\uad8c\\ud55c \\uc911 \\ud558\\ub098\\uac00 \\ud544\\uc694\\ud574\\uc9c8 \\ub54c, \\uad8c\\ud55c \\ud5c8\\uc6a9\\uc744 \\uc704\\ud55c \\uba54\\uc2dc\\uc9c0\\uac00 \\ud45c\\uc2dc\\ub429\\ub2c8\\ub2e4.\\r\\nInstagram \\uc571\\uc5d0\\uc11c \\uc774\\uc6a9\\ud558\\ub294 \\uad8c\\ud55c\\uc5d0 \\ub300\\ud55c \\uc774\\ud574\\ub97c \\ub3d5\\uace0\\uc790, \\ub2e4\\uc74c\\uacfc \\uac19\\uc774 \\uc694\\uccad\\ub418\\ub294 \\uad8c\\ud55c \\ubc0f \\uac01 \\uad8c\\ud55c\\uc774 \\uc694\\uccad\\ub418\\ub294 \\uc8fc\\uc694 \\uc774\\uc720\\ub97c \\uc54c\\ub824\\ub4dc\\ub9bd\\ub2c8\\ub2e4. \\ub2e4\\uc74c \\uad8c\\ud55c\\uc740 \\ubaa8\\ub450 \\uc120\\ud0dd \\uac00\\ub2a5\\ud55c \\uc635\\uc158 \\ud56d\\ubaa9\\uc785\\ub2c8\\ub2e4. \\uc989, \\uac01 \\uad8c\\ud55c\\uc744 \\ud5c8\\uc6a9\\ud558\\uc9c0 \\uc54a\\ub294 \\uacbd\\uc6b0 \\ud2b9\\uc815 \\uae30\\ub2a5\\uc774 \\ub3d9\\uc791\\ud558\\uc9c0 \\uc54a\\uc744 \\uc218 \\uc788\\uc9c0\\ub9cc Instagram \\uc571 \\uc790\\uccb4\\ub294 \\uacc4\\uc18d \\uc774\\uc6a9\\ud558\\uc2e4 \\uc218 \\uc788\\uc2b5\\ub2c8\\ub2e4.\\r\\n\\uc5f0\\ub77d\\ucc98: \\uce5c\\uad6c\\ub4e4\\uacfc \\uc5f0\\uacb0\\ud558\\uae30 \\uc704\\ud574 Instagram\\uc5d0\\uc11c \\uc5f0\\ub77d\\ucc98 \\uc815\\ubcf4\\uc5d0 \\uc561\\uc138\\uc2a4\\ud558\\ub3c4\\ub85d \\ud5c8\\uc6a9\\ud558\\ub294 \\uad8c\\ud55c\\uc785\\ub2c8\\ub2e4.\\r\\n\\uc704\\uce58 \\uc815\\ubcf4: \\uc6d0\\ud558\\ub294 \\uc7a5\\uc18c\\ub97c \\ucc3e\\uace0, \\uc6d0\\ud558\\ub294 \\uacbd\\uc6b0 \\ud604\\uc7ac \\uc704\\uce58\\uc640 \\uad00\\ub828\\ub41c \\uc815\\ubcf4\\ub97c \\ubcfc \\ub54c \\ud544\\uc694\\ud55c \\uad8c\\ud55c\\uc785\\ub2c8\\ub2e4.\\r\\n\\uc800\\uc7a5\\uacf5\\uac04: Instagram\\uc5d0 \\uc0ac\\uc9c4\\uacfc \\ub3d9\\uc601\\uc0c1\\uc744 \\uc5c5\\ub85c\\ub4dc\\ud558\\uace0 \\uce74\\uba54\\ub77c \\ub864\\uc5d0 \\uc0ac\\uc9c4\\uacfc \\ub3d9\\uc601\\uc0c1\\uc744 \\uc800\\uc7a5\\ud560 \\ub54c \\ud544\\uc694\\ud55c \\uad8c\\ud55c\\uc785\\ub2c8\\ub2e4.\\r\\n\\uce74\\uba54\\ub77c: \\uc0ac\\uc9c4\\uacfc \\ub3d9\\uc601\\uc0c1\\uc744 \\ucc0d\\uc744 \\ub54c \\ud544\\uc694\\ud55c \\uad8c\\ud55c\\uc785\\ub2c8\\ub2e4.\\r\\n\\ub9c8\\uc774\\ud06c: \\ub3d9\\uc601\\uc0c1 \\ub179\\ud654 \\uc2dc \\uc18c\\ub9ac\\ub97c \\ud568\\uaed8 \\ub179\\uc74c\\ud558\\ub294 \\ub370 \\ud544\\uc694\\ud55c \\uad8c\\ud55c\\uc785\\ub2c8\\ub2e4.\\r\\n\\uc804\\ud654: \\uacc4\\uc815 \\uc561\\uc138\\uc2a4\\ub97c \\uc704\\ud574 \\uc804\\ud654 \\uc0c1\\ud0dc\\ub97c \\uc77d\\uace0 \\uc2dd\\ubcc4\\ud558\\uae30 \\uc704\\ud574 \\ud544\\uc694\\ud55c \\uad8c\\ud55c\\uc785\\ub2c8\\ub2e4.\\r\\n \\r\\n**\\ucc38\\uace0**: \\uc774\\ub7ec\\ud55c \\uad8c\\ud55c\\uc744 \\uac01\\uac01 \\uc124\\uc815\\ud558\\ub294 \\uae30\\ub2a5\\uc740 Android 6.0 \\uc774\\ud6c4 \\ubc84\\uc804\\ubd80\\ud130 \\uac00\\ub2a5\\ud569\\ub2c8\\ub2e4. Android 6.0 \\uc774\\uc804 \\ubc84\\uc804\\uc744 \\uc774\\uc6a9\\ud558\\ub294 \\uacbd\\uc6b0, \\uc571 \\uad8c\\ud55c\\uc744 \\uad6c\\uc131\\ud558\\ub824\\uba74 \\uc18c\\ud504\\ud2b8\\uc6e8\\uc5b4\\ub97c \\uc5c5\\ub370\\uc774\\ud2b8\\ud574\\uc57c \\ud569\\ub2c8\\ub2e4. \\uc18c\\ud504\\ud2b8\\uc6e8\\uc5b4 \\uc5c5\\ub370\\uc774\\ud2b8\\ub97c \\ub9c8\\uce5c \\ud6c4 \\uae30\\uae30 \\uc124\\uc815\\uc5d0\\uc11c \\uae30\\uc874\\uc5d0 \\ud5c8\\uc6a9\\ud588\\ub358 \\uad8c\\ud55c\\uc744 \\uc218\\uc815\\ud560 \\uc218 \\uc788\\uc2b5\\ub2c8\\ub2e4.\"\u001b[39;49;00m,\u001b[37m\u001b[39;49;00m\n",
            "\u001b[37m  \u001b[39;49;00m\u001b[94m\"descriptionHTML\"\u001b[39;49;00m:\u001b[37m \u001b[39;49;00m\u001b[33m\"\\uc18c\\uc911\\ud55c \\uc0ac\\ub78c\\ub4e4\\uacfc \\ucf58\\ud150\\uce20\\uc5d0 \\ub354\\uc6b1 \\uac00\\uae4c\\uc774 \\ub2e4\\uac00\\uac08 \\uc218 \\uc788\\ub294 \\uacf5\\uac04 - Instagram from Facebook<br><br>\\uce5c\\uad6c\\ub4e4\\uacfc \\uc18c\\ud1b5\\ud558\\uace0 \\uc18c\\uc2dd\\uc744 \\uacf5\\uc720\\ud558\\uac70\\ub098 \\uc804 \\uc138\\uacc4\\uc5d0 \\uc788\\ub294 \\ub2e4\\ub978 \\uc0ac\\ub78c\\ub4e4\\uc758 \\uc0c8\\ub85c\\uc6b4 \\ucf58\\ud150\\uce20\\ub97c \\ud655\\uc778\\ud558\\uc138\\uc694. \\uc790\\uc720\\ub86d\\uac8c \\uac1c\\uc131\\uc744 \\ub4dc\\ub7ec\\ub0b4\\uace0 \\uc77c\\uc0c1\\uc801\\uc778 \\uc21c\\uac04\\ubd80\\ud130 \\uc0b6\\uc758 \\ud2b9\\ubcc4\\ud55c \\uc21c\\uac04\\uae4c\\uc9c0 \\ubaa8\\ub4e0 \\uc18c\\uc2dd\\uc744 \\uacf5\\uc720\\ud560 \\uc218 \\uc788\\ub294 \\ucee4\\ubba4\\ub2c8\\ud2f0\\ub3c4 \\ub458\\ub7ec\\ubcf4\\uc138\\uc694.<br><br>\\uc790\\uc720\\ub86d\\uac8c \\ud45c\\ud604\\ud558\\uace0 \\uce5c\\uad6c\\ub4e4\\uacfc \\uc18c\\ud1b5\\ud558\\uae30<br><br>* 24\\uc2dc\\uac04 \\ud6c4\\uc5d0 \\uc0ac\\ub77c\\uc9c0\\ub294 \\uc2a4\\ud1a0\\ub9ac\\uc5d0 \\uc0ac\\uc9c4\\uacfc \\ub3d9\\uc601\\uc0c1\\uc744 \\ucd94\\uac00\\ud558\\uace0, \\uc7ac\\ubbf8\\uc788\\ub294 \\ud06c\\ub9ac\\uc5d0\\uc774\\ud2f0\\ube0c \\ub3c4\\uad6c\\ub85c \\uc2a4\\ud1a0\\ub9ac\\uc5d0 \\uc0dd\\ub3d9\\uac10\\uc744 \\ub354\\ud574\\ubcf4\\uc138\\uc694.<br>* \\uce5c\\uad6c\\uc5d0\\uac8c Direct \\uba54\\uc2dc\\uc9c0\\ub97c \\ubcf4\\ub0b4\\ubcf4\\uc138\\uc694. \\ud53c\\ub4dc\\uc640 \\uc2a4\\ud1a0\\ub9ac\\uc5d0\\uc11c \\ubcf8 \\ucf58\\ud150\\uce20\\uc5d0 \\uad00\\ud574 \\uc990\\uac81\\uac8c \\ub300\\ud654\\ud560 \\uc218 \\uc788\\uc2b5\\ub2c8\\ub2e4.<br>* \\ud504\\ub85c\\ud544\\uc5d0 \\ud45c\\uc2dc\\ud558\\uace0 \\uc2f6\\uc740 \\uc0ac\\uc9c4\\uacfc \\ub3d9\\uc601\\uc0c1\\uc744 \\ud53c\\ub4dc\\uc5d0 \\uac8c\\uc2dc\\ud574\\ubcf4\\uc138\\uc694.<br><br>\\uad00\\uc2ec\\uc0ac\\uc5d0 \\ub300\\ud574 \\ub354 \\uc54c\\uc544\\ubcf4\\uae30<br><br>* IGTV\\uc5d0\\uc11c \\uc88b\\uc544\\ud558\\ub294 \\ud06c\\ub9ac\\uc5d0\\uc774\\ud130\\uac00 \\uc62c\\ub9b0 \\ub354 \\uae34 \\ub3d9\\uc601\\uc0c1\\uc744 \\ud655\\uc778\\ud574\\ubcf4\\uc138\\uc694.<br>* \\ub458\\ub7ec\\ubcf4\\uae30\\uc5d0\\uc11c \\uc0c8\\ub85c\\uc6b4 \\uacc4\\uc815\\uc758 \\uc0ac\\uc9c4\\uacfc \\ub3d9\\uc601\\uc0c1\\uc73c\\ub85c\\ubd80\\ud130 \\uc544\\uc774\\ub514\\uc5b4\\ub97c \\uc5bb\\uc5b4\\ubcf4\\uc138\\uc694.<br>* \\ub2e4\\uc591\\ud55c \\ube0c\\ub79c\\ub4dc\\uc640 \\uc18c\\uaddc\\ubaa8 \\ube44\\uc988\\ub2c8\\uc2a4\\ub97c \\ubc1c\\uacac\\ud558\\uace0 \\uad00\\uc2ec \\uc788\\ub294 \\uc81c\\ud488\\uc744 \\uad6c\\ub9e4\\ud574\\ubcf4\\uc138\\uc694.<br><br>**\\uae30\\uae30 \\uad8c\\ud55c**<br>Android \\uc6b4\\uc601 \\uccb4\\uc81c\\ub294 \\uc571\\uc5d0\\uc11c \\ud2b9\\uc815 \\uae30\\ub2a5\\uc774\\ub098 \\ub370\\uc774\\ud130\\uc5d0 \\uc5d1\\uc138\\uc2a4\\ud558\\uae30 \\uc704\\ud574 \\uad8c\\ud55c \\uc2dc\\uc2a4\\ud15c\\uc744 \\uc774\\uc6a9\\ud569\\ub2c8\\ub2e4. \\ucc98\\uc74c\\uc73c\\ub85c \\uc571\\uc5d0 \\ub2e4\\uc74c \\uad8c\\ud55c \\uc911 \\ud558\\ub098\\uac00 \\ud544\\uc694\\ud574\\uc9c8 \\ub54c, \\uad8c\\ud55c \\ud5c8\\uc6a9\\uc744 \\uc704\\ud55c \\uba54\\uc2dc\\uc9c0\\uac00 \\ud45c\\uc2dc\\ub429\\ub2c8\\ub2e4.<br>Instagram \\uc571\\uc5d0\\uc11c \\uc774\\uc6a9\\ud558\\ub294 \\uad8c\\ud55c\\uc5d0 \\ub300\\ud55c \\uc774\\ud574\\ub97c \\ub3d5\\uace0\\uc790, \\ub2e4\\uc74c\\uacfc \\uac19\\uc774 \\uc694\\uccad\\ub418\\ub294 \\uad8c\\ud55c \\ubc0f \\uac01 \\uad8c\\ud55c\\uc774 \\uc694\\uccad\\ub418\\ub294 \\uc8fc\\uc694 \\uc774\\uc720\\ub97c \\uc54c\\ub824\\ub4dc\\ub9bd\\ub2c8\\ub2e4. \\ub2e4\\uc74c \\uad8c\\ud55c\\uc740 \\ubaa8\\ub450 \\uc120\\ud0dd \\uac00\\ub2a5\\ud55c \\uc635\\uc158 \\ud56d\\ubaa9\\uc785\\ub2c8\\ub2e4. \\uc989, \\uac01 \\uad8c\\ud55c\\uc744 \\ud5c8\\uc6a9\\ud558\\uc9c0 \\uc54a\\ub294 \\uacbd\\uc6b0 \\ud2b9\\uc815 \\uae30\\ub2a5\\uc774 \\ub3d9\\uc791\\ud558\\uc9c0 \\uc54a\\uc744 \\uc218 \\uc788\\uc9c0\\ub9cc Instagram \\uc571 \\uc790\\uccb4\\ub294 \\uacc4\\uc18d \\uc774\\uc6a9\\ud558\\uc2e4 \\uc218 \\uc788\\uc2b5\\ub2c8\\ub2e4.<br>\\uc5f0\\ub77d\\ucc98: \\uce5c\\uad6c\\ub4e4\\uacfc \\uc5f0\\uacb0\\ud558\\uae30 \\uc704\\ud574 Instagram\\uc5d0\\uc11c \\uc5f0\\ub77d\\ucc98 \\uc815\\ubcf4\\uc5d0 \\uc561\\uc138\\uc2a4\\ud558\\ub3c4\\ub85d \\ud5c8\\uc6a9\\ud558\\ub294 \\uad8c\\ud55c\\uc785\\ub2c8\\ub2e4.<br>\\uc704\\uce58 \\uc815\\ubcf4: \\uc6d0\\ud558\\ub294 \\uc7a5\\uc18c\\ub97c \\ucc3e\\uace0, \\uc6d0\\ud558\\ub294 \\uacbd\\uc6b0 \\ud604\\uc7ac \\uc704\\uce58\\uc640 \\uad00\\ub828\\ub41c \\uc815\\ubcf4\\ub97c \\ubcfc \\ub54c \\ud544\\uc694\\ud55c \\uad8c\\ud55c\\uc785\\ub2c8\\ub2e4.<br>\\uc800\\uc7a5\\uacf5\\uac04: Instagram\\uc5d0 \\uc0ac\\uc9c4\\uacfc \\ub3d9\\uc601\\uc0c1\\uc744 \\uc5c5\\ub85c\\ub4dc\\ud558\\uace0 \\uce74\\uba54\\ub77c \\ub864\\uc5d0 \\uc0ac\\uc9c4\\uacfc \\ub3d9\\uc601\\uc0c1\\uc744 \\uc800\\uc7a5\\ud560 \\ub54c \\ud544\\uc694\\ud55c \\uad8c\\ud55c\\uc785\\ub2c8\\ub2e4.<br>\\uce74\\uba54\\ub77c: \\uc0ac\\uc9c4\\uacfc \\ub3d9\\uc601\\uc0c1\\uc744 \\ucc0d\\uc744 \\ub54c \\ud544\\uc694\\ud55c \\uad8c\\ud55c\\uc785\\ub2c8\\ub2e4.<br>\\ub9c8\\uc774\\ud06c: \\ub3d9\\uc601\\uc0c1 \\ub179\\ud654 \\uc2dc \\uc18c\\ub9ac\\ub97c \\ud568\\uaed8 \\ub179\\uc74c\\ud558\\ub294 \\ub370 \\ud544\\uc694\\ud55c \\uad8c\\ud55c\\uc785\\ub2c8\\ub2e4.<br>\\uc804\\ud654: \\uacc4\\uc815 \\uc561\\uc138\\uc2a4\\ub97c \\uc704\\ud574 \\uc804\\ud654 \\uc0c1\\ud0dc\\ub97c \\uc77d\\uace0 \\uc2dd\\ubcc4\\ud558\\uae30 \\uc704\\ud574 \\ud544\\uc694\\ud55c \\uad8c\\ud55c\\uc785\\ub2c8\\ub2e4.<br> <br>**\\ucc38\\uace0**: \\uc774\\ub7ec\\ud55c \\uad8c\\ud55c\\uc744 \\uac01\\uac01 \\uc124\\uc815\\ud558\\ub294 \\uae30\\ub2a5\\uc740 Android 6.0 \\uc774\\ud6c4 \\ubc84\\uc804\\ubd80\\ud130 \\uac00\\ub2a5\\ud569\\ub2c8\\ub2e4. Android 6.0 \\uc774\\uc804 \\ubc84\\uc804\\uc744 \\uc774\\uc6a9\\ud558\\ub294 \\uacbd\\uc6b0, \\uc571 \\uad8c\\ud55c\\uc744 \\uad6c\\uc131\\ud558\\ub824\\uba74 \\uc18c\\ud504\\ud2b8\\uc6e8\\uc5b4\\ub97c \\uc5c5\\ub370\\uc774\\ud2b8\\ud574\\uc57c \\ud569\\ub2c8\\ub2e4. \\uc18c\\ud504\\ud2b8\\uc6e8\\uc5b4 \\uc5c5\\ub370\\uc774\\ud2b8\\ub97c \\ub9c8\\uce5c \\ud6c4 \\uae30\\uae30 \\uc124\\uc815\\uc5d0\\uc11c \\uae30\\uc874\\uc5d0 \\ud5c8\\uc6a9\\ud588\\ub358 \\uad8c\\ud55c\\uc744 \\uc218\\uc815\\ud560 \\uc218 \\uc788\\uc2b5\\ub2c8\\ub2e4.\"\u001b[39;49;00m,\u001b[37m\u001b[39;49;00m\n",
            "\u001b[37m  \u001b[39;49;00m\u001b[94m\"developer\"\u001b[39;49;00m:\u001b[37m \u001b[39;49;00m\u001b[33m\"Instagram\"\u001b[39;49;00m,\u001b[37m\u001b[39;49;00m\n",
            "\u001b[37m  \u001b[39;49;00m\u001b[94m\"developerAddress\"\u001b[39;49;00m:\u001b[37m \u001b[39;49;00m\u001b[33m\"Facebook, Inc.\\n1601 Willow Rd\\nMenlo Park, CA 94025\\nUnited States\"\u001b[39;49;00m,\u001b[37m\u001b[39;49;00m\n",
            "\u001b[37m  \u001b[39;49;00m\u001b[94m\"developerEmail\"\u001b[39;49;00m:\u001b[37m \u001b[39;49;00m\u001b[33m\"android-support@instagram.com\"\u001b[39;49;00m,\u001b[37m\u001b[39;49;00m\n",
            "\u001b[37m  \u001b[39;49;00m\u001b[94m\"developerId\"\u001b[39;49;00m:\u001b[37m \u001b[39;49;00m\u001b[33m\"Instagram\"\u001b[39;49;00m,\u001b[37m\u001b[39;49;00m\n",
            "\u001b[37m  \u001b[39;49;00m\u001b[94m\"developerWebsite\"\u001b[39;49;00m:\u001b[37m \u001b[39;49;00m\u001b[33m\"http://help.instagram.com/\"\u001b[39;49;00m,\u001b[37m\u001b[39;49;00m\n",
            "\u001b[37m  \u001b[39;49;00m\u001b[94m\"free\"\u001b[39;49;00m:\u001b[37m \u001b[39;49;00m\u001b[34mtrue\u001b[39;49;00m,\u001b[37m\u001b[39;49;00m\n",
            "\u001b[37m  \u001b[39;49;00m\u001b[94m\"genre\"\u001b[39;49;00m:\u001b[37m \u001b[39;49;00m\u001b[33m\"\\uc18c\\uc15c\"\u001b[39;49;00m,\u001b[37m\u001b[39;49;00m\n",
            "\u001b[37m  \u001b[39;49;00m\u001b[94m\"genreId\"\u001b[39;49;00m:\u001b[37m \u001b[39;49;00m\u001b[33m\"SOCIAL\"\u001b[39;49;00m,\u001b[37m\u001b[39;49;00m\n",
            "\u001b[37m  \u001b[39;49;00m\u001b[94m\"headerImage\"\u001b[39;49;00m:\u001b[37m \u001b[39;49;00m\u001b[33m\"https://play-lh.googleusercontent.com/LZdsQGEbRqcZIjvWdiJTjlaGQJQjP097FAIvl4XfOi_XHagmC83Lc04PDxaq8Ml6xJk\"\u001b[39;49;00m,\u001b[37m\u001b[39;49;00m\n",
            "\u001b[37m  \u001b[39;49;00m\u001b[94m\"histogram\"\u001b[39;49;00m:\u001b[37m \u001b[39;49;00m[\u001b[37m\u001b[39;49;00m\n",
            "\u001b[37m    \u001b[39;49;00m\u001b[34m28453165\u001b[39;49;00m,\u001b[37m\u001b[39;49;00m\n",
            "\u001b[37m    \u001b[39;49;00m\u001b[34m5978958\u001b[39;49;00m,\u001b[37m\u001b[39;49;00m\n",
            "\u001b[37m    \u001b[39;49;00m\u001b[34m9286605\u001b[39;49;00m,\u001b[37m\u001b[39;49;00m\n",
            "\u001b[37m    \u001b[39;49;00m\u001b[34m15068775\u001b[39;49;00m,\u001b[37m\u001b[39;49;00m\n",
            "\u001b[37m    \u001b[39;49;00m\u001b[34m91131974\u001b[39;49;00m\u001b[37m\u001b[39;49;00m\n",
            "\u001b[37m  \u001b[39;49;00m],\u001b[37m\u001b[39;49;00m\n",
            "\u001b[37m  \u001b[39;49;00m\u001b[94m\"icon\"\u001b[39;49;00m:\u001b[37m \u001b[39;49;00m\u001b[33m\"https://play-lh.googleusercontent.com/VRMWkE5p3CkWhJs6nv-9ZsLAs1QOg5ob1_3qg-rckwYW7yp1fMrYZqnEFpk0IoVP4LM\"\u001b[39;49;00m,\u001b[37m\u001b[39;49;00m\n",
            "\u001b[37m  \u001b[39;49;00m\u001b[94m\"inAppProductPrice\"\u001b[39;49;00m:\u001b[37m \u001b[39;49;00m\u001b[33m\"\\ud56d\\ubaa9\\ub2f9 \\u20a973 - \\u20a91,570,000\"\u001b[39;49;00m,\u001b[37m\u001b[39;49;00m\n",
            "\u001b[37m  \u001b[39;49;00m\u001b[94m\"installs\"\u001b[39;49;00m:\u001b[37m \u001b[39;49;00m\u001b[33m\"5,000,000,000+\"\u001b[39;49;00m,\u001b[37m\u001b[39;49;00m\n",
            "\u001b[37m  \u001b[39;49;00m\u001b[94m\"minInstalls\"\u001b[39;49;00m:\u001b[37m \u001b[39;49;00m\u001b[34m5000000000\u001b[39;49;00m,\u001b[37m\u001b[39;49;00m\n",
            "\u001b[37m  \u001b[39;49;00m\u001b[94m\"offersIAP\"\u001b[39;49;00m:\u001b[37m \u001b[39;49;00m\u001b[34mtrue\u001b[39;49;00m,\u001b[37m\u001b[39;49;00m\n",
            "\u001b[37m  \u001b[39;49;00m\u001b[94m\"originalPrice\"\u001b[39;49;00m:\u001b[37m \u001b[39;49;00m\u001b[34mnull\u001b[39;49;00m,\u001b[37m\u001b[39;49;00m\n",
            "\u001b[37m  \u001b[39;49;00m\u001b[94m\"price\"\u001b[39;49;00m:\u001b[37m \u001b[39;49;00m\u001b[34m0\u001b[39;49;00m,\u001b[37m\u001b[39;49;00m\n",
            "\u001b[37m  \u001b[39;49;00m\u001b[94m\"privacyPolicy\"\u001b[39;49;00m:\u001b[37m \u001b[39;49;00m\u001b[33m\"http://instagram.com/legal/privacy/\"\u001b[39;49;00m,\u001b[37m\u001b[39;49;00m\n",
            "\u001b[37m  \u001b[39;49;00m\u001b[94m\"ratings\"\u001b[39;49;00m:\u001b[37m \u001b[39;49;00m\u001b[34m149920225\u001b[39;49;00m,\u001b[37m\u001b[39;49;00m\n",
            "\u001b[37m  \u001b[39;49;00m\u001b[94m\"realInstalls\"\u001b[39;49;00m:\u001b[37m \u001b[39;49;00m\u001b[34m5217912921\u001b[39;49;00m,\u001b[37m\u001b[39;49;00m\n",
            "\u001b[37m  \u001b[39;49;00m\u001b[94m\"released\"\u001b[39;49;00m:\u001b[37m \u001b[39;49;00m\u001b[33m\"2012. 4. 3.\"\u001b[39;49;00m,\u001b[37m\u001b[39;49;00m\n",
            "\u001b[37m  \u001b[39;49;00m\u001b[94m\"reviews\"\u001b[39;49;00m:\u001b[37m \u001b[39;49;00m\u001b[34m250794\u001b[39;49;00m,\u001b[37m\u001b[39;49;00m\n",
            "\u001b[37m  \u001b[39;49;00m\u001b[94m\"sale\"\u001b[39;49;00m:\u001b[37m \u001b[39;49;00m\u001b[34mfalse\u001b[39;49;00m,\u001b[37m\u001b[39;49;00m\n",
            "\u001b[37m  \u001b[39;49;00m\u001b[94m\"saleText\"\u001b[39;49;00m:\u001b[37m \u001b[39;49;00m\u001b[34mnull\u001b[39;49;00m,\u001b[37m\u001b[39;49;00m\n",
            "\u001b[37m  \u001b[39;49;00m\u001b[94m\"saleTime\"\u001b[39;49;00m:\u001b[37m \u001b[39;49;00m\u001b[34mnull\u001b[39;49;00m,\u001b[37m\u001b[39;49;00m\n",
            "\u001b[37m  \u001b[39;49;00m\u001b[94m\"score\"\u001b[39;49;00m:\u001b[37m \u001b[39;49;00m\u001b[34m3.896793\u001b[39;49;00m,\u001b[37m\u001b[39;49;00m\n",
            "\u001b[37m  \u001b[39;49;00m\u001b[94m\"screenshots\"\u001b[39;49;00m:\u001b[37m \u001b[39;49;00m[\u001b[37m\u001b[39;49;00m\n",
            "\u001b[37m    \u001b[39;49;00m\u001b[33m\"https://play-lh.googleusercontent.com/g_KkOp_pAeKDo0ilESJ3YocfqRY6cd72etKTM1MZeyniprh86gFkpPz3UM5IEO9UFLg\"\u001b[39;49;00m,\u001b[37m\u001b[39;49;00m\n",
            "\u001b[37m    \u001b[39;49;00m\u001b[33m\"https://play-lh.googleusercontent.com/UxffI-Z9_WsrGFdhBmw2lkaJYYjdNh9DPRc7FOzryjQdvILrjzmCUX5AUyz7meW3zu0\"\u001b[39;49;00m,\u001b[37m\u001b[39;49;00m\n",
            "\u001b[37m    \u001b[39;49;00m\u001b[33m\"https://play-lh.googleusercontent.com/mvj10VRwqYwqTeSAFhDV61R6JBke0vvWZ9RBbLvYpuNep1_NZBOoG7PAADj-p3PNlus\"\u001b[39;49;00m,\u001b[37m\u001b[39;49;00m\n",
            "\u001b[37m    \u001b[39;49;00m\u001b[33m\"https://play-lh.googleusercontent.com/byFXhjiO3sIL-5anJ4tnJg1xR-lhBnoMUcclZld-vV-df5NpW0ljTrZk5AMo4wBNfw\"\u001b[39;49;00m,\u001b[37m\u001b[39;49;00m\n",
            "\u001b[37m    \u001b[39;49;00m\u001b[33m\"https://play-lh.googleusercontent.com/cRkzRrUOnOI0ixnBLVHUYT4Rn02A4aaYXBedkdqbNCercJbN9TlVCbBwByaLj8j-3Ac\"\u001b[39;49;00m,\u001b[37m\u001b[39;49;00m\n",
            "\u001b[37m    \u001b[39;49;00m\u001b[33m\"https://play-lh.googleusercontent.com/LTtcFLCCEkh5o77rhaK-82-Un4DeHa7cQD7fn9nvhUthFbWwieDKvYgmKq5fmrGPFEo\"\u001b[39;49;00m\u001b[37m\u001b[39;49;00m\n",
            "\u001b[37m  \u001b[39;49;00m],\u001b[37m\u001b[39;49;00m\n",
            "\u001b[37m  \u001b[39;49;00m\u001b[94m\"summary\"\u001b[39;49;00m:\u001b[37m \u001b[39;49;00m\u001b[33m\"\\uc18c\\uc911\\ud55c \\uc0ac\\ub78c\\ub4e4\\uacfc \\ucf58\\ud150\\uce20\\uc5d0 \\ub354\\uc6b1 \\uac00\\uae4c\\uc774 \\ub2e4\\uac00\\uac08 \\uc218 \\uc788\\ub294 \\uacf5\\uac04\"\u001b[39;49;00m,\u001b[37m\u001b[39;49;00m\n",
            "\u001b[37m  \u001b[39;49;00m\u001b[94m\"title\"\u001b[39;49;00m:\u001b[37m \u001b[39;49;00m\u001b[33m\"Instagram\"\u001b[39;49;00m,\u001b[37m\u001b[39;49;00m\n",
            "\u001b[37m  \u001b[39;49;00m\u001b[94m\"updated\"\u001b[39;49;00m:\u001b[37m \u001b[39;49;00m\u001b[34m1701211333\u001b[39;49;00m,\u001b[37m\u001b[39;49;00m\n",
            "\u001b[37m  \u001b[39;49;00m\u001b[94m\"url\"\u001b[39;49;00m:\u001b[37m \u001b[39;49;00m\u001b[33m\"https://play.google.com/store/apps/details?id=com.instagram.android&hl=ko&gl=KR\"\u001b[39;49;00m,\u001b[37m\u001b[39;49;00m\n",
            "\u001b[37m  \u001b[39;49;00m\u001b[94m\"version\"\u001b[39;49;00m:\u001b[37m \u001b[39;49;00m\u001b[34mnull\u001b[39;49;00m,\u001b[37m\u001b[39;49;00m\n",
            "\u001b[37m  \u001b[39;49;00m\u001b[94m\"video\"\u001b[39;49;00m:\u001b[37m \u001b[39;49;00m\u001b[34mnull\u001b[39;49;00m,\u001b[37m\u001b[39;49;00m\n",
            "\u001b[37m  \u001b[39;49;00m\u001b[94m\"videoImage\"\u001b[39;49;00m:\u001b[37m \u001b[39;49;00m\u001b[34mnull\u001b[39;49;00m\u001b[37m\u001b[39;49;00m\n",
            "}\u001b[37m\u001b[39;49;00m\n",
            "\n"
          ]
        }
      ]
    },
    {
      "cell_type": "code",
      "source": [
        "app_infos_df = pd.DataFrame(app_infos)\n",
        "app_infos_df.to_csv('apps.csv', index=None, header=True)"
      ],
      "metadata": {
        "id": "CC9Y0yGXu4-J"
      },
      "execution_count": 93,
      "outputs": []
    },
    {
      "cell_type": "markdown",
      "source": [
        "app_infos 리스트에 저장된 앱 정보를 DataFrame으로 변환하고, 이를 CSV 파일로 저장하는 부분입니다."
      ],
      "metadata": {
        "id": "ozoPvHCpxzc1"
      }
    },
    {
      "cell_type": "code",
      "source": [
        "app_reviews = []\n",
        "\n",
        "for ap in tqdm(app_packages): #app_packages에 있는 각 앱 패키지에 대해 반복하고,\n",
        "# 각 앱에 대해 1부터 5까지의 점수와 정렬 방법(MOST_RELEVANT, NEWEST)에 대해 반복합니다.\n",
        "  for score in list(range(1, 6)):\n",
        "    for sort_order in [Sort.MOST_RELEVANT, Sort.NEWEST]:\n",
        "      rvs, _ = reviews(\n",
        "        ap,\n",
        "        lang='ko',\n",
        "        country='KR',\n",
        "        sort=sort_order,\n",
        "        count= 200 if score == 3 else 100,\n",
        "        filter_score_with=score\n",
        "      )\n",
        "      for r in rvs:\n",
        "        r['sortOrder'] = 'most_relevant' if sort_order == Sort.MOST_RELEVANT else 'newest'\n",
        "        r['appId'] = ap\n",
        "      app_reviews.extend(rvs)"
      ],
      "metadata": {
        "colab": {
          "base_uri": "https://localhost:8080/"
        },
        "id": "aUbYtIUru6gn",
        "outputId": "8efa1fc2-5a9c-425f-c7d3-2081f1d0a1f1"
      },
      "execution_count": 94,
      "outputs": [
        {
          "output_type": "stream",
          "name": "stderr",
          "text": [
            "100%|██████████| 1/1 [00:05<00:00,  5.92s/it]\n"
          ]
        }
      ]
    },
    {
      "cell_type": "markdown",
      "source": [
        "앱 패키지 목록 순회: app_packages에 있는 각 앱 패키지에 대해 반복합니다.\n",
        "\n",
        "평점, 정렬 방법 순회: 각 앱에 대해 1부터 5까지의 평점과 정렬 방법(MOST_RELEVANT, NEWEST)에 대해 반복합니다.\n",
        "\n",
        "reviews 함수 호출: reviews 함수를 사용하여 앱의 리뷰를 가져옵니다. 여기서 사용되는 매개변수들은 다음과 같습니다:\n",
        "\n",
        "- ap: 앱 패키지 식별자\n",
        "- lang: 언어 (한국어로 설정)\n",
        "- country: 국가 (대한민국으로 설정)\n",
        "- sort: 리뷰 정렬 방법 (MOST_RELEVANT 또는 NEWEST)\n",
        "- count: 가져올 리뷰 수 (평점이 3일 때는 200, 그 외에는 100)\n",
        "- filter_score_with: 가져올 리뷰의 평점\n",
        "- 리뷰 리스트에 추가: 가져온 리뷰들은 app_reviews 리스트에 추가됩니다. 이때, 각 리뷰에 'sortOrder'와 'appId' 필드가 추가됩니다.\n",
        "\n",
        "종합적으로, 이 코드는 여러 앱에 대해 다양한 평점과 정렬 방법으로 리뷰를 가져와서 app_reviews 리스트에 저장합니다."
      ],
      "metadata": {
        "id": "nh5DwAmxx0JF"
      }
    },
    {
      "cell_type": "markdown",
      "source": [
        "google_play_scraper 라이브러리의 reviews 함수를 사용하여 각 앱에 대한 리뷰를 가져옵니다. ap는 현재 앱 패키지, score는 현재 점수, sort_order는 정렬 방법을 나타냅니다. 리뷰는 최대 200개(점수가 3점일 때) 또는 100개(그 외 점수)까지 가져옵니다."
      ],
      "metadata": {
        "id": "iUi3FAmDx6wy"
      }
    },
    {
      "cell_type": "code",
      "source": [
        "print_json(app_reviews[0])"
      ],
      "metadata": {
        "colab": {
          "base_uri": "https://localhost:8080/"
        },
        "id": "TBn1WX7wu7jg",
        "outputId": "ef0d46a8-1c8c-4251-e2a0-d1601f58f916"
      },
      "execution_count": 95,
      "outputs": [
        {
          "output_type": "stream",
          "name": "stdout",
          "text": [
            "{\u001b[37m\u001b[39;49;00m\n",
            "\u001b[37m  \u001b[39;49;00m\u001b[94m\"appId\"\u001b[39;49;00m:\u001b[37m \u001b[39;49;00m\u001b[33m\"com.instagram.android\"\u001b[39;49;00m,\u001b[37m\u001b[39;49;00m\n",
            "\u001b[37m  \u001b[39;49;00m\u001b[94m\"appVersion\"\u001b[39;49;00m:\u001b[37m \u001b[39;49;00m\u001b[33m\"304.0.0.35.106\"\u001b[39;49;00m,\u001b[37m\u001b[39;49;00m\n",
            "\u001b[37m  \u001b[39;49;00m\u001b[94m\"at\"\u001b[39;49;00m:\u001b[37m \u001b[39;49;00m\u001b[33m\"2023-10-16 11:54:06\"\u001b[39;49;00m,\u001b[37m\u001b[39;49;00m\n",
            "\u001b[37m  \u001b[39;49;00m\u001b[94m\"content\"\u001b[39;49;00m:\u001b[37m \u001b[39;49;00m\u001b[33m\"\\uc778\\uc2a4\\ud0c0 \\uc911\\ub3c5\\uc774 \\uac71\\uc815\\ub420 \\uc815\\ub3c4\\ub85c \\uc7ac\\ubc0c\\uac8c \\uc4f0\\uace0 \\uc788\\uc5c8\\ub294\\ub370 \\ucd5c\\uadfc\\ub4e4\\uc5b4 \\ubc84\\uadf8\\ub3c4 \\ub108\\ubb34 \\ub9ce\\uace0 \\uc218\\uc815\\uc740 \\uc804\\ud600 \\uc548\\ub418\\uace0 \\ubd88\\ud3b8\\ud574\\uc838\\uc11c \\uc790\\uc5f0\\uc2a4\\ub7fd\\uac8c \\uba40\\uc5b4\\uc9c0\\uace0 \\uc788\\ub124\\uc694. 1. \\uc778\\uc2a4\\ud0c0\\uc758 \\ucd5c\\ub300 \\uc7a5\\uc810\\uc774\\uc5c8\\ub358 \\\"\\ucd5c\\uadfc\\uac8c\\uc2dc\\ubb3c\\\" \\uae30\\ub2a5. \\uc624\\ub298\\uc790 \\ubc9a\\uaf43 \\uac1c\\ud654 \\uc0c1\\ud669, \\uc124\\uc545\\uc0b0 \\ub2e8\\ud48d \\uc0c1\\ud669 \\uac80\\uc0c9\\ud560 \\ub54c \\ucc38 \\uc720\\uc6a9\\ud588\\ub294\\ub370 \\uc774 \\uae30\\ub2a5\\uc774 \\uc5c6\\uc5b4\\uc9c0\\ub2c8 \\uc4f8\\ubaa8\\uc5c6\\ub294 \\uc5b4\\ud50c\\uc774 \\ub410\\uc5b4\\uc694. 2. \\uce5c\\uad6c\\ub4e4 \\ud53c\\ub4dc\\uc5d0\\uc11c \\\"\\ub354\\ubcf4\\uae30\\\" \\ud074\\ub9ad\\ud558\\uba74 \\ubcf8\\ubb38 \\ub0b4\\uc6a9\\uc774 \\ud558\\uc597\\uac8c \\ub418\\uba74\\uc11c \\uc544\\ubb34\\uac83\\ub3c4 \\uc548\\ubcf4\\uc5ec\\uc694\\u3160\\u3160 \\ub124\\ud2b8\\uc6cc\\ud06c \\uc815\\uc0c1\\uc5d0 \\ud3f0\\ub3c4 \\ucd5c\\uc2e0(\\uac24\\ub7ed\\uc2dc 22 \\uc6b8\\ud2b8\\ub77c)\\uc774\\uace0 \\uc5c5\\ub370\\uc774\\ud2b8\\ub3c4 \\ub2e4 \\ud588\\ub294\\ub370 \\ubb50\\uac00 \\ubb38\\uc824\\uae4c\\uc694... \\uac1c\\uc120\\uc774 \\ub410\\uc73c\\uba74 \\uc88b\\uaca0\\uc5b4\\uc694\"\u001b[39;49;00m,\u001b[37m\u001b[39;49;00m\n",
            "\u001b[37m  \u001b[39;49;00m\u001b[94m\"repliedAt\"\u001b[39;49;00m:\u001b[37m \u001b[39;49;00m\u001b[34mnull\u001b[39;49;00m,\u001b[37m\u001b[39;49;00m\n",
            "\u001b[37m  \u001b[39;49;00m\u001b[94m\"replyContent\"\u001b[39;49;00m:\u001b[37m \u001b[39;49;00m\u001b[34mnull\u001b[39;49;00m,\u001b[37m\u001b[39;49;00m\n",
            "\u001b[37m  \u001b[39;49;00m\u001b[94m\"reviewCreatedVersion\"\u001b[39;49;00m:\u001b[37m \u001b[39;49;00m\u001b[33m\"304.0.0.35.106\"\u001b[39;49;00m,\u001b[37m\u001b[39;49;00m\n",
            "\u001b[37m  \u001b[39;49;00m\u001b[94m\"reviewId\"\u001b[39;49;00m:\u001b[37m \u001b[39;49;00m\u001b[33m\"d4ba493c-9cf2-43f8-8595-1730585eef48\"\u001b[39;49;00m,\u001b[37m\u001b[39;49;00m\n",
            "\u001b[37m  \u001b[39;49;00m\u001b[94m\"score\"\u001b[39;49;00m:\u001b[37m \u001b[39;49;00m\u001b[34m1\u001b[39;49;00m,\u001b[37m\u001b[39;49;00m\n",
            "\u001b[37m  \u001b[39;49;00m\u001b[94m\"sortOrder\"\u001b[39;49;00m:\u001b[37m \u001b[39;49;00m\u001b[33m\"most_relevant\"\u001b[39;49;00m,\u001b[37m\u001b[39;49;00m\n",
            "\u001b[37m  \u001b[39;49;00m\u001b[94m\"thumbsUpCount\"\u001b[39;49;00m:\u001b[37m \u001b[39;49;00m\u001b[34m354\u001b[39;49;00m,\u001b[37m\u001b[39;49;00m\n",
            "\u001b[37m  \u001b[39;49;00m\u001b[94m\"userImage\"\u001b[39;49;00m:\u001b[37m \u001b[39;49;00m\u001b[33m\"https://play-lh.googleusercontent.com/a/ACg8ocIKOsghHBiUx9We3HualuHJm4JS2LFt2NIQpxCERlqj=mo\"\u001b[39;49;00m,\u001b[37m\u001b[39;49;00m\n",
            "\u001b[37m  \u001b[39;49;00m\u001b[94m\"userName\"\u001b[39;49;00m:\u001b[37m \u001b[39;49;00m\u001b[33m\"Minjung Park\"\u001b[39;49;00m\u001b[37m\u001b[39;49;00m\n",
            "}\u001b[37m\u001b[39;49;00m\n",
            "\n"
          ]
        }
      ]
    },
    {
      "cell_type": "code",
      "source": [
        "len(app_reviews)"
      ],
      "metadata": {
        "colab": {
          "base_uri": "https://localhost:8080/"
        },
        "id": "HBmmy46ku8-o",
        "outputId": "bcebb50a-b3ad-4bea-b27a-fb496150ef7f"
      },
      "execution_count": 96,
      "outputs": [
        {
          "output_type": "execute_result",
          "data": {
            "text/plain": [
              "1200"
            ]
          },
          "metadata": {},
          "execution_count": 96
        }
      ]
    },
    {
      "cell_type": "markdown",
      "source": [
        "리뷰들이 몇 개인지 길이를 확인하는 코드입니다."
      ],
      "metadata": {
        "id": "N19cwxMFx9z1"
      }
    },
    {
      "cell_type": "code",
      "source": [
        "from google.colab import files\n",
        "\n",
        "file_path = '/content/drive/MyDrive/dongguk/reviews.csv' #본인 구글 드라이브 경로로 수정\n",
        "\n",
        "app_reviews_df = pd.DataFrame(app_reviews)\n",
        "app_reviews_df.to_csv(file_path, index=None, header=True)\n",
        "\n",
        "files.download(file_path)"
      ],
      "metadata": {
        "colab": {
          "base_uri": "https://localhost:8080/",
          "height": 17
        },
        "id": "vdLPEnDDu-Ti",
        "outputId": "b5f5e826-a9e1-4283-853d-85a446319dc7"
      },
      "execution_count": 97,
      "outputs": [
        {
          "output_type": "display_data",
          "data": {
            "text/plain": [
              "<IPython.core.display.Javascript object>"
            ],
            "application/javascript": [
              "\n",
              "    async function download(id, filename, size) {\n",
              "      if (!google.colab.kernel.accessAllowed) {\n",
              "        return;\n",
              "      }\n",
              "      const div = document.createElement('div');\n",
              "      const label = document.createElement('label');\n",
              "      label.textContent = `Downloading \"${filename}\": `;\n",
              "      div.appendChild(label);\n",
              "      const progress = document.createElement('progress');\n",
              "      progress.max = size;\n",
              "      div.appendChild(progress);\n",
              "      document.body.appendChild(div);\n",
              "\n",
              "      const buffers = [];\n",
              "      let downloaded = 0;\n",
              "\n",
              "      const channel = await google.colab.kernel.comms.open(id);\n",
              "      // Send a message to notify the kernel that we're ready.\n",
              "      channel.send({})\n",
              "\n",
              "      for await (const message of channel.messages) {\n",
              "        // Send a message to notify the kernel that we're ready.\n",
              "        channel.send({})\n",
              "        if (message.buffers) {\n",
              "          for (const buffer of message.buffers) {\n",
              "            buffers.push(buffer);\n",
              "            downloaded += buffer.byteLength;\n",
              "            progress.value = downloaded;\n",
              "          }\n",
              "        }\n",
              "      }\n",
              "      const blob = new Blob(buffers, {type: 'application/binary'});\n",
              "      const a = document.createElement('a');\n",
              "      a.href = window.URL.createObjectURL(blob);\n",
              "      a.download = filename;\n",
              "      div.appendChild(a);\n",
              "      a.click();\n",
              "      div.remove();\n",
              "    }\n",
              "  "
            ]
          },
          "metadata": {}
        },
        {
          "output_type": "display_data",
          "data": {
            "text/plain": [
              "<IPython.core.display.Javascript object>"
            ],
            "application/javascript": [
              "download(\"download_324c210b-e4df-4cb9-9e20-db45571371d6\", \"reviews.csv\", 616306)"
            ]
          },
          "metadata": {}
        }
      ]
    },
    {
      "cell_type": "markdown",
      "source": [
        "1. file_path = '/content/drive/MyDrive/dongguk/reviews.csv':\n",
        "\n",
        "- 'reviews.csv' 파일이 Google 드라이브의 'dongguk' 폴더에 저장됩니다.\n",
        "- '/content/drive/MyDrive/'는 Google 드라이브의 기본 경로이며, 'dongguk'은 해당 경로 안에 위치한 폴더입니다. **( 이것은 제 드라이브 경로이기 때문에 본인의 구글 드라이브를 마운트 하고 본인 경로로 수정하셔야 합니다. 마운트 방법은 인터넷에 많이 나와 있으니 참고해주세요. )**\n",
        "2. app_reviews_df.to_csv(file_path, index=None, header=True):\n",
        "- app_reviews_df라는 데이터프레임을 CSV 파일로 변환합니다.\n",
        "- file_path에 지정된 경로에 CSV 파일이 저장됩니다.\n",
        "- index=None 및 header=True는 인덱스 및 헤더를 CSV 파일에 포함시키지 않도록 지정하는 매개변수입니다.\n",
        "3. files.download(file_path):\n",
        "- files 모듈을 사용하여 브라우저에서 해당 파일을 다운로드합니다.\n",
        "- 이를 통해 생성된 CSV 파일이 로컬 컴퓨터로 다운로드될 것입니다.\n",
        "\n",
        "따라서 이 코드의 목적은 앱 리뷰 데이터프레임을 CSV 파일로 저장하고, 해당 파일을 로컬 환경으로 다운로드하는 것입니다."
      ],
      "metadata": {
        "id": "5F-b1sC-yAkq"
      }
    },
    {
      "cell_type": "code",
      "source": [
        "! pip install numpy\n",
        "! pip install pandas\n",
        "! pip install konlpy\n",
        "! pip install tqdm\n",
        "! pip install re\n",
        "! pip install gensim\n",
        "! pip install pyLDAvis"
      ],
      "metadata": {
        "id": "PrvomgjUnint",
        "colab": {
          "base_uri": "https://localhost:8080/"
        },
        "outputId": "10b6f00f-c1c5-4e11-8413-429063723de6"
      },
      "execution_count": 98,
      "outputs": [
        {
          "output_type": "stream",
          "name": "stdout",
          "text": [
            "Requirement already satisfied: numpy in /usr/local/lib/python3.10/site-packages (1.26.2)\n",
            "\u001b[33mWARNING: Running pip as the 'root' user can result in broken permissions and conflicting behaviour with the system package manager. It is recommended to use a virtual environment instead: https://pip.pypa.io/warnings/venv\u001b[0m\u001b[33m\n",
            "\u001b[0mRequirement already satisfied: pandas in /usr/local/lib/python3.10/site-packages (2.1.3)\n",
            "Requirement already satisfied: pytz>=2020.1 in /usr/local/lib/python3.10/site-packages (from pandas) (2023.3.post1)\n",
            "Requirement already satisfied: tzdata>=2022.1 in /usr/local/lib/python3.10/site-packages (from pandas) (2023.3)\n",
            "Requirement already satisfied: numpy<2,>=1.22.4 in /usr/local/lib/python3.10/site-packages (from pandas) (1.26.2)\n",
            "Requirement already satisfied: python-dateutil>=2.8.2 in /usr/local/lib/python3.10/site-packages (from pandas) (2.8.2)\n",
            "Requirement already satisfied: six>=1.5 in /usr/local/lib/python3.10/site-packages (from python-dateutil>=2.8.2->pandas) (1.16.0)\n",
            "\u001b[33mWARNING: Running pip as the 'root' user can result in broken permissions and conflicting behaviour with the system package manager. It is recommended to use a virtual environment instead: https://pip.pypa.io/warnings/venv\u001b[0m\u001b[33m\n",
            "\u001b[0mRequirement already satisfied: konlpy in /usr/local/lib/python3.10/site-packages (0.6.0)\n",
            "Requirement already satisfied: lxml>=4.1.0 in /usr/local/lib/python3.10/site-packages (from konlpy) (4.9.3)\n",
            "Requirement already satisfied: numpy>=1.6 in /usr/local/lib/python3.10/site-packages (from konlpy) (1.26.2)\n",
            "Requirement already satisfied: JPype1>=0.7.0 in /usr/local/lib/python3.10/site-packages (from konlpy) (1.4.1)\n",
            "Requirement already satisfied: packaging in /usr/local/lib/python3.10/site-packages (from JPype1>=0.7.0->konlpy) (23.2)\n",
            "\u001b[33mWARNING: Running pip as the 'root' user can result in broken permissions and conflicting behaviour with the system package manager. It is recommended to use a virtual environment instead: https://pip.pypa.io/warnings/venv\u001b[0m\u001b[33m\n",
            "\u001b[0mRequirement already satisfied: tqdm in /usr/local/lib/python3.10/site-packages (4.65.0)\n",
            "\u001b[33mWARNING: Running pip as the 'root' user can result in broken permissions and conflicting behaviour with the system package manager. It is recommended to use a virtual environment instead: https://pip.pypa.io/warnings/venv\u001b[0m\u001b[33m\n",
            "\u001b[0m\u001b[31mERROR: Could not find a version that satisfies the requirement re (from versions: none)\u001b[0m\u001b[31m\n",
            "\u001b[0m\u001b[31mERROR: No matching distribution found for re\u001b[0m\u001b[31m\n",
            "\u001b[0mRequirement already satisfied: gensim in /usr/local/lib/python3.10/site-packages (4.3.2)\n",
            "Requirement already satisfied: numpy>=1.18.5 in /usr/local/lib/python3.10/site-packages (from gensim) (1.26.2)\n",
            "Requirement already satisfied: scipy>=1.7.0 in /usr/local/lib/python3.10/site-packages (from gensim) (1.11.4)\n",
            "Requirement already satisfied: smart-open>=1.8.1 in /usr/local/lib/python3.10/site-packages (from gensim) (6.4.0)\n",
            "\u001b[33mWARNING: Running pip as the 'root' user can result in broken permissions and conflicting behaviour with the system package manager. It is recommended to use a virtual environment instead: https://pip.pypa.io/warnings/venv\u001b[0m\u001b[33m\n",
            "\u001b[0mRequirement already satisfied: pyLDAvis in /usr/local/lib/python3.10/site-packages (3.4.1)\n",
            "Requirement already satisfied: scipy in /usr/local/lib/python3.10/site-packages (from pyLDAvis) (1.11.4)\n",
            "Requirement already satisfied: jinja2 in /usr/local/lib/python3.10/site-packages (from pyLDAvis) (3.1.2)\n",
            "Requirement already satisfied: joblib>=1.2.0 in /usr/local/lib/python3.10/site-packages (from pyLDAvis) (1.3.2)\n",
            "Requirement already satisfied: setuptools in /usr/local/lib/python3.10/site-packages (from pyLDAvis) (65.6.3)\n",
            "Requirement already satisfied: pandas>=2.0.0 in /usr/local/lib/python3.10/site-packages (from pyLDAvis) (2.1.3)\n",
            "Requirement already satisfied: numexpr in /usr/local/lib/python3.10/site-packages (from pyLDAvis) (2.8.7)\n",
            "Requirement already satisfied: funcy in /usr/local/lib/python3.10/site-packages (from pyLDAvis) (2.0)\n",
            "Requirement already satisfied: scikit-learn>=1.0.0 in /usr/local/lib/python3.10/site-packages (from pyLDAvis) (1.3.2)\n",
            "Requirement already satisfied: numpy>=1.24.2 in /usr/local/lib/python3.10/site-packages (from pyLDAvis) (1.26.2)\n",
            "Requirement already satisfied: gensim in /usr/local/lib/python3.10/site-packages (from pyLDAvis) (4.3.2)\n",
            "Requirement already satisfied: tzdata>=2022.1 in /usr/local/lib/python3.10/site-packages (from pandas>=2.0.0->pyLDAvis) (2023.3)\n",
            "Requirement already satisfied: pytz>=2020.1 in /usr/local/lib/python3.10/site-packages (from pandas>=2.0.0->pyLDAvis) (2023.3.post1)\n",
            "Requirement already satisfied: python-dateutil>=2.8.2 in /usr/local/lib/python3.10/site-packages (from pandas>=2.0.0->pyLDAvis) (2.8.2)\n",
            "Requirement already satisfied: threadpoolctl>=2.0.0 in /usr/local/lib/python3.10/site-packages (from scikit-learn>=1.0.0->pyLDAvis) (3.2.0)\n",
            "Requirement already satisfied: smart-open>=1.8.1 in /usr/local/lib/python3.10/site-packages (from gensim->pyLDAvis) (6.4.0)\n",
            "Requirement already satisfied: MarkupSafe>=2.0 in /usr/local/lib/python3.10/site-packages (from jinja2->pyLDAvis) (2.1.3)\n",
            "Requirement already satisfied: six>=1.5 in /usr/local/lib/python3.10/site-packages (from python-dateutil>=2.8.2->pandas>=2.0.0->pyLDAvis) (1.16.0)\n",
            "\u001b[33mWARNING: Running pip as the 'root' user can result in broken permissions and conflicting behaviour with the system package manager. It is recommended to use a virtual environment instead: https://pip.pypa.io/warnings/venv\u001b[0m\u001b[33m\n",
            "\u001b[0m"
          ]
        }
      ]
    },
    {
      "cell_type": "markdown",
      "source": [
        "앞으로 사용할 패키지를 설치하는 과정입니다.\n",
        "\n"
      ],
      "metadata": {
        "id": "ZgXWk8dGfZN6"
      }
    },
    {
      "cell_type": "markdown",
      "source": [
        "## 3) 패키지 import"
      ],
      "metadata": {
        "id": "68rwkDTmNZV1"
      }
    },
    {
      "cell_type": "code",
      "source": [
        "import numpy as np\n",
        "import pandas as pd\n",
        "import warnings\n",
        "warnings.filterwarnings(action='ignore')\n",
        "from konlpy.tag import Okt  # 변경: Mecab에서 Okt로\n",
        "okt = Okt()\n",
        "from tqdm import tqdm\n",
        "import re\n",
        "from gensim import corpora\n",
        "import gensim\n",
        "import pyLDAvis.gensim_models\n",
        "from collections import Counter"
      ],
      "metadata": {
        "id": "Ejq5DaZVnnIl"
      },
      "execution_count": 99,
      "outputs": []
    },
    {
      "cell_type": "markdown",
      "source": [
        "## 3) 리뷰 데이터 불러오기"
      ],
      "metadata": {
        "id": "uBwKHTFWNkli"
      }
    },
    {
      "cell_type": "markdown",
      "source": [
        "본인의 구글 드라이브에 기본 파일들을 옮겨 두었고, 마운트 해두었다는 가정 하에 밑의 코드들은 작동합니다.<br>\n",
        "코랩 왼쪽에 보시면 폴더 표시가 있는데 폴더에 들어가셔서 마운트가 된 것을 꼭 확인하세요!\n",
        "\n",
        "그 다음, data가 있는 곳에 우클릭을 하시고 '경로 복사'를 누르신 후 pd.read_csv()의 괄호 안 경로를 수정해 주시면 됩니다."
      ],
      "metadata": {
        "id": "ncOeGPjNffL7"
      }
    },
    {
      "cell_type": "code",
      "source": [
        "dataset = pd.read_csv(\"/content/drive/MyDrive/dongguk/reviews.csv\") #본인 경로로 수정\n",
        "dataset.head()"
      ],
      "metadata": {
        "id": "M9tjZFjwn1NW",
        "colab": {
          "base_uri": "https://localhost:8080/",
          "height": 920
        },
        "outputId": "d79d2db4-3806-4a34-b379-079215401459"
      },
      "execution_count": 100,
      "outputs": [
        {
          "output_type": "execute_result",
          "data": {
            "text/plain": [
              "                               reviewId                              userName  \\\n",
              "0  d4ba493c-9cf2-43f8-8595-1730585eef48                          Minjung Park   \n",
              "1  9472346a-69a1-42b0-8395-281a5cbddd8e                                    앙융   \n",
              "2  5249da8a-3abb-479a-9b4d-30869b80e1c3                                   도도넛   \n",
              "3  af3499bf-5b06-48d4-8600-bf639f3cdf95                              Daniel J   \n",
              "4  4a8dbb12-eba3-48d9-b034-5e707102bfe7  jsbachmoo7 loves all kinds of music.   \n",
              "\n",
              "                                           userImage  \\\n",
              "0  https://play-lh.googleusercontent.com/a/ACg8oc...   \n",
              "1  https://play-lh.googleusercontent.com/a/ACg8oc...   \n",
              "2  https://play-lh.googleusercontent.com/a-/ALV-U...   \n",
              "3  https://play-lh.googleusercontent.com/a/ACg8oc...   \n",
              "4  https://play-lh.googleusercontent.com/a-/ALV-U...   \n",
              "\n",
              "                                             content  score  thumbsUpCount  \\\n",
              "0  인스타 중독이 걱정될 정도로 재밌게 쓰고 있었는데 최근들어 버그도 너무 많고 수정은...      1            354   \n",
              "1  문의를 남겨도 전-혀 피드백이없어서 속터지는 마음에 남기는 리뷰. 1. 릴스 영상 ...      1           1109   \n",
              "2  최근게시물을 왜 볼 수 없게 해놓은건지 알것같지만 정말 답답하네요..ㅋㅋ 인기게시물...      1             85   \n",
              "3  사진 올릴때 특히 세로가 긴 사진은 짤리는 경우가 많습니다. 근데 또 지금은 안짤리...      1              1   \n",
              "4  원래 컴퓨터와 전화기에서 동시에 로그인으로 사용할수 있었는데, 왜 갑자기 전화기에서...      1              4   \n",
              "\n",
              "  reviewCreatedVersion                   at  replyContent  repliedAt  \\\n",
              "0       304.0.0.35.106  2023-10-16 11:54:06           NaN        NaN   \n",
              "1       301.1.0.33.110  2023-09-22 08:00:50           NaN        NaN   \n",
              "2       307.0.0.34.111  2023-11-01 04:43:29           NaN        NaN   \n",
              "3       307.0.0.34.111  2023-11-06 15:34:00           NaN        NaN   \n",
              "4       307.0.0.34.111  2023-11-03 06:51:16           NaN        NaN   \n",
              "\n",
              "       appVersion      sortOrder                  appId  \n",
              "0  304.0.0.35.106  most_relevant  com.instagram.android  \n",
              "1  301.1.0.33.110  most_relevant  com.instagram.android  \n",
              "2  307.0.0.34.111  most_relevant  com.instagram.android  \n",
              "3  307.0.0.34.111  most_relevant  com.instagram.android  \n",
              "4  307.0.0.34.111  most_relevant  com.instagram.android  "
            ],
            "text/html": [
              "\n",
              "  <div id=\"df-162d0fbc-e15e-424a-9fe2-cc1d35157d7d\" class=\"colab-df-container\">\n",
              "    <div>\n",
              "<style scoped>\n",
              "    .dataframe tbody tr th:only-of-type {\n",
              "        vertical-align: middle;\n",
              "    }\n",
              "\n",
              "    .dataframe tbody tr th {\n",
              "        vertical-align: top;\n",
              "    }\n",
              "\n",
              "    .dataframe thead th {\n",
              "        text-align: right;\n",
              "    }\n",
              "</style>\n",
              "<table border=\"1\" class=\"dataframe\">\n",
              "  <thead>\n",
              "    <tr style=\"text-align: right;\">\n",
              "      <th></th>\n",
              "      <th>reviewId</th>\n",
              "      <th>userName</th>\n",
              "      <th>userImage</th>\n",
              "      <th>content</th>\n",
              "      <th>score</th>\n",
              "      <th>thumbsUpCount</th>\n",
              "      <th>reviewCreatedVersion</th>\n",
              "      <th>at</th>\n",
              "      <th>replyContent</th>\n",
              "      <th>repliedAt</th>\n",
              "      <th>appVersion</th>\n",
              "      <th>sortOrder</th>\n",
              "      <th>appId</th>\n",
              "    </tr>\n",
              "  </thead>\n",
              "  <tbody>\n",
              "    <tr>\n",
              "      <th>0</th>\n",
              "      <td>d4ba493c-9cf2-43f8-8595-1730585eef48</td>\n",
              "      <td>Minjung Park</td>\n",
              "      <td>https://play-lh.googleusercontent.com/a/ACg8oc...</td>\n",
              "      <td>인스타 중독이 걱정될 정도로 재밌게 쓰고 있었는데 최근들어 버그도 너무 많고 수정은...</td>\n",
              "      <td>1</td>\n",
              "      <td>354</td>\n",
              "      <td>304.0.0.35.106</td>\n",
              "      <td>2023-10-16 11:54:06</td>\n",
              "      <td>NaN</td>\n",
              "      <td>NaN</td>\n",
              "      <td>304.0.0.35.106</td>\n",
              "      <td>most_relevant</td>\n",
              "      <td>com.instagram.android</td>\n",
              "    </tr>\n",
              "    <tr>\n",
              "      <th>1</th>\n",
              "      <td>9472346a-69a1-42b0-8395-281a5cbddd8e</td>\n",
              "      <td>앙융</td>\n",
              "      <td>https://play-lh.googleusercontent.com/a/ACg8oc...</td>\n",
              "      <td>문의를 남겨도 전-혀 피드백이없어서 속터지는 마음에 남기는 리뷰. 1. 릴스 영상 ...</td>\n",
              "      <td>1</td>\n",
              "      <td>1109</td>\n",
              "      <td>301.1.0.33.110</td>\n",
              "      <td>2023-09-22 08:00:50</td>\n",
              "      <td>NaN</td>\n",
              "      <td>NaN</td>\n",
              "      <td>301.1.0.33.110</td>\n",
              "      <td>most_relevant</td>\n",
              "      <td>com.instagram.android</td>\n",
              "    </tr>\n",
              "    <tr>\n",
              "      <th>2</th>\n",
              "      <td>5249da8a-3abb-479a-9b4d-30869b80e1c3</td>\n",
              "      <td>도도넛</td>\n",
              "      <td>https://play-lh.googleusercontent.com/a-/ALV-U...</td>\n",
              "      <td>최근게시물을 왜 볼 수 없게 해놓은건지 알것같지만 정말 답답하네요..ㅋㅋ 인기게시물...</td>\n",
              "      <td>1</td>\n",
              "      <td>85</td>\n",
              "      <td>307.0.0.34.111</td>\n",
              "      <td>2023-11-01 04:43:29</td>\n",
              "      <td>NaN</td>\n",
              "      <td>NaN</td>\n",
              "      <td>307.0.0.34.111</td>\n",
              "      <td>most_relevant</td>\n",
              "      <td>com.instagram.android</td>\n",
              "    </tr>\n",
              "    <tr>\n",
              "      <th>3</th>\n",
              "      <td>af3499bf-5b06-48d4-8600-bf639f3cdf95</td>\n",
              "      <td>Daniel J</td>\n",
              "      <td>https://play-lh.googleusercontent.com/a/ACg8oc...</td>\n",
              "      <td>사진 올릴때 특히 세로가 긴 사진은 짤리는 경우가 많습니다. 근데 또 지금은 안짤리...</td>\n",
              "      <td>1</td>\n",
              "      <td>1</td>\n",
              "      <td>307.0.0.34.111</td>\n",
              "      <td>2023-11-06 15:34:00</td>\n",
              "      <td>NaN</td>\n",
              "      <td>NaN</td>\n",
              "      <td>307.0.0.34.111</td>\n",
              "      <td>most_relevant</td>\n",
              "      <td>com.instagram.android</td>\n",
              "    </tr>\n",
              "    <tr>\n",
              "      <th>4</th>\n",
              "      <td>4a8dbb12-eba3-48d9-b034-5e707102bfe7</td>\n",
              "      <td>jsbachmoo7 loves all kinds of music.</td>\n",
              "      <td>https://play-lh.googleusercontent.com/a-/ALV-U...</td>\n",
              "      <td>원래 컴퓨터와 전화기에서 동시에 로그인으로 사용할수 있었는데, 왜 갑자기 전화기에서...</td>\n",
              "      <td>1</td>\n",
              "      <td>4</td>\n",
              "      <td>307.0.0.34.111</td>\n",
              "      <td>2023-11-03 06:51:16</td>\n",
              "      <td>NaN</td>\n",
              "      <td>NaN</td>\n",
              "      <td>307.0.0.34.111</td>\n",
              "      <td>most_relevant</td>\n",
              "      <td>com.instagram.android</td>\n",
              "    </tr>\n",
              "  </tbody>\n",
              "</table>\n",
              "</div>\n",
              "    <div class=\"colab-df-buttons\">\n",
              "\n",
              "  <div class=\"colab-df-container\">\n",
              "    <button class=\"colab-df-convert\" onclick=\"convertToInteractive('df-162d0fbc-e15e-424a-9fe2-cc1d35157d7d')\"\n",
              "            title=\"Convert this dataframe to an interactive table.\"\n",
              "            style=\"display:none;\">\n",
              "\n",
              "  <svg xmlns=\"http://www.w3.org/2000/svg\" height=\"24px\" viewBox=\"0 -960 960 960\">\n",
              "    <path d=\"M120-120v-720h720v720H120Zm60-500h600v-160H180v160Zm220 220h160v-160H400v160Zm0 220h160v-160H400v160ZM180-400h160v-160H180v160Zm440 0h160v-160H620v160ZM180-180h160v-160H180v160Zm440 0h160v-160H620v160Z\"/>\n",
              "  </svg>\n",
              "    </button>\n",
              "\n",
              "  <style>\n",
              "    .colab-df-container {\n",
              "      display:flex;\n",
              "      gap: 12px;\n",
              "    }\n",
              "\n",
              "    .colab-df-convert {\n",
              "      background-color: #E8F0FE;\n",
              "      border: none;\n",
              "      border-radius: 50%;\n",
              "      cursor: pointer;\n",
              "      display: none;\n",
              "      fill: #1967D2;\n",
              "      height: 32px;\n",
              "      padding: 0 0 0 0;\n",
              "      width: 32px;\n",
              "    }\n",
              "\n",
              "    .colab-df-convert:hover {\n",
              "      background-color: #E2EBFA;\n",
              "      box-shadow: 0px 1px 2px rgba(60, 64, 67, 0.3), 0px 1px 3px 1px rgba(60, 64, 67, 0.15);\n",
              "      fill: #174EA6;\n",
              "    }\n",
              "\n",
              "    .colab-df-buttons div {\n",
              "      margin-bottom: 4px;\n",
              "    }\n",
              "\n",
              "    [theme=dark] .colab-df-convert {\n",
              "      background-color: #3B4455;\n",
              "      fill: #D2E3FC;\n",
              "    }\n",
              "\n",
              "    [theme=dark] .colab-df-convert:hover {\n",
              "      background-color: #434B5C;\n",
              "      box-shadow: 0px 1px 3px 1px rgba(0, 0, 0, 0.15);\n",
              "      filter: drop-shadow(0px 1px 2px rgba(0, 0, 0, 0.3));\n",
              "      fill: #FFFFFF;\n",
              "    }\n",
              "  </style>\n",
              "\n",
              "    <script>\n",
              "      const buttonEl =\n",
              "        document.querySelector('#df-162d0fbc-e15e-424a-9fe2-cc1d35157d7d button.colab-df-convert');\n",
              "      buttonEl.style.display =\n",
              "        google.colab.kernel.accessAllowed ? 'block' : 'none';\n",
              "\n",
              "      async function convertToInteractive(key) {\n",
              "        const element = document.querySelector('#df-162d0fbc-e15e-424a-9fe2-cc1d35157d7d');\n",
              "        const dataTable =\n",
              "          await google.colab.kernel.invokeFunction('convertToInteractive',\n",
              "                                                    [key], {});\n",
              "        if (!dataTable) return;\n",
              "\n",
              "        const docLinkHtml = 'Like what you see? Visit the ' +\n",
              "          '<a target=\"_blank\" href=https://colab.research.google.com/notebooks/data_table.ipynb>data table notebook</a>'\n",
              "          + ' to learn more about interactive tables.';\n",
              "        element.innerHTML = '';\n",
              "        dataTable['output_type'] = 'display_data';\n",
              "        await google.colab.output.renderOutput(dataTable, element);\n",
              "        const docLink = document.createElement('div');\n",
              "        docLink.innerHTML = docLinkHtml;\n",
              "        element.appendChild(docLink);\n",
              "      }\n",
              "    </script>\n",
              "  </div>\n",
              "\n",
              "\n",
              "<div id=\"df-1e34b764-2b01-4974-b903-a99bc36546ec\">\n",
              "  <button class=\"colab-df-quickchart\" onclick=\"quickchart('df-1e34b764-2b01-4974-b903-a99bc36546ec')\"\n",
              "            title=\"Suggest charts\"\n",
              "            style=\"display:none;\">\n",
              "\n",
              "<svg xmlns=\"http://www.w3.org/2000/svg\" height=\"24px\"viewBox=\"0 0 24 24\"\n",
              "     width=\"24px\">\n",
              "    <g>\n",
              "        <path d=\"M19 3H5c-1.1 0-2 .9-2 2v14c0 1.1.9 2 2 2h14c1.1 0 2-.9 2-2V5c0-1.1-.9-2-2-2zM9 17H7v-7h2v7zm4 0h-2V7h2v10zm4 0h-2v-4h2v4z\"/>\n",
              "    </g>\n",
              "</svg>\n",
              "  </button>\n",
              "\n",
              "<style>\n",
              "  .colab-df-quickchart {\n",
              "      --bg-color: #E8F0FE;\n",
              "      --fill-color: #1967D2;\n",
              "      --hover-bg-color: #E2EBFA;\n",
              "      --hover-fill-color: #174EA6;\n",
              "      --disabled-fill-color: #AAA;\n",
              "      --disabled-bg-color: #DDD;\n",
              "  }\n",
              "\n",
              "  [theme=dark] .colab-df-quickchart {\n",
              "      --bg-color: #3B4455;\n",
              "      --fill-color: #D2E3FC;\n",
              "      --hover-bg-color: #434B5C;\n",
              "      --hover-fill-color: #FFFFFF;\n",
              "      --disabled-bg-color: #3B4455;\n",
              "      --disabled-fill-color: #666;\n",
              "  }\n",
              "\n",
              "  .colab-df-quickchart {\n",
              "    background-color: var(--bg-color);\n",
              "    border: none;\n",
              "    border-radius: 50%;\n",
              "    cursor: pointer;\n",
              "    display: none;\n",
              "    fill: var(--fill-color);\n",
              "    height: 32px;\n",
              "    padding: 0;\n",
              "    width: 32px;\n",
              "  }\n",
              "\n",
              "  .colab-df-quickchart:hover {\n",
              "    background-color: var(--hover-bg-color);\n",
              "    box-shadow: 0 1px 2px rgba(60, 64, 67, 0.3), 0 1px 3px 1px rgba(60, 64, 67, 0.15);\n",
              "    fill: var(--button-hover-fill-color);\n",
              "  }\n",
              "\n",
              "  .colab-df-quickchart-complete:disabled,\n",
              "  .colab-df-quickchart-complete:disabled:hover {\n",
              "    background-color: var(--disabled-bg-color);\n",
              "    fill: var(--disabled-fill-color);\n",
              "    box-shadow: none;\n",
              "  }\n",
              "\n",
              "  .colab-df-spinner {\n",
              "    border: 2px solid var(--fill-color);\n",
              "    border-color: transparent;\n",
              "    border-bottom-color: var(--fill-color);\n",
              "    animation:\n",
              "      spin 1s steps(1) infinite;\n",
              "  }\n",
              "\n",
              "  @keyframes spin {\n",
              "    0% {\n",
              "      border-color: transparent;\n",
              "      border-bottom-color: var(--fill-color);\n",
              "      border-left-color: var(--fill-color);\n",
              "    }\n",
              "    20% {\n",
              "      border-color: transparent;\n",
              "      border-left-color: var(--fill-color);\n",
              "      border-top-color: var(--fill-color);\n",
              "    }\n",
              "    30% {\n",
              "      border-color: transparent;\n",
              "      border-left-color: var(--fill-color);\n",
              "      border-top-color: var(--fill-color);\n",
              "      border-right-color: var(--fill-color);\n",
              "    }\n",
              "    40% {\n",
              "      border-color: transparent;\n",
              "      border-right-color: var(--fill-color);\n",
              "      border-top-color: var(--fill-color);\n",
              "    }\n",
              "    60% {\n",
              "      border-color: transparent;\n",
              "      border-right-color: var(--fill-color);\n",
              "    }\n",
              "    80% {\n",
              "      border-color: transparent;\n",
              "      border-right-color: var(--fill-color);\n",
              "      border-bottom-color: var(--fill-color);\n",
              "    }\n",
              "    90% {\n",
              "      border-color: transparent;\n",
              "      border-bottom-color: var(--fill-color);\n",
              "    }\n",
              "  }\n",
              "</style>\n",
              "\n",
              "  <script>\n",
              "    async function quickchart(key) {\n",
              "      const quickchartButtonEl =\n",
              "        document.querySelector('#' + key + ' button');\n",
              "      quickchartButtonEl.disabled = true;  // To prevent multiple clicks.\n",
              "      quickchartButtonEl.classList.add('colab-df-spinner');\n",
              "      try {\n",
              "        const charts = await google.colab.kernel.invokeFunction(\n",
              "            'suggestCharts', [key], {});\n",
              "      } catch (error) {\n",
              "        console.error('Error during call to suggestCharts:', error);\n",
              "      }\n",
              "      quickchartButtonEl.classList.remove('colab-df-spinner');\n",
              "      quickchartButtonEl.classList.add('colab-df-quickchart-complete');\n",
              "    }\n",
              "    (() => {\n",
              "      let quickchartButtonEl =\n",
              "        document.querySelector('#df-1e34b764-2b01-4974-b903-a99bc36546ec button');\n",
              "      quickchartButtonEl.style.display =\n",
              "        google.colab.kernel.accessAllowed ? 'block' : 'none';\n",
              "    })();\n",
              "  </script>\n",
              "</div>\n",
              "    </div>\n",
              "  </div>\n"
            ]
          },
          "metadata": {},
          "execution_count": 100
        }
      ]
    },
    {
      "cell_type": "markdown",
      "source": [
        "* pd.read_excel(’엑셀 파일 디렉토리’) : 엑셀 파일 가져오기 함수\n",
        "\n",
        "* head() : 상위 5행을 출력"
      ],
      "metadata": {
        "id": "7aTLjWzPbLPj"
      }
    },
    {
      "cell_type": "markdown",
      "source": [
        "**요약**\n",
        "\n",
        "위의 과정에서는 dataset_raw는 시트 이름을 지정하고, head() 함수를 통해 불러온 시트가 잘 불러와졌나 head 함수를 통해 확인해 보았습니다."
      ],
      "metadata": {
        "id": "NL6E1vcgbNqn"
      }
    },
    {
      "cell_type": "markdown",
      "source": [
        "## 4) 데이터 탐색"
      ],
      "metadata": {
        "id": "58M0gV9_LL-2"
      }
    },
    {
      "cell_type": "markdown",
      "source": [
        "결측치 존재 여부, 데이터 타입, 데이터 개수를 확인"
      ],
      "metadata": {
        "id": "Q_KXK6gBbP_k"
      }
    },
    {
      "cell_type": "code",
      "source": [
        "dataset.info()"
      ],
      "metadata": {
        "id": "Geuf5AGmnyki",
        "colab": {
          "base_uri": "https://localhost:8080/"
        },
        "outputId": "b52110f0-51f6-48dc-e7c8-1fa27c05e68a"
      },
      "execution_count": 101,
      "outputs": [
        {
          "output_type": "stream",
          "name": "stdout",
          "text": [
            "<class 'pandas.core.frame.DataFrame'>\n",
            "RangeIndex: 1200 entries, 0 to 1199\n",
            "Data columns (total 13 columns):\n",
            " #   Column                Non-Null Count  Dtype  \n",
            "---  ------                --------------  -----  \n",
            " 0   reviewId              1200 non-null   object \n",
            " 1   userName              1200 non-null   object \n",
            " 2   userImage             1200 non-null   object \n",
            " 3   content               1200 non-null   object \n",
            " 4   score                 1200 non-null   int64  \n",
            " 5   thumbsUpCount         1200 non-null   int64  \n",
            " 6   reviewCreatedVersion  1099 non-null   object \n",
            " 7   at                    1200 non-null   object \n",
            " 8   replyContent          0 non-null      float64\n",
            " 9   repliedAt             0 non-null      float64\n",
            " 10  appVersion            1099 non-null   object \n",
            " 11  sortOrder             1200 non-null   object \n",
            " 12  appId                 1200 non-null   object \n",
            "dtypes: float64(2), int64(2), object(9)\n",
            "memory usage: 122.0+ KB\n"
          ]
        }
      ]
    },
    {
      "cell_type": "markdown",
      "source": [
        "* info() : 데이터의 정보를 출력"
      ],
      "metadata": {
        "id": "kITlfjPpbRfI"
      }
    },
    {
      "cell_type": "markdown",
      "source": [
        "**요약**\n",
        "\n",
        "행과 열의 크기, 컬럼명, 컬럼을 구성하는 값의 자료형 등을 출력했습니다.\n",
        "\n",
        "보통 이 절차를 통해 결측치 존재 여부, 데이터 타입, 데이터 개수 등을 확인합니다."
      ],
      "metadata": {
        "id": "5Qcwl3PWbUuZ"
      }
    },
    {
      "cell_type": "markdown",
      "source": [
        "# 2. 데이터 전처리\n"
      ],
      "metadata": {
        "id": "ArnlKAkzlRRN"
      }
    },
    {
      "cell_type": "markdown",
      "source": [
        "## 1) 결측치 확인"
      ],
      "metadata": {
        "id": "KBTmfNBLNsYw"
      }
    },
    {
      "cell_type": "code",
      "source": [
        "dataset.isnull().sum()"
      ],
      "metadata": {
        "id": "mmcv2HUULUgK",
        "colab": {
          "base_uri": "https://localhost:8080/"
        },
        "outputId": "a68b4dba-4f3c-4de7-f372-ef0648066a35"
      },
      "execution_count": 102,
      "outputs": [
        {
          "output_type": "execute_result",
          "data": {
            "text/plain": [
              "reviewId                   0\n",
              "userName                   0\n",
              "userImage                  0\n",
              "content                    0\n",
              "score                      0\n",
              "thumbsUpCount              0\n",
              "reviewCreatedVersion     101\n",
              "at                         0\n",
              "replyContent            1200\n",
              "repliedAt               1200\n",
              "appVersion               101\n",
              "sortOrder                  0\n",
              "appId                      0\n",
              "dtype: int64"
            ]
          },
          "metadata": {},
          "execution_count": 102
        }
      ]
    },
    {
      "cell_type": "markdown",
      "source": [
        "결측치가 있지만 우리는 score, content만 활용할 예정이기 때문에 따로 전처리 메소드를 사용하지는 않겠습니다."
      ],
      "metadata": {
        "id": "1mBC0scsbYYw"
      }
    },
    {
      "cell_type": "markdown",
      "source": [
        "* isnull() : 데이터프레임의 각 요소(element)가 결측값(null 또는 NaN)인지 여부를 나타내는 Boolean 값을 가지는 동일한 모양의 데이터프레임을 반환한다. 결측값이면 True, 그렇지 않으면 False가 된다.\n",
        "\n",
        "* sum() : 각 열의 결측값(True의 개수)을 계산하여 열별로 합산합니다. 결과는 각 열에 대한 결측값의 개수를 나타내는 시리즈(Series)나 데이터프레임이 된다."
      ],
      "metadata": {
        "id": "RZKk5UIwyNz1"
      }
    },
    {
      "cell_type": "markdown",
      "source": [
        "**요약**\n",
        "\n",
        "불러온 데이터에 결측치가 있는지 확인해 보았습니다."
      ],
      "metadata": {
        "id": "tWGpW8RObbV1"
      }
    },
    {
      "cell_type": "markdown",
      "source": [
        "## 2) 전처리용 Dictionary 불러오기"
      ],
      "metadata": {
        "id": "d5ERfvhZL9iO"
      }
    },
    {
      "cell_type": "markdown",
      "source": [
        "불용어 리스트를 불러옵니다. (방법은 지금까지 한 방법과 동일합니다.)"
      ],
      "metadata": {
        "id": "_xUMxGuGb1FQ"
      }
    },
    {
      "cell_type": "code",
      "source": [
        "stopword_list = pd.read_excel('/content/drive/MyDrive/dongguk/stopword_list.xlsx') #본인 경로로 수정\n",
        "stopword_list.head()"
      ],
      "metadata": {
        "id": "fd0fb081MBRR",
        "colab": {
          "base_uri": "https://localhost:8080/",
          "height": 206
        },
        "outputId": "9c1baf88-7b43-41bf-ec43-971c414a96d4"
      },
      "execution_count": 103,
      "outputs": [
        {
          "output_type": "execute_result",
          "data": {
            "text/plain": [
              "  stopword\n",
              "0     가까스로\n",
              "1       가량\n",
              "2       가령\n",
              "3       가민\n",
              "4    가민커넥트"
            ],
            "text/html": [
              "\n",
              "  <div id=\"df-14edfc3a-69a2-4bf9-8795-890a8d503d66\" class=\"colab-df-container\">\n",
              "    <div>\n",
              "<style scoped>\n",
              "    .dataframe tbody tr th:only-of-type {\n",
              "        vertical-align: middle;\n",
              "    }\n",
              "\n",
              "    .dataframe tbody tr th {\n",
              "        vertical-align: top;\n",
              "    }\n",
              "\n",
              "    .dataframe thead th {\n",
              "        text-align: right;\n",
              "    }\n",
              "</style>\n",
              "<table border=\"1\" class=\"dataframe\">\n",
              "  <thead>\n",
              "    <tr style=\"text-align: right;\">\n",
              "      <th></th>\n",
              "      <th>stopword</th>\n",
              "    </tr>\n",
              "  </thead>\n",
              "  <tbody>\n",
              "    <tr>\n",
              "      <th>0</th>\n",
              "      <td>가까스로</td>\n",
              "    </tr>\n",
              "    <tr>\n",
              "      <th>1</th>\n",
              "      <td>가량</td>\n",
              "    </tr>\n",
              "    <tr>\n",
              "      <th>2</th>\n",
              "      <td>가령</td>\n",
              "    </tr>\n",
              "    <tr>\n",
              "      <th>3</th>\n",
              "      <td>가민</td>\n",
              "    </tr>\n",
              "    <tr>\n",
              "      <th>4</th>\n",
              "      <td>가민커넥트</td>\n",
              "    </tr>\n",
              "  </tbody>\n",
              "</table>\n",
              "</div>\n",
              "    <div class=\"colab-df-buttons\">\n",
              "\n",
              "  <div class=\"colab-df-container\">\n",
              "    <button class=\"colab-df-convert\" onclick=\"convertToInteractive('df-14edfc3a-69a2-4bf9-8795-890a8d503d66')\"\n",
              "            title=\"Convert this dataframe to an interactive table.\"\n",
              "            style=\"display:none;\">\n",
              "\n",
              "  <svg xmlns=\"http://www.w3.org/2000/svg\" height=\"24px\" viewBox=\"0 -960 960 960\">\n",
              "    <path d=\"M120-120v-720h720v720H120Zm60-500h600v-160H180v160Zm220 220h160v-160H400v160Zm0 220h160v-160H400v160ZM180-400h160v-160H180v160Zm440 0h160v-160H620v160ZM180-180h160v-160H180v160Zm440 0h160v-160H620v160Z\"/>\n",
              "  </svg>\n",
              "    </button>\n",
              "\n",
              "  <style>\n",
              "    .colab-df-container {\n",
              "      display:flex;\n",
              "      gap: 12px;\n",
              "    }\n",
              "\n",
              "    .colab-df-convert {\n",
              "      background-color: #E8F0FE;\n",
              "      border: none;\n",
              "      border-radius: 50%;\n",
              "      cursor: pointer;\n",
              "      display: none;\n",
              "      fill: #1967D2;\n",
              "      height: 32px;\n",
              "      padding: 0 0 0 0;\n",
              "      width: 32px;\n",
              "    }\n",
              "\n",
              "    .colab-df-convert:hover {\n",
              "      background-color: #E2EBFA;\n",
              "      box-shadow: 0px 1px 2px rgba(60, 64, 67, 0.3), 0px 1px 3px 1px rgba(60, 64, 67, 0.15);\n",
              "      fill: #174EA6;\n",
              "    }\n",
              "\n",
              "    .colab-df-buttons div {\n",
              "      margin-bottom: 4px;\n",
              "    }\n",
              "\n",
              "    [theme=dark] .colab-df-convert {\n",
              "      background-color: #3B4455;\n",
              "      fill: #D2E3FC;\n",
              "    }\n",
              "\n",
              "    [theme=dark] .colab-df-convert:hover {\n",
              "      background-color: #434B5C;\n",
              "      box-shadow: 0px 1px 3px 1px rgba(0, 0, 0, 0.15);\n",
              "      filter: drop-shadow(0px 1px 2px rgba(0, 0, 0, 0.3));\n",
              "      fill: #FFFFFF;\n",
              "    }\n",
              "  </style>\n",
              "\n",
              "    <script>\n",
              "      const buttonEl =\n",
              "        document.querySelector('#df-14edfc3a-69a2-4bf9-8795-890a8d503d66 button.colab-df-convert');\n",
              "      buttonEl.style.display =\n",
              "        google.colab.kernel.accessAllowed ? 'block' : 'none';\n",
              "\n",
              "      async function convertToInteractive(key) {\n",
              "        const element = document.querySelector('#df-14edfc3a-69a2-4bf9-8795-890a8d503d66');\n",
              "        const dataTable =\n",
              "          await google.colab.kernel.invokeFunction('convertToInteractive',\n",
              "                                                    [key], {});\n",
              "        if (!dataTable) return;\n",
              "\n",
              "        const docLinkHtml = 'Like what you see? Visit the ' +\n",
              "          '<a target=\"_blank\" href=https://colab.research.google.com/notebooks/data_table.ipynb>data table notebook</a>'\n",
              "          + ' to learn more about interactive tables.';\n",
              "        element.innerHTML = '';\n",
              "        dataTable['output_type'] = 'display_data';\n",
              "        await google.colab.output.renderOutput(dataTable, element);\n",
              "        const docLink = document.createElement('div');\n",
              "        docLink.innerHTML = docLinkHtml;\n",
              "        element.appendChild(docLink);\n",
              "      }\n",
              "    </script>\n",
              "  </div>\n",
              "\n",
              "\n",
              "<div id=\"df-c3839a7c-a963-4008-9b89-0c288ec89d7f\">\n",
              "  <button class=\"colab-df-quickchart\" onclick=\"quickchart('df-c3839a7c-a963-4008-9b89-0c288ec89d7f')\"\n",
              "            title=\"Suggest charts\"\n",
              "            style=\"display:none;\">\n",
              "\n",
              "<svg xmlns=\"http://www.w3.org/2000/svg\" height=\"24px\"viewBox=\"0 0 24 24\"\n",
              "     width=\"24px\">\n",
              "    <g>\n",
              "        <path d=\"M19 3H5c-1.1 0-2 .9-2 2v14c0 1.1.9 2 2 2h14c1.1 0 2-.9 2-2V5c0-1.1-.9-2-2-2zM9 17H7v-7h2v7zm4 0h-2V7h2v10zm4 0h-2v-4h2v4z\"/>\n",
              "    </g>\n",
              "</svg>\n",
              "  </button>\n",
              "\n",
              "<style>\n",
              "  .colab-df-quickchart {\n",
              "      --bg-color: #E8F0FE;\n",
              "      --fill-color: #1967D2;\n",
              "      --hover-bg-color: #E2EBFA;\n",
              "      --hover-fill-color: #174EA6;\n",
              "      --disabled-fill-color: #AAA;\n",
              "      --disabled-bg-color: #DDD;\n",
              "  }\n",
              "\n",
              "  [theme=dark] .colab-df-quickchart {\n",
              "      --bg-color: #3B4455;\n",
              "      --fill-color: #D2E3FC;\n",
              "      --hover-bg-color: #434B5C;\n",
              "      --hover-fill-color: #FFFFFF;\n",
              "      --disabled-bg-color: #3B4455;\n",
              "      --disabled-fill-color: #666;\n",
              "  }\n",
              "\n",
              "  .colab-df-quickchart {\n",
              "    background-color: var(--bg-color);\n",
              "    border: none;\n",
              "    border-radius: 50%;\n",
              "    cursor: pointer;\n",
              "    display: none;\n",
              "    fill: var(--fill-color);\n",
              "    height: 32px;\n",
              "    padding: 0;\n",
              "    width: 32px;\n",
              "  }\n",
              "\n",
              "  .colab-df-quickchart:hover {\n",
              "    background-color: var(--hover-bg-color);\n",
              "    box-shadow: 0 1px 2px rgba(60, 64, 67, 0.3), 0 1px 3px 1px rgba(60, 64, 67, 0.15);\n",
              "    fill: var(--button-hover-fill-color);\n",
              "  }\n",
              "\n",
              "  .colab-df-quickchart-complete:disabled,\n",
              "  .colab-df-quickchart-complete:disabled:hover {\n",
              "    background-color: var(--disabled-bg-color);\n",
              "    fill: var(--disabled-fill-color);\n",
              "    box-shadow: none;\n",
              "  }\n",
              "\n",
              "  .colab-df-spinner {\n",
              "    border: 2px solid var(--fill-color);\n",
              "    border-color: transparent;\n",
              "    border-bottom-color: var(--fill-color);\n",
              "    animation:\n",
              "      spin 1s steps(1) infinite;\n",
              "  }\n",
              "\n",
              "  @keyframes spin {\n",
              "    0% {\n",
              "      border-color: transparent;\n",
              "      border-bottom-color: var(--fill-color);\n",
              "      border-left-color: var(--fill-color);\n",
              "    }\n",
              "    20% {\n",
              "      border-color: transparent;\n",
              "      border-left-color: var(--fill-color);\n",
              "      border-top-color: var(--fill-color);\n",
              "    }\n",
              "    30% {\n",
              "      border-color: transparent;\n",
              "      border-left-color: var(--fill-color);\n",
              "      border-top-color: var(--fill-color);\n",
              "      border-right-color: var(--fill-color);\n",
              "    }\n",
              "    40% {\n",
              "      border-color: transparent;\n",
              "      border-right-color: var(--fill-color);\n",
              "      border-top-color: var(--fill-color);\n",
              "    }\n",
              "    60% {\n",
              "      border-color: transparent;\n",
              "      border-right-color: var(--fill-color);\n",
              "    }\n",
              "    80% {\n",
              "      border-color: transparent;\n",
              "      border-right-color: var(--fill-color);\n",
              "      border-bottom-color: var(--fill-color);\n",
              "    }\n",
              "    90% {\n",
              "      border-color: transparent;\n",
              "      border-bottom-color: var(--fill-color);\n",
              "    }\n",
              "  }\n",
              "</style>\n",
              "\n",
              "  <script>\n",
              "    async function quickchart(key) {\n",
              "      const quickchartButtonEl =\n",
              "        document.querySelector('#' + key + ' button');\n",
              "      quickchartButtonEl.disabled = true;  // To prevent multiple clicks.\n",
              "      quickchartButtonEl.classList.add('colab-df-spinner');\n",
              "      try {\n",
              "        const charts = await google.colab.kernel.invokeFunction(\n",
              "            'suggestCharts', [key], {});\n",
              "      } catch (error) {\n",
              "        console.error('Error during call to suggestCharts:', error);\n",
              "      }\n",
              "      quickchartButtonEl.classList.remove('colab-df-spinner');\n",
              "      quickchartButtonEl.classList.add('colab-df-quickchart-complete');\n",
              "    }\n",
              "    (() => {\n",
              "      let quickchartButtonEl =\n",
              "        document.querySelector('#df-c3839a7c-a963-4008-9b89-0c288ec89d7f button');\n",
              "      quickchartButtonEl.style.display =\n",
              "        google.colab.kernel.accessAllowed ? 'block' : 'none';\n",
              "    })();\n",
              "  </script>\n",
              "</div>\n",
              "    </div>\n",
              "  </div>\n"
            ]
          },
          "metadata": {},
          "execution_count": 103
        }
      ]
    },
    {
      "cell_type": "code",
      "source": [
        "from konlpy.tag import Komoran\n",
        "\n",
        "# dataset의 'content' 열을 기반으로 review_prep 열 생성\n",
        "dataset['review_prep'] = dataset['content']\n",
        "\n",
        "# stopword_list에 해당하는 단어 제거\n",
        "for stopword in stopword_list['stopword']:\n",
        "    dataset['review_prep'] = dataset['review_prep'].str.replace(rf'\\b{stopword}\\b', '')"
      ],
      "metadata": {
        "id": "bf5dC_kpvwnz"
      },
      "execution_count": 104,
      "outputs": []
    },
    {
      "cell_type": "markdown",
      "source": [
        "1. from konlpy.tag import Komoran: KoNLPy 라이브러리에서 형태소 분석기인 Komoran을 가져옵니다. 이를 활용하여 한국어 텍스트를 형태소로 분석할 것입니다.\n",
        "\n",
        "2. dataset['review_prep'] = dataset['content']: 'content' 열의 내용을 그대로 가져와서 'review_prep'라는 새로운 열을 생성합니다. 여기에 전처리가 이루어질 것입니다.\n",
        "\n",
        "3. for stopword in stopword_list['stopword']:: 'stopword_list'에 있는 각 stopword에 대해서 반복합니다.\n",
        "\n",
        "4. dataset['review_prep'] = dataset['review_prep'].str.replace(rf'\\b{stopword}\\b', ''): 'review_prep' 열의 각 텍스트에 대해, 정규표현식을 사용하여 해당 stopword를 단어 단위로 찾아 제거합니다. \\b는 단어 경계를 의미하며, 정확한 단어만을 대상으로 치환하도록 합니다."
      ],
      "metadata": {
        "id": "MmItv2LsyWlR"
      }
    },
    {
      "cell_type": "markdown",
      "source": [
        "**요약**\n",
        "\n",
        "전처리를 위해 미리 만들어 둔 불용어 리스트를 불러왔고 불용어를 제거했습니다."
      ],
      "metadata": {
        "id": "_kRMOXr3b28M"
      }
    },
    {
      "cell_type": "markdown",
      "source": [
        "## 3) 한글 외 텍스트 제거"
      ],
      "metadata": {
        "id": "fmFmzUxTOCr2"
      }
    },
    {
      "cell_type": "markdown",
      "source": [
        "숫자, 특수문자, 영문 등 서비스 경험과 관련된 의미를 추출해 내기 어려운 모든 문자열을 제거합니다."
      ],
      "metadata": {
        "id": "VedF1aVdyhgO"
      }
    },
    {
      "cell_type": "code",
      "source": [
        "review_removed = list(map(lambda review: re.sub('[^가-힣 ]', '', review), dataset['review_prep']))\n",
        "dataset['review_prep'] = review_removed"
      ],
      "metadata": {
        "id": "r2GqyaJZMkzg"
      },
      "execution_count": 105,
      "outputs": []
    },
    {
      "cell_type": "markdown",
      "source": [
        "\n",
        "* re.sub() : 정규 표현식에 매치되는 부분을 공백으로 치환하여 해당 리뷰의 문자열을 반환\n",
        "\n",
        "* lambda : 함수를 사용하여 각 리뷰에 대해 정규 표현식을 적용한다. 위의 코드에서는 정규 표현식 **`'[^가-힣 ]'`**은 한글 및 공백을 제외한 모든 문자를 나타낸다.\n",
        "\n",
        "* map() : 주어진 시퀀스(리스트, 튜플 등)의 각 요소에 대해 지정된 함수를 적용하여 결과를 반환하는 역할. 주로 리스트의 각 요소에 대해 동일한 작업을 적용하고자 할 때 사용합니다.\n",
        "\n",
        "* list() : 리스트로 변환하여 저장. 위의 코드에서는 map()의 결과를 리스트로 변환하여 리스트에 저장"
      ],
      "metadata": {
        "id": "gAx05-fByjuY"
      }
    },
    {
      "cell_type": "code",
      "source": [
        "# 결과 확인\n",
        "dataset[['content', 'review_prep']].head()"
      ],
      "metadata": {
        "colab": {
          "base_uri": "https://localhost:8080/",
          "height": 293
        },
        "id": "FMBBhp8iv1a2",
        "outputId": "bc97b705-e61c-40c1-b3e7-d84f03bff476"
      },
      "execution_count": 106,
      "outputs": [
        {
          "output_type": "execute_result",
          "data": {
            "text/plain": [
              "                                             content  \\\n",
              "0  인스타 중독이 걱정될 정도로 재밌게 쓰고 있었는데 최근들어 버그도 너무 많고 수정은...   \n",
              "1  문의를 남겨도 전-혀 피드백이없어서 속터지는 마음에 남기는 리뷰. 1. 릴스 영상 ...   \n",
              "2  최근게시물을 왜 볼 수 없게 해놓은건지 알것같지만 정말 답답하네요..ㅋㅋ 인기게시물...   \n",
              "3  사진 올릴때 특히 세로가 긴 사진은 짤리는 경우가 많습니다. 근데 또 지금은 안짤리...   \n",
              "4  원래 컴퓨터와 전화기에서 동시에 로그인으로 사용할수 있었는데, 왜 갑자기 전화기에서...   \n",
              "\n",
              "                                         review_prep  \n",
              "0  인스타 중독이 걱정될 정도로 재밌게 쓰고 있었는데 최근들어 버그도 너무 많고 수정은...  \n",
              "1  문의를 남겨도 전혀 피드백이없어서 속터지는 마음에 남기는 리뷰  릴스 영상 색감과 ...  \n",
              "2  최근게시물을 왜 볼 수 없게 해놓은건지 알것같지만 정말 답답하네요 인기게시물을 먼저...  \n",
              "3  사진 올릴때 특히 세로가 긴 사진은 짤리는 경우가 많습니다 근데 또 지금은 안짤리고...  \n",
              "4  원래 컴퓨터와 전화기에서 동시에 로그인으로 사용할수 있었는데 왜 갑자기 전화기에서 ...  "
            ],
            "text/html": [
              "\n",
              "  <div id=\"df-8e254cde-89cd-47f4-8105-aa74b935cc31\" class=\"colab-df-container\">\n",
              "    <div>\n",
              "<style scoped>\n",
              "    .dataframe tbody tr th:only-of-type {\n",
              "        vertical-align: middle;\n",
              "    }\n",
              "\n",
              "    .dataframe tbody tr th {\n",
              "        vertical-align: top;\n",
              "    }\n",
              "\n",
              "    .dataframe thead th {\n",
              "        text-align: right;\n",
              "    }\n",
              "</style>\n",
              "<table border=\"1\" class=\"dataframe\">\n",
              "  <thead>\n",
              "    <tr style=\"text-align: right;\">\n",
              "      <th></th>\n",
              "      <th>content</th>\n",
              "      <th>review_prep</th>\n",
              "    </tr>\n",
              "  </thead>\n",
              "  <tbody>\n",
              "    <tr>\n",
              "      <th>0</th>\n",
              "      <td>인스타 중독이 걱정될 정도로 재밌게 쓰고 있었는데 최근들어 버그도 너무 많고 수정은...</td>\n",
              "      <td>인스타 중독이 걱정될 정도로 재밌게 쓰고 있었는데 최근들어 버그도 너무 많고 수정은...</td>\n",
              "    </tr>\n",
              "    <tr>\n",
              "      <th>1</th>\n",
              "      <td>문의를 남겨도 전-혀 피드백이없어서 속터지는 마음에 남기는 리뷰. 1. 릴스 영상 ...</td>\n",
              "      <td>문의를 남겨도 전혀 피드백이없어서 속터지는 마음에 남기는 리뷰  릴스 영상 색감과 ...</td>\n",
              "    </tr>\n",
              "    <tr>\n",
              "      <th>2</th>\n",
              "      <td>최근게시물을 왜 볼 수 없게 해놓은건지 알것같지만 정말 답답하네요..ㅋㅋ 인기게시물...</td>\n",
              "      <td>최근게시물을 왜 볼 수 없게 해놓은건지 알것같지만 정말 답답하네요 인기게시물을 먼저...</td>\n",
              "    </tr>\n",
              "    <tr>\n",
              "      <th>3</th>\n",
              "      <td>사진 올릴때 특히 세로가 긴 사진은 짤리는 경우가 많습니다. 근데 또 지금은 안짤리...</td>\n",
              "      <td>사진 올릴때 특히 세로가 긴 사진은 짤리는 경우가 많습니다 근데 또 지금은 안짤리고...</td>\n",
              "    </tr>\n",
              "    <tr>\n",
              "      <th>4</th>\n",
              "      <td>원래 컴퓨터와 전화기에서 동시에 로그인으로 사용할수 있었는데, 왜 갑자기 전화기에서...</td>\n",
              "      <td>원래 컴퓨터와 전화기에서 동시에 로그인으로 사용할수 있었는데 왜 갑자기 전화기에서 ...</td>\n",
              "    </tr>\n",
              "  </tbody>\n",
              "</table>\n",
              "</div>\n",
              "    <div class=\"colab-df-buttons\">\n",
              "\n",
              "  <div class=\"colab-df-container\">\n",
              "    <button class=\"colab-df-convert\" onclick=\"convertToInteractive('df-8e254cde-89cd-47f4-8105-aa74b935cc31')\"\n",
              "            title=\"Convert this dataframe to an interactive table.\"\n",
              "            style=\"display:none;\">\n",
              "\n",
              "  <svg xmlns=\"http://www.w3.org/2000/svg\" height=\"24px\" viewBox=\"0 -960 960 960\">\n",
              "    <path d=\"M120-120v-720h720v720H120Zm60-500h600v-160H180v160Zm220 220h160v-160H400v160Zm0 220h160v-160H400v160ZM180-400h160v-160H180v160Zm440 0h160v-160H620v160ZM180-180h160v-160H180v160Zm440 0h160v-160H620v160Z\"/>\n",
              "  </svg>\n",
              "    </button>\n",
              "\n",
              "  <style>\n",
              "    .colab-df-container {\n",
              "      display:flex;\n",
              "      gap: 12px;\n",
              "    }\n",
              "\n",
              "    .colab-df-convert {\n",
              "      background-color: #E8F0FE;\n",
              "      border: none;\n",
              "      border-radius: 50%;\n",
              "      cursor: pointer;\n",
              "      display: none;\n",
              "      fill: #1967D2;\n",
              "      height: 32px;\n",
              "      padding: 0 0 0 0;\n",
              "      width: 32px;\n",
              "    }\n",
              "\n",
              "    .colab-df-convert:hover {\n",
              "      background-color: #E2EBFA;\n",
              "      box-shadow: 0px 1px 2px rgba(60, 64, 67, 0.3), 0px 1px 3px 1px rgba(60, 64, 67, 0.15);\n",
              "      fill: #174EA6;\n",
              "    }\n",
              "\n",
              "    .colab-df-buttons div {\n",
              "      margin-bottom: 4px;\n",
              "    }\n",
              "\n",
              "    [theme=dark] .colab-df-convert {\n",
              "      background-color: #3B4455;\n",
              "      fill: #D2E3FC;\n",
              "    }\n",
              "\n",
              "    [theme=dark] .colab-df-convert:hover {\n",
              "      background-color: #434B5C;\n",
              "      box-shadow: 0px 1px 3px 1px rgba(0, 0, 0, 0.15);\n",
              "      filter: drop-shadow(0px 1px 2px rgba(0, 0, 0, 0.3));\n",
              "      fill: #FFFFFF;\n",
              "    }\n",
              "  </style>\n",
              "\n",
              "    <script>\n",
              "      const buttonEl =\n",
              "        document.querySelector('#df-8e254cde-89cd-47f4-8105-aa74b935cc31 button.colab-df-convert');\n",
              "      buttonEl.style.display =\n",
              "        google.colab.kernel.accessAllowed ? 'block' : 'none';\n",
              "\n",
              "      async function convertToInteractive(key) {\n",
              "        const element = document.querySelector('#df-8e254cde-89cd-47f4-8105-aa74b935cc31');\n",
              "        const dataTable =\n",
              "          await google.colab.kernel.invokeFunction('convertToInteractive',\n",
              "                                                    [key], {});\n",
              "        if (!dataTable) return;\n",
              "\n",
              "        const docLinkHtml = 'Like what you see? Visit the ' +\n",
              "          '<a target=\"_blank\" href=https://colab.research.google.com/notebooks/data_table.ipynb>data table notebook</a>'\n",
              "          + ' to learn more about interactive tables.';\n",
              "        element.innerHTML = '';\n",
              "        dataTable['output_type'] = 'display_data';\n",
              "        await google.colab.output.renderOutput(dataTable, element);\n",
              "        const docLink = document.createElement('div');\n",
              "        docLink.innerHTML = docLinkHtml;\n",
              "        element.appendChild(docLink);\n",
              "      }\n",
              "    </script>\n",
              "  </div>\n",
              "\n",
              "\n",
              "<div id=\"df-f9f9aa36-24be-4017-b7d2-420f09d7e523\">\n",
              "  <button class=\"colab-df-quickchart\" onclick=\"quickchart('df-f9f9aa36-24be-4017-b7d2-420f09d7e523')\"\n",
              "            title=\"Suggest charts\"\n",
              "            style=\"display:none;\">\n",
              "\n",
              "<svg xmlns=\"http://www.w3.org/2000/svg\" height=\"24px\"viewBox=\"0 0 24 24\"\n",
              "     width=\"24px\">\n",
              "    <g>\n",
              "        <path d=\"M19 3H5c-1.1 0-2 .9-2 2v14c0 1.1.9 2 2 2h14c1.1 0 2-.9 2-2V5c0-1.1-.9-2-2-2zM9 17H7v-7h2v7zm4 0h-2V7h2v10zm4 0h-2v-4h2v4z\"/>\n",
              "    </g>\n",
              "</svg>\n",
              "  </button>\n",
              "\n",
              "<style>\n",
              "  .colab-df-quickchart {\n",
              "      --bg-color: #E8F0FE;\n",
              "      --fill-color: #1967D2;\n",
              "      --hover-bg-color: #E2EBFA;\n",
              "      --hover-fill-color: #174EA6;\n",
              "      --disabled-fill-color: #AAA;\n",
              "      --disabled-bg-color: #DDD;\n",
              "  }\n",
              "\n",
              "  [theme=dark] .colab-df-quickchart {\n",
              "      --bg-color: #3B4455;\n",
              "      --fill-color: #D2E3FC;\n",
              "      --hover-bg-color: #434B5C;\n",
              "      --hover-fill-color: #FFFFFF;\n",
              "      --disabled-bg-color: #3B4455;\n",
              "      --disabled-fill-color: #666;\n",
              "  }\n",
              "\n",
              "  .colab-df-quickchart {\n",
              "    background-color: var(--bg-color);\n",
              "    border: none;\n",
              "    border-radius: 50%;\n",
              "    cursor: pointer;\n",
              "    display: none;\n",
              "    fill: var(--fill-color);\n",
              "    height: 32px;\n",
              "    padding: 0;\n",
              "    width: 32px;\n",
              "  }\n",
              "\n",
              "  .colab-df-quickchart:hover {\n",
              "    background-color: var(--hover-bg-color);\n",
              "    box-shadow: 0 1px 2px rgba(60, 64, 67, 0.3), 0 1px 3px 1px rgba(60, 64, 67, 0.15);\n",
              "    fill: var(--button-hover-fill-color);\n",
              "  }\n",
              "\n",
              "  .colab-df-quickchart-complete:disabled,\n",
              "  .colab-df-quickchart-complete:disabled:hover {\n",
              "    background-color: var(--disabled-bg-color);\n",
              "    fill: var(--disabled-fill-color);\n",
              "    box-shadow: none;\n",
              "  }\n",
              "\n",
              "  .colab-df-spinner {\n",
              "    border: 2px solid var(--fill-color);\n",
              "    border-color: transparent;\n",
              "    border-bottom-color: var(--fill-color);\n",
              "    animation:\n",
              "      spin 1s steps(1) infinite;\n",
              "  }\n",
              "\n",
              "  @keyframes spin {\n",
              "    0% {\n",
              "      border-color: transparent;\n",
              "      border-bottom-color: var(--fill-color);\n",
              "      border-left-color: var(--fill-color);\n",
              "    }\n",
              "    20% {\n",
              "      border-color: transparent;\n",
              "      border-left-color: var(--fill-color);\n",
              "      border-top-color: var(--fill-color);\n",
              "    }\n",
              "    30% {\n",
              "      border-color: transparent;\n",
              "      border-left-color: var(--fill-color);\n",
              "      border-top-color: var(--fill-color);\n",
              "      border-right-color: var(--fill-color);\n",
              "    }\n",
              "    40% {\n",
              "      border-color: transparent;\n",
              "      border-right-color: var(--fill-color);\n",
              "      border-top-color: var(--fill-color);\n",
              "    }\n",
              "    60% {\n",
              "      border-color: transparent;\n",
              "      border-right-color: var(--fill-color);\n",
              "    }\n",
              "    80% {\n",
              "      border-color: transparent;\n",
              "      border-right-color: var(--fill-color);\n",
              "      border-bottom-color: var(--fill-color);\n",
              "    }\n",
              "    90% {\n",
              "      border-color: transparent;\n",
              "      border-bottom-color: var(--fill-color);\n",
              "    }\n",
              "  }\n",
              "</style>\n",
              "\n",
              "  <script>\n",
              "    async function quickchart(key) {\n",
              "      const quickchartButtonEl =\n",
              "        document.querySelector('#' + key + ' button');\n",
              "      quickchartButtonEl.disabled = true;  // To prevent multiple clicks.\n",
              "      quickchartButtonEl.classList.add('colab-df-spinner');\n",
              "      try {\n",
              "        const charts = await google.colab.kernel.invokeFunction(\n",
              "            'suggestCharts', [key], {});\n",
              "      } catch (error) {\n",
              "        console.error('Error during call to suggestCharts:', error);\n",
              "      }\n",
              "      quickchartButtonEl.classList.remove('colab-df-spinner');\n",
              "      quickchartButtonEl.classList.add('colab-df-quickchart-complete');\n",
              "    }\n",
              "    (() => {\n",
              "      let quickchartButtonEl =\n",
              "        document.querySelector('#df-f9f9aa36-24be-4017-b7d2-420f09d7e523 button');\n",
              "      quickchartButtonEl.style.display =\n",
              "        google.colab.kernel.accessAllowed ? 'block' : 'none';\n",
              "    })();\n",
              "  </script>\n",
              "</div>\n",
              "    </div>\n",
              "  </div>\n"
            ]
          },
          "metadata": {},
          "execution_count": 106
        }
      ]
    },
    {
      "cell_type": "markdown",
      "source": [
        "\n",
        "* re.sub() : 정규 표현식에 매치되는 부분을 공백으로 치환하여 해당 리뷰의 문자열을 반환\n",
        "\n",
        "* lambda : 함수를 사용하여 각 리뷰에 대해 정규 표현식을 적용한다. 위의 코드에서는 정규 표현식 **`'[^가-힣 ]'`**은 한글 및 공백을 제외한 모든 문자를 나타낸다.\n",
        "\n",
        "* map() : 주어진 시퀀스(리스트, 튜플 등)의 각 요소에 대해 지정된 함수를 적용하여 결과를 반환하는 역할. 주로 리스트의 각 요소에 대해 동일한 작업을 적용하고자 할 때 사용합니다.\n",
        "\n",
        "* list() : 리스트로 변환하여 저장. 위의 코드에서는 map()의 결과를 리스트로 변환하여 리스트에 저장"
      ],
      "metadata": {
        "id": "6pM9Hi3pcUh9"
      }
    },
    {
      "cell_type": "markdown",
      "source": [
        "**요약**\n",
        "\n",
        "한글 외 특수문자, 숫자, 영문 등은 서비스 경험과 관련된 의미를 추출하기 어려워 lambda를 활용해 각 리뷰에 대해 정규 표현식을 적용하여 한글 외의 텍스트를 제거했습니다."
      ],
      "metadata": {
        "id": "Tu-oUS1xcWmN"
      }
    },
    {
      "cell_type": "markdown",
      "source": [
        "## 4) 평점 기준 데이터 분리"
      ],
      "metadata": {
        "id": "xsYxXKdbOIVn"
      }
    },
    {
      "cell_type": "markdown",
      "source": [
        "구글 플레이 스토어는 평점이 5점 만점입니다. 따라서 본 프로젝트에서는 4~5점을 긍정적인 평가를 받은 리뷰로, 1~2점을 부정적인 평가를 받은 리뷰로 분류하였습니다. 이는 서비스 이용 경험과 관련한 리뷰 내용이 긍정적인지, 부정적인지를 구분하기 위한 목적입니다."
      ],
      "metadata": {
        "id": "27ZCK7ULcYcc"
      }
    },
    {
      "cell_type": "code",
      "source": [
        "# 긍정적 리뷰(평점 5점 만점 기준 4, 5점)\n",
        "review_pos = dataset[(4 == dataset['score']) | (dataset['score'] == 5)]['review_prep']\n",
        "# 부정적 리뷰(평점 5점 만점 기준 1, 2점)\n",
        "review_neg = dataset[(1 == dataset['score']) | (dataset['score'] == 2)]['review_prep']"
      ],
      "metadata": {
        "id": "JCbIYBmMMmel"
      },
      "execution_count": 107,
      "outputs": []
    },
    {
      "cell_type": "markdown",
      "source": [
        "**요약**\n",
        "\n",
        "review_pos에는 4,5점을 받은 리뷰로 분류하고,\n",
        "\n",
        "review_neg에는 1,2점을 받은 리뷰로 데이터를 분류했습니다."
      ],
      "metadata": {
        "id": "GzQ5Bobkca23"
      }
    },
    {
      "cell_type": "markdown",
      "source": [
        "## 5) 토큰화"
      ],
      "metadata": {
        "id": "BG5j7bODOKHH"
      }
    },
    {
      "cell_type": "markdown",
      "source": [
        "원본 프로젝트에서는 KoNLPy에서 속도 및 토큰화 측면에서 성능이 가장 우수한 Mecab 형태소 분석기를 활용했습니다. 하지만 코랩 환경에서는 동작하기 어렵기 때문에 okt 형태소 분석기를 활용했습니다.<br>\n",
        "특히, 명사가 문장 내 맥락을 파악하는 데 핵심 형태소이며 빈출 어휘를 쉽게 파악할 수 있다는 장점이 있기 때문에, 리뷰에서 명사만 추출하였습니다."
      ],
      "metadata": {
        "id": "fmjeSzalcg2E"
      }
    },
    {
      "cell_type": "code",
      "source": [
        "review_tokenized_pos = list(map(lambda review: okt.nouns(review), review_pos))\n",
        "review_tokenized_neg = list(map(lambda review: okt.nouns(review), review_neg))"
      ],
      "metadata": {
        "id": "pKm9ee0HMoOD"
      },
      "execution_count": 108,
      "outputs": []
    },
    {
      "cell_type": "markdown",
      "source": [
        "**코드 분석**\n",
        "\n",
        "1. `review_tokenized_pos = list(map(lambda review: mecab.nouns(review), review_pos))`:\n",
        "    - `review_pos`라는 리스트(또는 시퀀스)에 있는 각 리뷰에 대해 `mecab.nouns()` 함수를 적용합니다.\n",
        "    - `lambda` 함수를 사용하여 각 리뷰에 대해 `mecab.nouns()` 함수를 호출합니다. `mecab.nouns()` 함수는 해당 리뷰에서 명사만 추출합니다.\n",
        "    - `map()` 함수를 사용하여 각 리뷰에 대해 `mecab.nouns()` 함수를 적용하고, 그 결과를 새로운 리스트인 `review_tokenized_pos`에 저장합니다.\n",
        "2. `review_tokenized_neg = list(map(lambda review: mecab.nouns(review), review_neg))`:\n",
        "    - `review_neg`라는 리스트(또는 시퀀스)에 있는 각 리뷰에 대해 `mecab.nouns()` 함수를 적용합니다. 마찬가지로 `lambda` 함수를 사용하여 각 리뷰에 대해 `mecab.nouns()` 함수를 호출하여 명사만 추출합니다.\n",
        "    - `map()` 함수를 사용하여 각 리뷰에 대해 `mecab.nouns()` 함수를 적용하고, 그 결과를 새로운 리스트인 `review_tokenized_neg`에 저장합니다."
      ],
      "metadata": {
        "id": "6xhObrPOcy8j"
      }
    },
    {
      "cell_type": "markdown",
      "source": [
        "**요약**\n",
        "\n",
        "긍정적인 리뷰와 부정적인 리뷰에서 명사만 추출하여 각각 review_tokenized_pos와 review_tokenized_neg에 저장했습니다."
      ],
      "metadata": {
        "id": "PFtqCMkyc1HW"
      }
    },
    {
      "cell_type": "markdown",
      "source": [
        "## 6) 불용어 제거"
      ],
      "metadata": {
        "id": "rURv8QpROMF7"
      }
    },
    {
      "cell_type": "markdown",
      "source": [
        "토큰화 후 토큰이 2글자인 경우 불용어에 해당되지 않는 토큰만 분석에 활용합니다. 토큰이 1글자인 경우에는 1글자 키워드 리스트에 포함되는 토큰만 분석에 활용합니다."
      ],
      "metadata": {
        "id": "Eo6G4HIhc3Z_"
      }
    },
    {
      "cell_type": "code",
      "source": [
        "def remove_stopword(tokens):\n",
        "    review_removed_stopword = []\n",
        "    for token in tokens:\n",
        "        # 토큰의 글자 수가 2글자 이상이고, 불용어가 아닌 경우를 분석용 리뷰 데이터로 포함\n",
        "        if len(token) > 1 and token not in list(stopword_list['stopword']):\n",
        "            review_removed_stopword.append(token)\n",
        "    return review_removed_stopword"
      ],
      "metadata": {
        "id": "WB7QqsjTMp6v"
      },
      "execution_count": 109,
      "outputs": []
    },
    {
      "cell_type": "code",
      "source": [
        "review_removed_stopword_pos = list(map(lambda tokens : remove_stopword(tokens), review_tokenized_pos))\n",
        "review_removed_stopword_neg = list(map(lambda tokens : remove_stopword(tokens), review_tokenized_neg))"
      ],
      "metadata": {
        "id": "2Tbm67o3MqEe"
      },
      "execution_count": 110,
      "outputs": []
    },
    {
      "cell_type": "markdown",
      "source": [
        "`review_tokenized_pos` 리스트에 있는 각 토큰 리스트에 대해 `remove_stopword` 함수를 적용합니다.\n",
        "\n",
        "`lambda` 함수를 사용하여 각 토큰 리스트에 대해 `remove_stopword` 함수를 호출합니다. 이렇게 하면 각 토큰 리스트에서 불용어가 제거된 토큰들의 리스트가 반환됩니다.\n",
        "\n",
        "`review_tokenized_neg` 리스트에 있는 각 토큰 리스트에 대해도 마찬가지로 `remove_stopword` 함수를 적용하여 불용어를 제거합니다."
      ],
      "metadata": {
        "id": "3qLbBG1PdFUQ"
      }
    },
    {
      "cell_type": "markdown",
      "source": [
        "**요약**\n",
        "\n",
        "토큰화 이후 토큰의 글자 수가 2글자 이상이고, 불용어가 아닌 경우를 분석용 리뷰 데이터로 포함했습니다.\n",
        "\n",
        "이후, 긍정적인 리뷰review_tokenized_pos와 부정적인 리뷰 review_tokenized_neg에서 불용어를 제거하여 각각 review_removed_stopword_pos와 review_removed_stopword_neg에 저장했습니다."
      ],
      "metadata": {
        "id": "K6cLtcyudIBg"
      }
    },
    {
      "cell_type": "markdown",
      "source": [
        "## 7) 특정 토큰 개수의 리뷰 선별"
      ],
      "metadata": {
        "id": "a5xpLWQcOOmm"
      }
    },
    {
      "cell_type": "code",
      "source": [
        "MIN_TOKEN_NUMBER = 3 # 최소 토큰 개수\n",
        "MAX_TOKEN_NUMBER = 15 # 최대 토큰 개수"
      ],
      "metadata": {
        "id": "1KTISXnrMtCG"
      },
      "execution_count": 111,
      "outputs": []
    },
    {
      "cell_type": "markdown",
      "source": [
        "일반적으로, 리뷰의 길이가 길수록 사용자 경험이나 기술적 문제 등 사용자 의견이 많이 내포되어 있을 가능성이 높습니다. 하지만, 오히려 지나치게 길이가 긴 리뷰는 주제 파악이나 리뷰 내 단어 간의 조합을 활용하여 특징을 추출하는 데 어려움이 있을 수 있습니다[(Vasa et al., 2012)](https://dl.acm.org/doi/abs/10.1145/2414536.2414577?casa_token=OQqZbuik4RwAAAAA:_FOT4Fl0bj1reHDV7BNObsGIM1XR6Z7o3TZyBQeIoIX6aEGcUMKhUSMOQv0ytkc9lu3_x7ZI6jDbTVc).\n",
        "\n",
        "따라서 본 프로젝트에서는 각 리뷰에서 추출된 명사의 개수가 `3개 이상 15개 이하`인 리뷰만을 분석에 활용하였습니다."
      ],
      "metadata": {
        "id": "L7BZ__mfdKI2"
      }
    },
    {
      "cell_type": "code",
      "source": [
        "def select_review(review_removed_stopword):\n",
        "    review_prep = []\n",
        "    for tokens in review_removed_stopword:\n",
        "        if MIN_TOKEN_NUMBER <= len(tokens) <= MAX_TOKEN_NUMBER:\n",
        "            review_prep.append(tokens)\n",
        "    return review_prep"
      ],
      "metadata": {
        "id": "HKXHFVO5Mt15"
      },
      "execution_count": 112,
      "outputs": []
    },
    {
      "cell_type": "markdown",
      "source": [
        "**코드 분석**\n",
        "\n",
        "1. `def select_review(review_removed_stopword):`: `select_review`라는 함수를 정의합니다. 이 함수는 `review_removed_stopword`라는 매개변수를 받습니다. `review_removed_stopword`는 불용어가 제거된 토큰들로 이루어진 리스트입니다.\n",
        "2. `review_prep = []`: 빈 리스트 `review_prep`를 생성합니다. 이 리스트에는 선택된 리뷰가 저장됩니다.\n",
        "3. `for tokens in review_removed_stopword:`: `review_removed_stopword` 리스트에 있는 각 토큰 리스트에 대해 반복문을 실행합니다. 각 토큰 리스트는 불용어가 제거된 토큰들을 포함합니다.\n",
        "4. `if MIN_TOKEN_NUMBER <= len(tokens) <= MAX_TOKEN_NUMBER:`: 토큰 리스트의 길이가 `MIN_TOKEN_NUMBER`보다 크고 `MAX_TOKEN_NUMBER`보다 작거나 같은지 확인합니다. 이는 토큰의 길이가 특정 범위에 있는지 검사하는 조건입니다.\n",
        "5. `review_prep.append(tokens)`: 만약 토큰의 길이가 조건에 맞으면 해당 토큰 리스트를 `review_prep`에 추가합니다.\n",
        "6. `return review_prep`: 선택된 리뷰들이 저장된 `review_prep` 리스트를 반환합니다."
      ],
      "metadata": {
        "id": "hX22WwYgdPNc"
      }
    },
    {
      "cell_type": "code",
      "source": [
        "review_prep_pos = select_review(review_removed_stopword_pos)\n",
        "review_prep_neg = select_review(review_removed_stopword_neg)"
      ],
      "metadata": {
        "id": "CX0l_PC2Mu_J"
      },
      "execution_count": 113,
      "outputs": []
    },
    {
      "cell_type": "markdown",
      "source": [
        "* select_review() : 함수에서 정의된 조건에 따라 길이가 일정 범위 내에 있는 토큰들이 선택"
      ],
      "metadata": {
        "id": "cr3bnbeNdRGt"
      }
    },
    {
      "cell_type": "markdown",
      "source": [
        "**요약**\n",
        "\n",
        "리뷰의 길이가 길수록 사용자 경험이나 기술적 문제 등 사용자 의견이 많이 내포되어 있을 가능성이 높습니다. 하지만, 오히려 지나치게 길이가 긴 리뷰는 주제 파악이나 리뷰 내 단어 간의 조합을 활용하여 특징을 추출하는 데 어려움이 있을 수 있습니다.\n",
        "\n",
        "그래서 각 리뷰에서 추출된 명사가 3개 이상 15개 이하인 리뷰만 추출하여 review_prep에 추가했습니다.\n",
        "\n",
        "이후, review_prep에서 긍정적 리뷰는 review_prep_pos에 추가하고, 부정적 리뷰는 review_prep_neg에 추가했습니다."
      ],
      "metadata": {
        "id": "O3Y-4mb_dSly"
      }
    },
    {
      "cell_type": "markdown",
      "source": [
        "## 8) 전처리 결과 확인"
      ],
      "metadata": {
        "id": "wloeZhwcOSej"
      }
    },
    {
      "cell_type": "code",
      "source": [
        "review_num_pos = len(review_prep_pos)\n",
        "review_num_neg = len(review_prep_neg)\n",
        "review_num_tot = review_num_pos + review_num_neg\n",
        "\n",
        "print(f\"분석한 리뷰 총 개수: {review_num_tot}\")\n",
        "print(f\"긍정적 리뷰: {review_num_pos}개({(review_num_pos/review_num_tot)*100:.2f}%)\")\n",
        "print(f\"부정적 리뷰: {review_num_neg}개({(review_num_neg/review_num_tot)*100:.2f}%)\")"
      ],
      "metadata": {
        "id": "40a1GPukMwCg",
        "colab": {
          "base_uri": "https://localhost:8080/"
        },
        "outputId": "745c3eb6-49ca-480a-b667-fed864d9b854"
      },
      "execution_count": 114,
      "outputs": [
        {
          "output_type": "stream",
          "name": "stdout",
          "text": [
            "분석한 리뷰 총 개수: 326\n",
            "긍정적 리뷰: 152개(46.63%)\n",
            "부정적 리뷰: 174개(53.37%)\n"
          ]
        }
      ]
    },
    {
      "cell_type": "markdown",
      "source": [
        "분석한 리뷰의 개수를 len함수를 통해 알아보겠습니다.\n",
        "\n",
        "review_num_pos와 review_num_neg를 더하면 총 리뷰가 되기 때문에 review_num_tot를 생성하고 print 함수를 통해 총 리뷰 개수와 긍정적 리뷰, 부정적 리뷰의 개수를 알아 보겠습니다."
      ],
      "metadata": {
        "id": "v4d-qjE_dVVx"
      }
    },
    {
      "cell_type": "markdown",
      "source": [
        "# 3. LDA 토픽 모델링"
      ],
      "metadata": {
        "id": "dTNLOygFMyrp"
      }
    },
    {
      "cell_type": "markdown",
      "source": [
        "## 1) 하이퍼파라미터 튜닝"
      ],
      "metadata": {
        "id": "LCo-UIjsOh98"
      }
    },
    {
      "cell_type": "markdown",
      "source": [
        "토픽의 개수와 학습 횟수는 하이퍼파라미터입니다. 본 프로젝트에서는 긍정적 리뷰와 부정적 리뷰 각각에서 토픽 10개씩을 추출합니다. 학습 횟수는 PASSES 옵션으로 변경하며 전체 문서 데이터를 몇 번 학습할지 결정합니다.\n",
        "\n",
        "* 하이퍼파라미터 : 모델을 학습시키기 위해 사전에 사용자가 설정해야 하는 매개변수들\n",
        "\n",
        "* PASSES : 모델을 토픽 모델에 반복하여 입력하고 학습하는 단계의 수"
      ],
      "metadata": {
        "id": "RN_5OMSndlhM"
      }
    },
    {
      "cell_type": "code",
      "source": [
        "NUM_TOPICS = 10 # 토픽 개수는 하이퍼파라미터\n",
        "# passes: 딥러닝에서 Epoch와 같은 개념으로, 전체 corpus로 모델 학습 횟수 결정\n",
        "PASSES = 15"
      ],
      "metadata": {
        "id": "Mybiy3RFM0yK"
      },
      "execution_count": 115,
      "outputs": []
    },
    {
      "cell_type": "markdown",
      "source": [
        "## 2) 모델 학습 함수"
      ],
      "metadata": {
        "id": "Xd84etO0OkWQ"
      }
    },
    {
      "cell_type": "markdown",
      "source": [
        "lda_modeling은 우리가 만들 토픽 모델링을 수행하는 함수입니다."
      ],
      "metadata": {
        "id": "QiE_z5BVdngD"
      }
    },
    {
      "cell_type": "code",
      "source": [
        "def lda_modeling(review_prep):\n",
        "    # 단어 인코딩 및 빈도수 계산\n",
        "    dictionary = corpora.Dictionary(review_prep)\n",
        "    corpus = [dictionary.doc2bow(review) for review in review_prep]\n",
        "    # LDA 모델 학습\n",
        "    model = gensim.models.ldamodel.LdaModel(corpus,\n",
        "                                            num_topics = NUM_TOPICS,\n",
        "                                            id2word = dictionary,\n",
        "                                            passes = PASSES)\n",
        "    return model, corpus, dictionary"
      ],
      "metadata": {
        "id": "JITIS2TZM2yT"
      },
      "execution_count": 116,
      "outputs": []
    },
    {
      "cell_type": "markdown",
      "source": [
        "**코드 분석**\n",
        "\n",
        "1. `def lda_modeling(review_prep):`: `lda_modeling`이라는 함수를 정의하며, `review_prep`라는 매개변수를 받습니다. 이 매개변수는 토픽 모델링을 수행할 대상인 전처리된 리뷰 데이터입니다.\n",
        "2. `dictionary = corpora.Dictionary(review_prep)`: `corpora.Dictionary`를 사용하여 단어 사전(dictionary)을 생성합니다. 이 사전은 전처리된 리뷰 데이터에 있는 단어들을 고유한 정수로 매핑합니다.\n",
        "    \n",
        "    * corpora.Dictionary : Gensim 라이브러리에서 제공하는 도구로, 텍스트 문서를 표현하는 딕셔너리를 생성하는 역할\n",
        "    \n",
        "    - corpora 사용 예시\n",
        "        \n",
        "        ```python\n",
        "        from gensim import corpora\n",
        "        \n",
        "        # 간단한 텍스트 문서들\n",
        "        documents = [\n",
        "            ['apple', 'banana', 'cherry'],\n",
        "            ['banana', 'orange', 'kiwi'],\n",
        "            ['apple', 'cherry', 'orange', 'banana']\n",
        "        ]\n",
        "        \n",
        "        # Dictionary 생성\n",
        "        dictionary = corpora.Dictionary(documents)\n",
        "        \n",
        "        # 각 단어의 고유 ID 확인\n",
        "        print(dictionary.token2id)  # 단어에 대한 ID 매핑\n",
        "        \n",
        "        # 특정 단어의 ID 얻기\n",
        "        print(dictionary.token2id.get('banana'))  # banana에 대한 ID\n",
        "        ```\n",
        "        \n",
        "        이렇게 생성된 딕셔너리를 사용하여 텍스트 데이터를 수치화하여 다양한 자연어 처리 작업에 활용할 수 있습니다.\n",
        "        \n",
        "3. `corpus = [dictionary.doc2bow(review) for review in review_prep]`: 단어 빈도수 계산을 위해 `doc2bow`를 사용하여 각 리뷰를 단어 빈도수 형태(corpus)로 변환합니다. 이 형태는 단어의 인덱스와 해당 단어의 빈도수를 포함합니다.\n",
        "    \n",
        "    * doc2bow : Gensim 라이브러리에서 제공하는 메서드로, 문서를 Bag-of-Words 형태로 변환하는 역할을 합니다. Bag-of-Words는 텍스트 데이터를 단어의 등장 빈도로 표현한 것으로, 단어의 등장 순서는 고려하지 않습니다.\n",
        "    \n",
        "    - doc2bow 사용 예시\n",
        "        \n",
        "        ```python\n",
        "        from gensim import corpora\n",
        "        \n",
        "        # Dictionary 생성 (단어에 ID 부여)\n",
        "        dictionary = corpora.Dictionary([\n",
        "            ['apple', 'banana', 'cherry'],\n",
        "            ['banana', 'orange', 'kiwi'],\n",
        "            ['apple', 'cherry', 'orange', 'banana']\n",
        "        ])\n",
        "        \n",
        "        # 문서 예시\n",
        "        document = ['apple', 'banana', 'banana', 'cherry']\n",
        "        \n",
        "        # 문서를 Bag-of-Words로 변환\n",
        "        bow_document = dictionary.doc2bow(document)\n",
        "        print(bow_document)\n",
        "        ```\n",
        "        \n",
        "        출력\n",
        "        \n",
        "        ```python\n",
        "        [(0, 1), (1, 2), (2, 1)]\n",
        "        ```\n",
        "        \n",
        "4. LDA 모델 학습:\n",
        "    - `model = gensim.models.ldamodel.LdaModel(...)`: `gensim` 라이브러리를 사용하여 LDA 모델을 생성합니다.\n",
        "    - `corpus`: 앞서 변환한 단어 빈도수 형태(corpus)를 입력 데이터로 사용합니다.\n",
        "    - `num_topics = NUM_TOPICS`: 토픽의 개수를 설정합니다. `NUM_TOPICS`는 미리 정의된 상수(10 하이퍼파라미터 튜닝에서 정의함)로, 토픽의 개수를 나타냅니다.\n",
        "    - `id2word = dictionary`: 앞서 생성한 단어 사전을 사용하여 단어와 단어의 인덱스를 연결합니다.\n",
        "    - `passes = PASSES`: LDA 모델 학습을 위해 데이터를 반복적으로 사용하는 횟수를 나타냅니다. `PASSES`는 미리 정의된 상수(15 하이퍼파라미터 튜닝에서 정의함)로, 학습 반복 횟수를 나타냅니다.\n",
        "5. `return model, corpus, dictionary`: 학습된 LDA 모델(`model`), 단어 빈도수 형태(`corpus`), 그리고 단어 사전(`dictionary`)을 반환합니다."
      ],
      "metadata": {
        "id": "vTU7xsBadp-Y"
      }
    },
    {
      "cell_type": "markdown",
      "source": [
        "## 3) 토픽별 단어 구성 출력 함수"
      ],
      "metadata": {
        "id": "guRCigmCOlzj"
      }
    },
    {
      "cell_type": "code",
      "source": [
        "import pandas as pd\n",
        "from google.colab import files\n",
        "\n",
        "def print_topic_prop(topics, RATING):\n",
        "    topic_values = [topic[1] for topic in topics]\n",
        "    topic_prop = pd.DataFrame({\"topic_num\": list(range(1, NUM_TOPICS + 1)), \"word_prop\": topic_values})\n",
        "\n",
        "    # Excel 파일로 저장, 본인 경로로 수정 필요\n",
        "    file_path = f'/content/drive/MyDrive/dongguk/topic_prop_{RATING}.xlsx'\n",
        "    topic_prop.to_excel(file_path)\n",
        "\n",
        "    # 파일을 다운로드\n",
        "    files.download(file_path)\n"
      ],
      "metadata": {
        "id": "_888d2z6M4JV"
      },
      "execution_count": 117,
      "outputs": []
    },
    {
      "cell_type": "markdown",
      "source": [
        "토픽별로 구성된 단어의 비율을 출력하는 함수입니다."
      ],
      "metadata": {
        "id": "8zQWIZj7dx2A"
      }
    },
    {
      "cell_type": "markdown",
      "source": [
        "**코드 분석**\n",
        "\n",
        "1. `def print_topic_prop(topics, RATING):`: `print_topic_prop`이라는 함수를 정의하며, `topics`와 `RATING`이라는 두 개의 매개변수를 받습니다. `topics`는 각 토픽의 단어 분포를 나타내는 정보를 담고 있는 리스트이고, `RATING`은 토픽 분석을 수행한 리뷰의 평가 등급을 나타냅니다.\n",
        "2. `topic_values = []`: 각 토픽의 단어 분포 값을 저장할 빈 리스트 `topic_values`를 생성합니다.\n",
        "3. 토픽별로 단어 분포 값을 `topic_values`에 저장:\n",
        "    - `for topic in topics:`: `topics` 리스트에 있는 각 토픽에 대해 반복합니다.\n",
        "    - `topic_value = topic[1]`: 각 토픽에서 단어 분포 값을 가져와 `topic_value`에 저장합니다.\n",
        "    - `topic_values.append(topic_value)`: `topic_value`를 `topic_values` 리스트에 추가합니다.\n",
        "4. 토픽별 단어 분포를 데이터프레임으로 정리하고 엑셀 파일로 출력:\n",
        "    - `topic_prop = pd.DataFrame(...)`: 토픽 번호와 해당 토픽의 단어 분포 값을 데이터프레임으로 정리합니다.\n",
        "    - `topic_prop.to_excel('./result/topic_prop_' + RATING + '.xlsx')`: 정리한 데이터프레임을 엑셀 파일로 저장합니다. 파일명은 `topic_prop_RATING.xlsx` 형식으로 지정됩니다. `RATING`은 평가 등급을 나타내는 변수입니다.\n",
        "    - `display(topic_prop)`: 정리한 데이터프레임을 화면에 출력합니다."
      ],
      "metadata": {
        "id": "Iz-oIBxad0ew"
      }
    },
    {
      "cell_type": "markdown",
      "source": [
        "## 4) 시각화 함수"
      ],
      "metadata": {
        "id": "SA1XQAsIOos6"
      }
    },
    {
      "cell_type": "code",
      "source": [
        "import os\n",
        "import pyLDAvis\n",
        "import pyLDAvis.gensim_models\n",
        "\n",
        "def lda_visualize(model, corpus, dictionary, RATING, result_dir):\n",
        "    pyLDAvis.enable_notebook()\n",
        "    result_visualized = pyLDAvis.gensim_models.prepare(model, corpus, dictionary)\n",
        "    pyLDAvis.display(result_visualized)\n",
        "\n",
        "    # 시각화 결과 저장\n",
        "    RESULT_FILE = os.path.join(result_dir, f'lda_result_{RATING}.html')\n",
        "    pyLDAvis.save_html(result_visualized, RESULT_FILE)"
      ],
      "metadata": {
        "id": "UGTRnY8oM5n4"
      },
      "execution_count": 118,
      "outputs": []
    },
    {
      "cell_type": "markdown",
      "source": [
        "## 5) 긍정적 리뷰 토픽 모델링"
      ],
      "metadata": {
        "id": "OEfwUIhVOqqs"
      }
    },
    {
      "cell_type": "code",
      "source": [
        "model, corpus, dictionary = lda_modeling(review_prep_pos)\n",
        "NUM_WORDS = 10"
      ],
      "metadata": {
        "id": "f9eCpd2XM6rw"
      },
      "execution_count": 119,
      "outputs": []
    },
    {
      "cell_type": "code",
      "source": [
        "RATING = 'pos'\n",
        "topics = model.print_topics(num_words = NUM_WORDS)\n",
        "print_topic_prop(topics, RATING)"
      ],
      "metadata": {
        "id": "XgReMBwYNAc0",
        "colab": {
          "base_uri": "https://localhost:8080/",
          "height": 17
        },
        "outputId": "1988fd44-0060-4d9c-f794-de49eac60c1a"
      },
      "execution_count": 120,
      "outputs": [
        {
          "output_type": "display_data",
          "data": {
            "text/plain": [
              "<IPython.core.display.Javascript object>"
            ],
            "application/javascript": [
              "\n",
              "    async function download(id, filename, size) {\n",
              "      if (!google.colab.kernel.accessAllowed) {\n",
              "        return;\n",
              "      }\n",
              "      const div = document.createElement('div');\n",
              "      const label = document.createElement('label');\n",
              "      label.textContent = `Downloading \"${filename}\": `;\n",
              "      div.appendChild(label);\n",
              "      const progress = document.createElement('progress');\n",
              "      progress.max = size;\n",
              "      div.appendChild(progress);\n",
              "      document.body.appendChild(div);\n",
              "\n",
              "      const buffers = [];\n",
              "      let downloaded = 0;\n",
              "\n",
              "      const channel = await google.colab.kernel.comms.open(id);\n",
              "      // Send a message to notify the kernel that we're ready.\n",
              "      channel.send({})\n",
              "\n",
              "      for await (const message of channel.messages) {\n",
              "        // Send a message to notify the kernel that we're ready.\n",
              "        channel.send({})\n",
              "        if (message.buffers) {\n",
              "          for (const buffer of message.buffers) {\n",
              "            buffers.push(buffer);\n",
              "            downloaded += buffer.byteLength;\n",
              "            progress.value = downloaded;\n",
              "          }\n",
              "        }\n",
              "      }\n",
              "      const blob = new Blob(buffers, {type: 'application/binary'});\n",
              "      const a = document.createElement('a');\n",
              "      a.href = window.URL.createObjectURL(blob);\n",
              "      a.download = filename;\n",
              "      div.appendChild(a);\n",
              "      a.click();\n",
              "      div.remove();\n",
              "    }\n",
              "  "
            ]
          },
          "metadata": {}
        },
        {
          "output_type": "display_data",
          "data": {
            "text/plain": [
              "<IPython.core.display.Javascript object>"
            ],
            "application/javascript": [
              "download(\"download_1da33667-2738-4abc-843d-e9e0a0bafac0\", \"topic_prop_pos.xlsx\", 5789)"
            ]
          },
          "metadata": {}
        }
      ]
    },
    {
      "cell_type": "code",
      "source": [
        "lda_visualize(model, corpus, dictionary, RATING, '/content/drive/MyDrive/dongguk/')\n",
        "# 마지막 요소 본인 경로로 수정 필요"
      ],
      "metadata": {
        "id": "6aDwr-Y_NCXt"
      },
      "execution_count": 121,
      "outputs": []
    },
    {
      "cell_type": "markdown",
      "source": [
        "## 6) 부정적 리뷰 토픽 모델링"
      ],
      "metadata": {
        "id": "Zn8OgvgFOtq7"
      }
    },
    {
      "cell_type": "code",
      "source": [
        "model, corpus, dictionary = lda_modeling(review_prep_neg)\n",
        "NUM_WORDS = 10"
      ],
      "metadata": {
        "id": "ZwOQJ_zpND3h"
      },
      "execution_count": 122,
      "outputs": []
    },
    {
      "cell_type": "code",
      "source": [
        "RATING = 'neg'\n",
        "topics = model.print_topics(num_words = NUM_WORDS)\n",
        "print_topic_prop(topics, RATING)"
      ],
      "metadata": {
        "id": "nNc2bAPINFJT",
        "colab": {
          "base_uri": "https://localhost:8080/",
          "height": 17
        },
        "outputId": "96a9da71-71ff-4e33-d67b-89228923ed78"
      },
      "execution_count": 123,
      "outputs": [
        {
          "output_type": "display_data",
          "data": {
            "text/plain": [
              "<IPython.core.display.Javascript object>"
            ],
            "application/javascript": [
              "\n",
              "    async function download(id, filename, size) {\n",
              "      if (!google.colab.kernel.accessAllowed) {\n",
              "        return;\n",
              "      }\n",
              "      const div = document.createElement('div');\n",
              "      const label = document.createElement('label');\n",
              "      label.textContent = `Downloading \"${filename}\": `;\n",
              "      div.appendChild(label);\n",
              "      const progress = document.createElement('progress');\n",
              "      progress.max = size;\n",
              "      div.appendChild(progress);\n",
              "      document.body.appendChild(div);\n",
              "\n",
              "      const buffers = [];\n",
              "      let downloaded = 0;\n",
              "\n",
              "      const channel = await google.colab.kernel.comms.open(id);\n",
              "      // Send a message to notify the kernel that we're ready.\n",
              "      channel.send({})\n",
              "\n",
              "      for await (const message of channel.messages) {\n",
              "        // Send a message to notify the kernel that we're ready.\n",
              "        channel.send({})\n",
              "        if (message.buffers) {\n",
              "          for (const buffer of message.buffers) {\n",
              "            buffers.push(buffer);\n",
              "            downloaded += buffer.byteLength;\n",
              "            progress.value = downloaded;\n",
              "          }\n",
              "        }\n",
              "      }\n",
              "      const blob = new Blob(buffers, {type: 'application/binary'});\n",
              "      const a = document.createElement('a');\n",
              "      a.href = window.URL.createObjectURL(blob);\n",
              "      a.download = filename;\n",
              "      div.appendChild(a);\n",
              "      a.click();\n",
              "      div.remove();\n",
              "    }\n",
              "  "
            ]
          },
          "metadata": {}
        },
        {
          "output_type": "display_data",
          "data": {
            "text/plain": [
              "<IPython.core.display.Javascript object>"
            ],
            "application/javascript": [
              "download(\"download_3604eb20-4350-4f68-9314-dc7be24033f8\", \"topic_prop_neg.xlsx\", 5793)"
            ]
          },
          "metadata": {}
        }
      ]
    },
    {
      "cell_type": "code",
      "source": [
        "lda_visualize(model, corpus, dictionary, RATING,'/content/drive/MyDrive/dongguk/')\n",
        "# 마지막 요소 본인 경로로 수정 필요"
      ],
      "metadata": {
        "id": "ZVL6H-cgNGT3"
      },
      "execution_count": 124,
      "outputs": []
    }
  ]
}